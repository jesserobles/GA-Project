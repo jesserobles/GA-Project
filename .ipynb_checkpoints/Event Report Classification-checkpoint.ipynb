{
 "cells": [
  {
   "cell_type": "markdown",
   "metadata": {},
   "source": [
    "## Licensee Event Report Classification\n",
    "\n",
    "### TL;DR\n",
    "My project is to build a model to classify documents into 16 categories. Each document can have multiple categories. The documents are scanned pdfs, so gathering the documents and extracting and cleaining the text took up most of the project time. The goal (business objective) is not to build a model with 100% accuracy, but to narrow the documents that need to be reviewed by a person to be categorized.\n",
    "\n",
    "### Background\n",
    "Certain events that occur at nuclear power reactor facilities are required to be reported by the facility license holders to the U.S. Nuclear Regulatory Commission (NRC). One of the reporting mechanisms is known as the Licensee Event Reporting (LER) System. Licensees submit the report to the U.S. NRC within 60 days of the event, either online or through the mail. In either case, the report is submitted using a standard NRC form, and ends up as a PDF in the agency's document management system as well as a dedicated LER search database. Each report is given a unique number, and occasionally licensees submit revisions to these reports that provide additional information.\n",
    "\n",
    "The purpose of these reports is for the agency staff to evaluate them and determine if any agency actions are warranted, and to communicate any lessons learned from the events to the industry. There is a dedicated team of engineers at the agency that review every report (and other sources of information not within the scope of this project) to determine which category (subject matter) the reports belong to, and hence which experts in the agency should review the report. The members of this team use their experience and engineering judgement to determine what categories each report belongs to, so there is some variability depending on which member reviews a report. Each report may have multiple categories assigned to them by the reviewer. Once the report is tagged with the categories, the technical expert(s) for each subject matter recieves a notification email that they have a new item to review in the agency's tracking database. Examples of categories include Pump and Valves, Electrical Power Systems, Human Performance, and Emergency Diesel Generators.\n",
    "\n",
    "### Objectives\n",
    "The objective of this project is to build a model or models to classify these reports into the categories. The ultimate business objective would be to reduce the amount of reports that the team of reviewers need to see, so they can dedicate more time elsewhere.\n",
    "\n",
    "### Source Data\n",
    "The LERs are available in PDF format in the Agencywide Document Accession and Management System (<a href = \"https://adams.nrc.gov/wba/\">ADAMS</a>) or the agency's <a href=\"https://lersearch.inl.gov/LERSearchCriteria.aspx\">LER Search</a>. For this project, I decided to focus on using the report abstract section rather than the entire report text, since they typically contain enough information to classify the document. Cleaning the data posed several unique challenges, and took up the majority of the time in this project. Rather than provide all of the actual PDF data, I will explain how I addressed each of these challenges and provide the functions I used, as well as an example file so that the abstract extraction process can be replicated. In order to replicate the data, you have to download each PDF from either ADAMS or the LER Search linked above.\n",
    "\n",
    "### Challenges with the PDF data\n",
    "The first challenge is that the reports are typically submitted with a cover sheet, and some reports have several pages prepended before the actual report we are interested in. For example, this <a href=\"https://lersearch.inl.gov/PDFView.ashx?DOC::2592017001R00.PDF\">report</a> actually starts on the third page. To find the first page, I used PyPDF2 to extract the text for each page, and search the text for certain keywords (e.g., Abstract or 366). If the page contained these keywords, it is very likely to be the first page. There were several reports that were submitted at the same time and are in the same PDF, so some manual fixed were necessary to split those files up.\n",
    "\n",
    "The next challenge was to remove some of the extraneous boilerplate text from the top of the first page and obtain only the abstract of the report. I accomplished this by using pdfminer.six to extract each horizontal text line with their coordinates, as well as the dimensions of each page in order to calculate the relative coordinates of the start of the abstract area. To get the target area, I searched for lines that contain the word \"ABSTRACT\" (I used a regular expression because sometimes ABSTRACT shows up slightly misspelled), and gathered the text with vertical coordinates below that. Some documents did not contain \"ABSTRACT\". In those cases, I used the average abstract relative coordinates and used the text below those coordinates.\n",
    "\n",
    "Finally, PDF quality varies in the source data, so there are several low-quality PDF documents. These low quality PDFs make extracting the abstract difficult and would provide little value to the model. To address this, I created a function to determine the ratio of misspelled words to total words in the document. If that ratio is greater than a certain threshold, then the LER will not be used.\n",
    "\n",
    "### Target Data\n",
    "The target/response data was obtained from the agency's internal database that is used to track what actions are taken for each event report. This database has the capability to export the data to Excel format. Initially, I had issues with obtaining training data to the point that it was becoming its own machine learning problem. The migration to a new database caused the loss of the numbering of the reports, so I only had the title of each report and the categories.  I needed the report numbers to be able to obtain the reports themselves. I had a separate list of report numbers and titles, but the titles in the database were sometimes changed by the reviewer to add more information (and there are occassionally duplicate titles).  I matched the titles using document similarities and dates, which worked reasonably well, but still required manual verification. I got lucky and was eventually able to obtain the data from the old database.  Basically, the data that I exported has the LER number, and the categories that were assigned to that LER. For convenience, I created an Excel file with all of the data used in the project."
   ]
  },
  {
   "cell_type": "markdown",
   "metadata": {},
   "source": [
    "## Function for getting report start page"
   ]
  },
  {
   "cell_type": "code",
   "execution_count": 1,
   "metadata": {},
   "outputs": [],
   "source": [
    "import re\n",
    "import PyPDF2\n",
    "\n",
    "abstract_re = re.compile('(ABSTRACT)|(.*?STRAC.*)')\n",
    "abstract_re = re.compile('.*?STRAC.*')\n",
    "\n",
    "def get_start_page(filepath):\n",
    "    \"\"\"Takes in a filepath to an LER PDF and returns the start page number,\n",
    "    raises a ValueError if it doesn't find it.\"\"\"\n",
    "    start_page = -1\n",
    "    with open(filepath, 'rb') as file:\n",
    "        pdf = PyPDF2.PdfFileReader(file)\n",
    "        for page_num in range(pdf.getNumPages()):\n",
    "            page = pdf.getPage(page_num)\n",
    "            text = page.extractText()\n",
    "            if abstract_re.search(text):\n",
    "                return page_num\n",
    "    raise ValueError"
   ]
  },
  {
   "cell_type": "markdown",
   "metadata": {},
   "source": [
    "## Function for getting text lines"
   ]
  },
  {
   "cell_type": "code",
   "execution_count": 2,
   "metadata": {},
   "outputs": [],
   "source": [
    "from pdfminer.pdfparser import PDFParser\n",
    "from pdfminer.pdfdocument import PDFDocument\n",
    "from pdfminer.pdfpage import PDFPage\n",
    "from pdfminer.pdfpage import PDFTextExtractionNotAllowed\n",
    "from pdfminer.pdfinterp import PDFResourceManager\n",
    "from pdfminer.pdfinterp import PDFPageInterpreter\n",
    "from pdfminer.pdfdevice import PDFDevice\n",
    "from pdfminer.layout import LAParams\n",
    "from pdfminer.converter import PDFPageAggregator\n",
    "import pdfminer\n",
    "\n",
    "\n",
    "def get_lines(filepath):\n",
    "    \"\"\"Takes in a filepath to an LER PDF and returns the text for each line\n",
    "    with coordinates\"\"\"\n",
    "    start_page = get_start_page(filepath)\n",
    "    file = open(filepath, 'rb')\n",
    "    # Create a PDF parser object associated with the file object.\n",
    "    parser = PDFParser(file)\n",
    "\n",
    "    # Create a PDF document object that stores the document structure.\n",
    "    document = PDFDocument(parser)\n",
    "    if not document.is_extractable:\n",
    "        raise PDFTextExtractionNotAllowed\n",
    "    rsrcmgr = PDFResourceManager()\n",
    "\n",
    "    # Create a PDF device object.\n",
    "    device = PDFDevice(rsrcmgr)\n",
    "\n",
    "    # BEGIN LAYOUT ANALYSIS\n",
    "    # Set parameters for analysis.\n",
    "    laparams = LAParams()\n",
    "\n",
    "    # Create a PDF page aggregator object.\n",
    "    device = PDFPageAggregator(rsrcmgr, laparams=laparams)\n",
    "\n",
    "    # Create a PDF interpreter object.\n",
    "    interpreter = PDFPageInterpreter(rsrcmgr, device)\n",
    "\n",
    "    # Get target page\n",
    "    page = list(PDFPage.create_pages(document))[start_page]\n",
    "\n",
    "    interpreter.process_page(page)\n",
    "    layout = device.get_result()\n",
    "\n",
    "    lines = [[obj.get_text(), (obj.bbox)] for obj in layout._objs if isinstance(obj, pdfminer.layout.LTTextBoxHorizontal)]\n",
    "    return lines"
   ]
  },
  {
   "cell_type": "markdown",
   "metadata": {},
   "source": [
    "## Function for getting start of abstract"
   ]
  },
  {
   "cell_type": "code",
   "execution_count": 3,
   "metadata": {},
   "outputs": [],
   "source": [
    "def get_abstract(filepath):\n",
    "    \"\"\"Takes in a path to an LER PDF file and returns the abstract\"\"\"\n",
    "    lines = get_lines(filepath)\n",
    "    start_coordinates = [line for line in lines if abstract_re.search(line[0])][0][-1]\n",
    "    \n",
    "    # We're interested in text lines that have a Y coordinate less than start_coordinates[1]\n",
    "    abstract_lines = [line for line in lines if line[-1][1] <= start_coordinates[1]]\n",
    "    abstract_lines = sorted(abstract_lines, key=lambda x: -x[-1][1]) # Sort by descending Y coordinates\n",
    "    text = '\\n'.join([line[0] for line in abstract_lines])\n",
    "    \n",
    "    # Clean up some more boilerplate, including the boilerplate ABSTRACT statement \n",
    "    # and page number at bottom of the report\n",
    "    text = re.sub('.*?STRAC.*', '', text)\n",
    "    start = list(re.finditer('1[45]\\..*', text))\n",
    "    if start:\n",
    "        start = start[-1]\n",
    "        text = text[start.span()[1]:]\n",
    "    # Remove NRC FORM 366 at the bottom of the page\n",
    "    nrc_form = re.search('NR[CG]\\sFORM\\s+366', text)\n",
    "    if nrc_form:\n",
    "        text = text[:nrc_form.span()[0]]\n",
    "    # Remove double spaces\n",
    "    text = re.sub('[ ]+', ' ', text).strip()\n",
    "    return text"
   ]
  },
  {
   "cell_type": "markdown",
   "metadata": {},
   "source": [
    "## Function for getting misspelling ratio"
   ]
  },
  {
   "cell_type": "code",
   "execution_count": 4,
   "metadata": {},
   "outputs": [],
   "source": [
    "from spellchecker import SpellChecker\n",
    "import nltk\n",
    "\n",
    "# Instantiate SpellChecker\n",
    "spell = SpellChecker()\n",
    "\n",
    "\n",
    "def tokenize(text):\n",
    "    \"\"\"Function to tokenize words.\"\"\"\n",
    "    return nltk.tokenize.word_tokenize(text.lower())\n",
    "    \n",
    "\n",
    "def misspelled_ratio(text):\n",
    "    \"\"\"Function takes in text, tokenizes it into words\n",
    "    and returns a ratio of misspelled words in text.\"\"\"\n",
    "    words = tokenize(text)\n",
    "    misspelled = spell.unknown(words)\n",
    "    return len(misspelled) / len(words)"
   ]
  },
  {
   "cell_type": "markdown",
   "metadata": {},
   "source": [
    "## Example of getting the abstract text"
   ]
  },
  {
   "cell_type": "code",
   "execution_count": 5,
   "metadata": {},
   "outputs": [
    {
     "name": "stdout",
     "output_type": "stream",
     "text": [
      "On February 13, 2011, at approximately 5:00 a.m. CST, during power ascent following a refueling outage, \n",
      "operators found that one channel of main turbine first stage pressure instrumentation was not responding to \n",
      "changing plant parameters. This instrument provides a permissive to the reactor protection system (RPS) to \n",
      "enable a reactor scram signal from main turbine control valve control valve fast closure and main turbine stop \n",
      "valve closure. Also enabled by that permissive is a reactor recirculation pump trip signal initiated by the main \n",
      "turbine stop valve closure. While performing the initial troubleshooting, a maintenance technician discovered that \n",
      "a valve at the affected steam pressure transmitter was closed, isolating it from the system. This valve had \n",
      "apparently been left closed following the calibration of the instrument during the outage. The valve was opened, \n",
      "and the instrumentation channel was declared operable at 5:52 p.m. that day. The signals enabled by this \n",
      "pressure transmitter are required to be operable when reactor power is greater than 40 percent. Reactor power \n",
      "had exceeded 40 percent at approximately 3:24 a.m. that day. This event is being reported as operations \n",
      "prohibited by Technical Specifications in accordance with 10CFR50.73(a)(2)(i)(B).\n",
      "\n",
      "Misspelled Ratio:\n",
      "0.027149321266968326\n"
     ]
    }
   ],
   "source": [
    "filepath = 'data/4582011002R00.pdf'\n",
    "abstract = get_abstract(filepath)\n",
    "print(abstract)\n",
    "print('\\nMisspelled Ratio:')\n",
    "print(misspelled_ratio(abstract))"
   ]
  },
  {
   "cell_type": "markdown",
   "metadata": {},
   "source": [
    "## Importing the data"
   ]
  },
  {
   "cell_type": "code",
   "execution_count": 190,
   "metadata": {},
   "outputs": [
    {
     "data": {
      "text/plain": [
       "(2970, 9)"
      ]
     },
     "execution_count": 190,
     "metadata": {},
     "output_type": "execute_result"
    }
   ],
   "source": [
    "%matplotlib inline\n",
    "\n",
    "# Import pandas and numpy libraries\n",
    "import numpy as np\n",
    "import pandas as pd\n",
    "\n",
    "# Read in the data\n",
    "df = pd.read_excel('data/Public Data.xlsx')\n",
    "df.shape"
   ]
  },
  {
   "cell_type": "code",
   "execution_count": 191,
   "metadata": {},
   "outputs": [
    {
     "data": {
      "text/html": [
       "<div>\n",
       "<style scoped>\n",
       "    .dataframe tbody tr th:only-of-type {\n",
       "        vertical-align: middle;\n",
       "    }\n",
       "\n",
       "    .dataframe tbody tr th {\n",
       "        vertical-align: top;\n",
       "    }\n",
       "\n",
       "    .dataframe thead th {\n",
       "        text-align: right;\n",
       "    }\n",
       "</style>\n",
       "<table border=\"1\" class=\"dataframe\">\n",
       "  <thead>\n",
       "    <tr style=\"text-align: right;\">\n",
       "      <th></th>\n",
       "      <th>Issue ID</th>\n",
       "      <th>TRG</th>\n",
       "      <th>LER Number</th>\n",
       "      <th>Title</th>\n",
       "      <th>Text</th>\n",
       "      <th>Abstract Text</th>\n",
       "      <th>Abstract Misspelling Ratio</th>\n",
       "      <th>Text Misspelling Ratio</th>\n",
       "      <th>Availability</th>\n",
       "    </tr>\n",
       "  </thead>\n",
       "  <tbody>\n",
       "    <tr>\n",
       "      <th>0</th>\n",
       "      <td>5</td>\n",
       "      <td>HVAC/DOSE</td>\n",
       "      <td>3252009001R0</td>\n",
       "      <td>Loss of Control Room Air Conditioning and Emer...</td>\n",
       "      <td>l \\n\\n1 •. \\n\\nNRC FORM 366 \\n(9-2007) \\n\\n.) ...</td>\n",
       "      <td>On January 21, 2009, at approximately 1300 hou...</td>\n",
       "      <td>0.046595</td>\n",
       "      <td>0.026290</td>\n",
       "      <td>Publicly Available</td>\n",
       "    </tr>\n",
       "    <tr>\n",
       "      <th>1</th>\n",
       "      <td>6</td>\n",
       "      <td>FIRE PROTECTION, HUMAN PERF/SAFETY CULTURE</td>\n",
       "      <td>3132009002R0</td>\n",
       "      <td>Manual Reactor Trip From Power in Response to ...</td>\n",
       "      <td>\\n\\n \\n\\n2 \\n\\n7 \\n\\n \\n9. OPERATING MODE \\n\\...</td>\n",
       "      <td>On February 7, 2009, at approximately 1046 CST...</td>\n",
       "      <td>0.003846</td>\n",
       "      <td>0.018164</td>\n",
       "      <td>Publicly Available</td>\n",
       "    </tr>\n",
       "    <tr>\n",
       "      <th>2</th>\n",
       "      <td>43</td>\n",
       "      <td>CONTAINMENT</td>\n",
       "      <td>2932009002R0</td>\n",
       "      <td>Failure to Meet Technical Specification Requir...</td>\n",
       "      <td>NRC Form 366 \\n(9-2007) \\n\\nU.S. NUCLEAR REGUL...</td>\n",
       "      <td>On December 22, 2009, at 0845 hours, with the ...</td>\n",
       "      <td>0.015209</td>\n",
       "      <td>0.023145</td>\n",
       "      <td>Publicly Available</td>\n",
       "    </tr>\n",
       "    <tr>\n",
       "      <th>3</th>\n",
       "      <td>44</td>\n",
       "      <td>CONTAINMENT, HUMAN PERF/SAFETY CULTURE</td>\n",
       "      <td>3362009005R0</td>\n",
       "      <td>Both Containment Air Lock Doors Open in Mode 1</td>\n",
       "      <td>NRC FORM 361) \\n(9-2007) \\n\\nU.S. NUCLEAR REGU...</td>\n",
       "      <td>On November 13, 2009, with Millstone Power Sta...</td>\n",
       "      <td>0.008097</td>\n",
       "      <td>0.055246</td>\n",
       "      <td>Publicly Available</td>\n",
       "    </tr>\n",
       "    <tr>\n",
       "      <th>4</th>\n",
       "      <td>45</td>\n",
       "      <td>SERVICE WATER/UHS</td>\n",
       "      <td>3612009004R0</td>\n",
       "      <td>Both Trains of Spent Fuel Pool Cooling Inopera...</td>\n",
       "      <td>NRC FORM  366 \\n(9-2007) \\n\\nU.S. NUCLEAR REGU...</td>\n",
       "      <td>On 12/23/2009 at about 0957 PST with Unit 2 de...</td>\n",
       "      <td>0.018727</td>\n",
       "      <td>0.027870</td>\n",
       "      <td>Publicly Available</td>\n",
       "    </tr>\n",
       "  </tbody>\n",
       "</table>\n",
       "</div>"
      ],
      "text/plain": [
       "   Issue ID                                         TRG    LER Number  \\\n",
       "0         5                                   HVAC/DOSE  3252009001R0   \n",
       "1         6  FIRE PROTECTION, HUMAN PERF/SAFETY CULTURE  3132009002R0   \n",
       "2        43                                 CONTAINMENT  2932009002R0   \n",
       "3        44      CONTAINMENT, HUMAN PERF/SAFETY CULTURE  3362009005R0   \n",
       "4        45                           SERVICE WATER/UHS  3612009004R0   \n",
       "\n",
       "                                               Title  \\\n",
       "0  Loss of Control Room Air Conditioning and Emer...   \n",
       "1  Manual Reactor Trip From Power in Response to ...   \n",
       "2  Failure to Meet Technical Specification Requir...   \n",
       "3     Both Containment Air Lock Doors Open in Mode 1   \n",
       "4  Both Trains of Spent Fuel Pool Cooling Inopera...   \n",
       "\n",
       "                                                Text  \\\n",
       "0  l \\n\\n1 •. \\n\\nNRC FORM 366 \\n(9-2007) \\n\\n.) ...   \n",
       "1   \\n\\n \\n\\n2 \\n\\n7 \\n\\n \\n9. OPERATING MODE \\n\\...   \n",
       "2  NRC Form 366 \\n(9-2007) \\n\\nU.S. NUCLEAR REGUL...   \n",
       "3  NRC FORM 361) \\n(9-2007) \\n\\nU.S. NUCLEAR REGU...   \n",
       "4  NRC FORM  366 \\n(9-2007) \\n\\nU.S. NUCLEAR REGU...   \n",
       "\n",
       "                                       Abstract Text  \\\n",
       "0  On January 21, 2009, at approximately 1300 hou...   \n",
       "1  On February 7, 2009, at approximately 1046 CST...   \n",
       "2  On December 22, 2009, at 0845 hours, with the ...   \n",
       "3  On November 13, 2009, with Millstone Power Sta...   \n",
       "4  On 12/23/2009 at about 0957 PST with Unit 2 de...   \n",
       "\n",
       "   Abstract Misspelling Ratio  Text Misspelling Ratio        Availability  \n",
       "0                    0.046595                0.026290  Publicly Available  \n",
       "1                    0.003846                0.018164  Publicly Available  \n",
       "2                    0.015209                0.023145  Publicly Available  \n",
       "3                    0.008097                0.055246  Publicly Available  \n",
       "4                    0.018727                0.027870  Publicly Available  "
      ]
     },
     "execution_count": 191,
     "metadata": {},
     "output_type": "execute_result"
    }
   ],
   "source": [
    "df.head()"
   ]
  },
  {
   "cell_type": "code",
   "execution_count": 192,
   "metadata": {},
   "outputs": [
    {
     "data": {
      "text/plain": [
       "(2968, 9)"
      ]
     },
     "execution_count": 192,
     "metadata": {},
     "output_type": "execute_result"
    }
   ],
   "source": [
    "# Remove rows where misspelling ratio is > 0.1\n",
    "df = df[df['Abstract Misspelling Ratio'] <= 0.1]\n",
    "df = df[df['Abstract Text'].notnull()]\n",
    "df.shape"
   ]
  },
  {
   "cell_type": "markdown",
   "metadata": {},
   "source": [
    "## Import libraries"
   ]
  },
  {
   "cell_type": "code",
   "execution_count": 56,
   "metadata": {},
   "outputs": [],
   "source": [
    "import scipy\n",
    "from sklearn.pipeline import make_pipeline, Pipeline\n",
    "from sklearn.model_selection import train_test_split, cross_val_score\n",
    "from sklearn.preprocessing import MultiLabelBinarizer\n",
    "from sklearn.naive_bayes import MultinomialNB\n",
    "from sklearn.linear_model import LogisticRegression\n",
    "from sklearn.svm import LinearSVC\n",
    "from sklearn.multiclass import OneVsRestClassifier\n",
    "from sklearn.feature_extraction.text import TfidfVectorizer\n",
    "from sklearn.model_selection import GridSearchCV\n",
    "from sklearn.model_selection import RandomizedSearchCV\n",
    "from sklearn.ensemble import RandomForestClassifier\n",
    "from sklearn import metrics\n",
    "from sklearn.preprocessing import binarize\n",
    "from sklearn.decomposition import TruncatedSVD\n",
    "from sklearn.svm import SVC\n",
    "from sklearn.pipeline import FeatureUnion\n",
    "from sklearn.base import BaseEstimator, TransformerMixin\n",
    "import matplotlib.pyplot as plt\n"
   ]
  },
  {
   "cell_type": "markdown",
   "metadata": {},
   "source": [
    "## Transform response column using MultilabelBinarizer"
   ]
  },
  {
   "cell_type": "code",
   "execution_count": 193,
   "metadata": {},
   "outputs": [
    {
     "data": {
      "text/plain": [
       "AFW                           150\n",
       "CHEM/CHEM ENG                  18\n",
       "CONTAINMENT                   352\n",
       "CYBER SECURITY                  1\n",
       "ECCS                          424\n",
       "EDG                           182\n",
       "ELECTRICAL PWR                715\n",
       "ENVTL. QUALIF.                 70\n",
       "EP                             26\n",
       "FIRE PROTECTION               160\n",
       "FLOODING/MISSILES             128\n",
       "FUELS                          16\n",
       "HEALTH PHYSICS                 23\n",
       "HUMAN PERF/SAFETY CULTURE    1016\n",
       "HVAC/DOSE                     269\n",
       "I&C                           583\n",
       "NRO                           310\n",
       "OTHER                         752\n",
       "PHYS SECURITY                  29\n",
       "PRI MAT'L/VSL/WELD            179\n",
       "PUMP & VALVE                  541\n",
       "PWR UPRATE                     13\n",
       "QA/VENDOR/CFSI                253\n",
       "SAFETY CULTURE                 51\n",
       "SERVICE WATER/UHS             173\n",
       "SG                             10\n",
       "SPENT FUEL HANDL.              26\n",
       "STRUCTURAL/CONCRETE            44\n",
       "dtype: int64"
      ]
     },
     "execution_count": 193,
     "metadata": {},
     "output_type": "execute_result"
    }
   ],
   "source": [
    "# Transform the response column (TRG) to a matrix\n",
    "mlb = MultiLabelBinarizer()\n",
    "y_df = mlb.fit_transform(df['TRG'].apply(lambda t: t.split(', ')))\n",
    "y_df = pd.DataFrame(y_df, columns = mlb.classes_)\n",
    "y_df.sum() # Class Counts"
   ]
  },
  {
   "cell_type": "code",
   "execution_count": 194,
   "metadata": {},
   "outputs": [
    {
     "data": {
      "text/plain": [
       "AFW                           150\n",
       "CONTAINMENT                   352\n",
       "ECCS                          424\n",
       "EDG                           182\n",
       "ELECTRICAL PWR                715\n",
       "FIRE PROTECTION               160\n",
       "FLOODING/MISSILES             128\n",
       "HUMAN PERF/SAFETY CULTURE    1016\n",
       "HVAC/DOSE                     269\n",
       "I&C                           583\n",
       "NRO                           310\n",
       "PRI MAT'L/VSL/WELD            179\n",
       "PUMP & VALVE                  541\n",
       "QA/VENDOR/CFSI                253\n",
       "SERVICE WATER/UHS             173\n",
       "dtype: int64"
      ]
     },
     "execution_count": 194,
     "metadata": {},
     "output_type": "execute_result"
    }
   ],
   "source": [
    "# Lets just focus on classes with more than 100 samples, and remove amiguous class OTHER\n",
    "classes = list(y_df.sum()[y_df.sum() > 100].index)\n",
    "classes.remove('OTHER')\n",
    "y_df = y_df[classes]\n",
    "y_df.sum()"
   ]
  },
  {
   "cell_type": "markdown",
   "metadata": {},
   "source": [
    "## Let's examine the first category"
   ]
  },
  {
   "cell_type": "code",
   "execution_count": 195,
   "metadata": {},
   "outputs": [
    {
     "data": {
      "text/plain": [
       "MultinomialNB(alpha=1.0, class_prior=None, fit_prior=True)"
      ]
     },
     "execution_count": 195,
     "metadata": {},
     "output_type": "execute_result"
    }
   ],
   "source": [
    "# Try with class: AFW\n",
    "cls = 'AFW'\n",
    "y = y_df[cls]\n",
    "X = df['Abstract Text']\n",
    "title = df['Title']\n",
    "X_train, X_test, y_train, y_test = train_test_split(X, y, random_state=42)\n",
    "\n",
    "tfidf = TfidfVectorizer(stop_words='english')\n",
    "X_train_tfidf = tfidf.fit_transform(X_train)\n",
    "X_test_tfidf = tfidf.transform(X_test)\n",
    "\n",
    "mnb = MultinomialNB()\n",
    "mnb.fit(X_train_tfidf, y_train)"
   ]
  },
  {
   "cell_type": "code",
   "execution_count": 196,
   "metadata": {},
   "outputs": [
    {
     "name": "stdout",
     "output_type": "stream",
     "text": [
      "Null Accuracy: 0.9494609164420486\n",
      "MNB Accuracy : 0.9407008086253369\n"
     ]
    }
   ],
   "source": [
    "# Null accuracy\n",
    "def null_accuracy(cls):\n",
    "    most_freq_class = y_df[cls].value_counts().idxmax() # Probably overkill, since it is pretty much always 0\n",
    "    y_pred = most_freq_class * np.ones(y_df[cls].shape) # Predict all values are most_freq_class\n",
    "    return metrics.accuracy_score(y_pred, y_df[cls])\n",
    "\n",
    "\n",
    "print(f'Null Accuracy: {null_accuracy(cls)}')\n",
    "y_pred = mnb.predict(X_test_tfidf)\n",
    "print(f'MNB Accuracy : {metrics.accuracy_score(y_test, y_pred)}')"
   ]
  },
  {
   "cell_type": "markdown",
   "metadata": {},
   "source": [
    "So for this category, Multinomial Naive Bayes has about the same accuracy score as the null accuracy. I'll use a different evaluation metric later on. Let's check out the confusion matrix to see what type of errors the model makes, and then see how MNB performs on the other categories."
   ]
  },
  {
   "cell_type": "code",
   "execution_count": 197,
   "metadata": {},
   "outputs": [
    {
     "data": {
      "text/plain": [
       "array([[698,   0],\n",
       "       [ 44,   0]], dtype=int64)"
      ]
     },
     "execution_count": 197,
     "metadata": {},
     "output_type": "execute_result"
    }
   ],
   "source": [
    "metrics.confusion_matrix(y_test, y_pred)"
   ]
  },
  {
   "cell_type": "markdown",
   "metadata": {},
   "source": [
    "### Using MultinomialNB on all of the categories"
   ]
  },
  {
   "cell_type": "code",
<<<<<<< HEAD
   "execution_count": 198,
=======
   "execution_count": 26,
>>>>>>> 014c245f8eba11c609713e6cb971f0f38bc97649
   "metadata": {},
   "outputs": [
    {
     "data": {
      "text/html": [
       "<div>\n",
       "<style scoped>\n",
       "    .dataframe tbody tr th:only-of-type {\n",
       "        vertical-align: middle;\n",
       "    }\n",
       "\n",
       "    .dataframe tbody tr th {\n",
       "        vertical-align: top;\n",
       "    }\n",
       "\n",
       "    .dataframe thead th {\n",
       "        text-align: right;\n",
       "    }\n",
       "</style>\n",
       "<table border=\"1\" class=\"dataframe\">\n",
       "  <thead>\n",
       "    <tr style=\"text-align: right;\">\n",
       "      <th></th>\n",
       "      <th>Class</th>\n",
       "      <th>Null Accuracy</th>\n",
       "      <th>MNBScore</th>\n",
       "      <th>ClassCounts</th>\n",
       "    </tr>\n",
       "  </thead>\n",
       "  <tbody>\n",
       "    <tr>\n",
       "      <th>0</th>\n",
       "      <td>AFW</td>\n",
       "      <td>0.949461</td>\n",
       "      <td>0.940701</td>\n",
       "      <td>150</td>\n",
       "    </tr>\n",
       "    <tr>\n",
       "      <th>1</th>\n",
       "      <td>CONTAINMENT</td>\n",
       "      <td>0.881402</td>\n",
       "      <td>0.894879</td>\n",
       "      <td>352</td>\n",
       "    </tr>\n",
       "    <tr>\n",
       "      <th>2</th>\n",
       "      <td>ECCS</td>\n",
       "      <td>0.857143</td>\n",
       "      <td>0.836927</td>\n",
       "      <td>424</td>\n",
       "    </tr>\n",
       "    <tr>\n",
       "      <th>3</th>\n",
       "      <td>EDG</td>\n",
       "      <td>0.938679</td>\n",
       "      <td>0.956873</td>\n",
       "      <td>182</td>\n",
       "    </tr>\n",
       "    <tr>\n",
       "      <th>4</th>\n",
       "      <td>ELECTRICAL PWR</td>\n",
       "      <td>0.759097</td>\n",
       "      <td>0.808625</td>\n",
       "      <td>715</td>\n",
       "    </tr>\n",
       "    <tr>\n",
       "      <th>5</th>\n",
       "      <td>FIRE PROTECTION</td>\n",
       "      <td>0.946092</td>\n",
       "      <td>0.955526</td>\n",
       "      <td>160</td>\n",
       "    </tr>\n",
       "    <tr>\n",
       "      <th>6</th>\n",
       "      <td>FLOODING/MISSILES</td>\n",
       "      <td>0.956873</td>\n",
       "      <td>0.958221</td>\n",
       "      <td>128</td>\n",
       "    </tr>\n",
       "    <tr>\n",
       "      <th>7</th>\n",
       "      <td>HUMAN PERF/SAFETY CULTURE</td>\n",
       "      <td>0.657682</td>\n",
       "      <td>0.691375</td>\n",
       "      <td>1016</td>\n",
       "    </tr>\n",
       "    <tr>\n",
       "      <th>8</th>\n",
       "      <td>HVAC/DOSE</td>\n",
       "      <td>0.909367</td>\n",
       "      <td>0.896226</td>\n",
       "      <td>269</td>\n",
       "    </tr>\n",
       "    <tr>\n",
       "      <th>9</th>\n",
       "      <td>I&amp;C</td>\n",
       "      <td>0.803571</td>\n",
       "      <td>0.815364</td>\n",
       "      <td>583</td>\n",
       "    </tr>\n",
       "    <tr>\n",
       "      <th>10</th>\n",
       "      <td>NRO</td>\n",
       "      <td>0.895553</td>\n",
       "      <td>0.893531</td>\n",
       "      <td>310</td>\n",
       "    </tr>\n",
       "    <tr>\n",
       "      <th>11</th>\n",
       "      <td>PRI MAT'L/VSL/WELD</td>\n",
       "      <td>0.939690</td>\n",
       "      <td>0.927224</td>\n",
       "      <td>179</td>\n",
       "    </tr>\n",
       "    <tr>\n",
       "      <th>12</th>\n",
       "      <td>PUMP &amp; VALVE</td>\n",
       "      <td>0.817722</td>\n",
       "      <td>0.828841</td>\n",
       "      <td>541</td>\n",
       "    </tr>\n",
       "    <tr>\n",
       "      <th>13</th>\n",
       "      <td>QA/VENDOR/CFSI</td>\n",
       "      <td>0.914757</td>\n",
       "      <td>0.917790</td>\n",
       "      <td>253</td>\n",
       "    </tr>\n",
       "    <tr>\n",
       "      <th>14</th>\n",
       "      <td>SERVICE WATER/UHS</td>\n",
       "      <td>0.941712</td>\n",
       "      <td>0.951482</td>\n",
       "      <td>173</td>\n",
       "    </tr>\n",
       "  </tbody>\n",
       "</table>\n",
       "</div>"
      ],
      "text/plain": [
       "                        Class  Null Accuracy  MNBScore  ClassCounts\n",
       "0                         AFW       0.949461  0.940701          150\n",
       "1                 CONTAINMENT       0.881402  0.894879          352\n",
       "2                        ECCS       0.857143  0.836927          424\n",
       "3                         EDG       0.938679  0.956873          182\n",
       "4              ELECTRICAL PWR       0.759097  0.808625          715\n",
       "5             FIRE PROTECTION       0.946092  0.955526          160\n",
       "6           FLOODING/MISSILES       0.956873  0.958221          128\n",
       "7   HUMAN PERF/SAFETY CULTURE       0.657682  0.691375         1016\n",
       "8                   HVAC/DOSE       0.909367  0.896226          269\n",
       "9                         I&C       0.803571  0.815364          583\n",
       "10                        NRO       0.895553  0.893531          310\n",
       "11         PRI MAT'L/VSL/WELD       0.939690  0.927224          179\n",
       "12               PUMP & VALVE       0.817722  0.828841          541\n",
       "13             QA/VENDOR/CFSI       0.914757  0.917790          253\n",
       "14          SERVICE WATER/UHS       0.941712  0.951482          173"
      ]
     },
<<<<<<< HEAD
     "execution_count": 198,
=======
     "execution_count": 26,
>>>>>>> 014c245f8eba11c609713e6cb971f0f38bc97649
     "metadata": {},
     "output_type": "execute_result"
    }
   ],
   "source": [
    "# Instantiate tfidf and fit X\n",
    "tfidf = TfidfVectorizer(stop_words='english')\n",
    "X = df['Abstract Text']\n",
    "X_train, X_test, y_train, y_test = train_test_split(X, y_df, random_state=42)\n",
    "X_train_tfidf = tfidf.fit_transform(X_train)\n",
    "X_test_tfidf = tfidf.transform(X_test)\n",
    "\n",
    "# Instantiate MNB model\n",
    "mnb = MultinomialNB()\n",
    "results = []\n",
    "for cls in y_df.columns:\n",
    "    # Only get the response column we are interest in\n",
    "    y_trn = y_train[cls]\n",
    "    y_tst = y_test[cls]\n",
    "    \n",
    "    # Fit the model\n",
    "    mnb.fit(X_train_tfidf, y_trn)\n",
    "    \n",
    "    # Predict\n",
    "    y_pred = mnb.predict(X_test_tfidf)\n",
    "    \n",
    "    # Get scores\n",
    "    score = metrics.accuracy_score(y_tst, y_pred)\n",
    "    null_acc = null_accuracy(cls)\n",
    "    results.append([cls, null_acc, score])\n",
    "\n",
    "results = pd.DataFrame(results, columns=['Class', 'Null Accuracy', 'MNBScore'])\n",
    "results['ClassCounts'] = results['Class'].map(y_df.sum())\n",
    "results"
   ]
  },
  {
   "cell_type": "markdown",
   "metadata": {},
   "source": [
    "#### Note: We could have done the same as above with a OneVsRestClassifier:"
   ]
  },
  {
   "cell_type": "code",
<<<<<<< HEAD
   "execution_count": 199,
=======
   "execution_count": 28,
>>>>>>> 014c245f8eba11c609713e6cb971f0f38bc97649
   "metadata": {},
   "outputs": [
    {
     "data": {
      "text/html": [
       "<div>\n",
       "<style scoped>\n",
       "    .dataframe tbody tr th:only-of-type {\n",
       "        vertical-align: middle;\n",
       "    }\n",
       "\n",
       "    .dataframe tbody tr th {\n",
       "        vertical-align: top;\n",
       "    }\n",
       "\n",
       "    .dataframe thead th {\n",
       "        text-align: right;\n",
       "    }\n",
       "</style>\n",
       "<table border=\"1\" class=\"dataframe\">\n",
       "  <thead>\n",
       "    <tr style=\"text-align: right;\">\n",
       "      <th></th>\n",
       "      <th>Class</th>\n",
       "      <th>Null Accuracy</th>\n",
       "      <th>MNBScore</th>\n",
       "      <th>ClassCounts</th>\n",
       "    </tr>\n",
       "  </thead>\n",
       "  <tbody>\n",
       "    <tr>\n",
       "      <th>0</th>\n",
       "      <td>AFW</td>\n",
       "      <td>0.949461</td>\n",
       "      <td>0.940701</td>\n",
       "      <td>150</td>\n",
       "    </tr>\n",
       "    <tr>\n",
       "      <th>1</th>\n",
       "      <td>CONTAINMENT</td>\n",
       "      <td>0.881402</td>\n",
       "      <td>0.894879</td>\n",
       "      <td>352</td>\n",
       "    </tr>\n",
       "    <tr>\n",
       "      <th>2</th>\n",
       "      <td>ECCS</td>\n",
       "      <td>0.857143</td>\n",
       "      <td>0.836927</td>\n",
       "      <td>424</td>\n",
       "    </tr>\n",
       "    <tr>\n",
       "      <th>3</th>\n",
       "      <td>EDG</td>\n",
       "      <td>0.938679</td>\n",
       "      <td>0.956873</td>\n",
       "      <td>182</td>\n",
       "    </tr>\n",
       "    <tr>\n",
       "      <th>4</th>\n",
       "      <td>ELECTRICAL PWR</td>\n",
       "      <td>0.759097</td>\n",
       "      <td>0.808625</td>\n",
       "      <td>715</td>\n",
       "    </tr>\n",
       "    <tr>\n",
       "      <th>5</th>\n",
       "      <td>FIRE PROTECTION</td>\n",
       "      <td>0.946092</td>\n",
       "      <td>0.955526</td>\n",
       "      <td>160</td>\n",
       "    </tr>\n",
       "    <tr>\n",
       "      <th>6</th>\n",
       "      <td>FLOODING/MISSILES</td>\n",
       "      <td>0.956873</td>\n",
       "      <td>0.958221</td>\n",
       "      <td>128</td>\n",
       "    </tr>\n",
       "    <tr>\n",
       "      <th>7</th>\n",
       "      <td>HUMAN PERF/SAFETY CULTURE</td>\n",
       "      <td>0.657682</td>\n",
       "      <td>0.691375</td>\n",
       "      <td>1016</td>\n",
       "    </tr>\n",
       "    <tr>\n",
       "      <th>8</th>\n",
       "      <td>HVAC/DOSE</td>\n",
       "      <td>0.909367</td>\n",
       "      <td>0.896226</td>\n",
       "      <td>269</td>\n",
       "    </tr>\n",
       "    <tr>\n",
       "      <th>9</th>\n",
       "      <td>I&amp;C</td>\n",
       "      <td>0.803571</td>\n",
       "      <td>0.815364</td>\n",
       "      <td>583</td>\n",
       "    </tr>\n",
       "    <tr>\n",
       "      <th>10</th>\n",
       "      <td>NRO</td>\n",
       "      <td>0.895553</td>\n",
       "      <td>0.893531</td>\n",
       "      <td>310</td>\n",
       "    </tr>\n",
       "    <tr>\n",
       "      <th>11</th>\n",
       "      <td>PRI MAT'L/VSL/WELD</td>\n",
       "      <td>0.939690</td>\n",
       "      <td>0.927224</td>\n",
       "      <td>179</td>\n",
       "    </tr>\n",
       "    <tr>\n",
       "      <th>12</th>\n",
       "      <td>PUMP &amp; VALVE</td>\n",
       "      <td>0.817722</td>\n",
       "      <td>0.828841</td>\n",
       "      <td>541</td>\n",
       "    </tr>\n",
       "    <tr>\n",
       "      <th>13</th>\n",
       "      <td>QA/VENDOR/CFSI</td>\n",
       "      <td>0.914757</td>\n",
       "      <td>0.917790</td>\n",
       "      <td>253</td>\n",
       "    </tr>\n",
       "    <tr>\n",
       "      <th>14</th>\n",
       "      <td>SERVICE WATER/UHS</td>\n",
       "      <td>0.941712</td>\n",
       "      <td>0.951482</td>\n",
       "      <td>173</td>\n",
       "    </tr>\n",
       "  </tbody>\n",
       "</table>\n",
       "</div>"
      ],
      "text/plain": [
       "                        Class  Null Accuracy  MNBScore  ClassCounts\n",
       "0                         AFW       0.949461  0.940701          150\n",
       "1                 CONTAINMENT       0.881402  0.894879          352\n",
       "2                        ECCS       0.857143  0.836927          424\n",
       "3                         EDG       0.938679  0.956873          182\n",
       "4              ELECTRICAL PWR       0.759097  0.808625          715\n",
       "5             FIRE PROTECTION       0.946092  0.955526          160\n",
       "6           FLOODING/MISSILES       0.956873  0.958221          128\n",
       "7   HUMAN PERF/SAFETY CULTURE       0.657682  0.691375         1016\n",
       "8                   HVAC/DOSE       0.909367  0.896226          269\n",
       "9                         I&C       0.803571  0.815364          583\n",
       "10                        NRO       0.895553  0.893531          310\n",
       "11         PRI MAT'L/VSL/WELD       0.939690  0.927224          179\n",
       "12               PUMP & VALVE       0.817722  0.828841          541\n",
       "13             QA/VENDOR/CFSI       0.914757  0.917790          253\n",
       "14          SERVICE WATER/UHS       0.941712  0.951482          173"
      ]
     },
<<<<<<< HEAD
     "execution_count": 199,
=======
     "execution_count": 28,
>>>>>>> 014c245f8eba11c609713e6cb971f0f38bc97649
     "metadata": {},
     "output_type": "execute_result"
    }
   ],
   "source": [
    "# Using OneVsRestClassifier, which supports multilabel classification\n",
    "NB_pipeline = Pipeline([\n",
    "                ('tfidf', TfidfVectorizer(stop_words='english')),\n",
    "                ('clf', OneVsRestClassifier(MultinomialNB())),\n",
    "            ])\n",
    "\n",
    "NB_pipeline.fit(X_train, y_train)\n",
    "y_pred = NB_pipeline.predict(X_test)\n",
    "y_pred = pd.DataFrame(y_pred, columns=y_df.columns)\n",
    "results = pd.DataFrame([\n",
    "                        [cls, null_accuracy(cls), metrics.accuracy_score(y_pred[cls], y_test[cls])] \n",
    "                         for cls in y_pred.columns\n",
    "                       ],\n",
    "                       columns=['Class', 'Null Accuracy', 'MNBScore'])\n",
    "results['ClassCounts'] = results['Class'].map(y_df.sum())\n",
    "results"
   ]
  },
  {
   "cell_type": "code",
<<<<<<< HEAD
   "execution_count": 200,
=======
   "execution_count": 29,
>>>>>>> 014c245f8eba11c609713e6cb971f0f38bc97649
   "metadata": {},
   "outputs": [
    {
     "name": "stdout",
     "output_type": "stream",
     "text": [
      "0.9407008086253369\n"
     ]
    }
   ],
   "source": [
    "y_pred = pd.DataFrame(y_pred, columns=y_df.columns)\n",
    "\n",
    "# For one class\n",
    "print(metrics.accuracy_score(y_test['AFW'], y_pred['AFW']))"
   ]
  },
  {
   "cell_type": "markdown",
   "metadata": {},
   "source": [
    "### Evaluation Metrics: AUC\n",
    "Accuracy score can only tell us how many predictions are correct, but it does not tell us about the types of errors that our model is making. Additionally, if there are a lot of negative samples (i.e., y = 0) then accuracy can lead to inappropriate interpretation of the performance of our model. This is especially the case for some of the more infrequent categories.\n",
    "\n",
    "The type of error is important to our business objective because if we have too many false negatives, then the document would not be seen by the appropriate people that need to see it.  On the other hand, if we predict too many false positives, then those people might get spammed with irrelevant documents.\n",
    "\n",
    "I will use Area Under the Reciever Operating Characteristic curve (AUROC or AUC) as the evaluation metric, since this tells us more about what types of errors our model is making. I will define a function that calculates the AOC (estimated for a testing set) and plots the ROC."
   ]
  },
  {
   "cell_type": "code",
<<<<<<< HEAD
   "execution_count": 20,
=======
   "execution_count": 30,
>>>>>>> 014c245f8eba11c609713e6cb971f0f38bc97649
   "metadata": {},
   "outputs": [
    {
     "data": {
<<<<<<< HEAD
=======
      "image/png": "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\n",
      "text/plain": [
       "<Figure size 432x288 with 1 Axes>"
      ]
     },
     "metadata": {},
     "output_type": "display_data"
    }
   ],
   "source": [
    "mnb.fit(X_train_tfidf, y_train['AFW'])\n",
    "y_pred_proba = mnb.predict_proba(X_test_tfidf)\n",
    "preds = y_pred_proba[:,1]\n",
    "fpr, tpr, thresholds = metrics.roc_curve(y_test['AFW'], preds)\n",
    "roc_auc = metrics.auc(fpr, tpr)\n",
    "title = 'Receiver Operating Characteristic (AFW)'\n",
    "plt.title(title)\n",
    "plt.plot(fpr, tpr, 'b', label = 'AUC = %0.2f' % roc_auc)\n",
    "plt.legend(loc = 'lower right')\n",
    "plt.plot([0, 1], [0, 1],'r--')\n",
    "plt.xlim([0, 1])\n",
    "plt.ylim([0, 1])\n",
    "plt.ylabel('True Positive Rate')\n",
    "plt.xlabel('False Positive Rate')\n",
    "plt.show()"
   ]
  },
  {
   "cell_type": "code",
   "execution_count": 35,
   "metadata": {},
   "outputs": [
    {
     "data": {
>>>>>>> 014c245f8eba11c609713e6cb971f0f38bc97649
      "image/png": "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\n",
      "text/plain": [
       "<Figure size 432x288 with 1 Axes>"
      ]
     },
     "metadata": {},
     "output_type": "display_data"
    }
   ],
   "source": [
    "def plot_roc(classifier, X, y, class_name='AFW', random_state=42):\n",
    "    \"\"\"Function to calculate the AUC and plot the ROC of a mode.\n",
    "    Parameters\n",
    "    -----------\n",
    "    classifier: required\n",
    "        The actual model we are evaluating\n",
    "    X: Array-like, required\n",
    "        The input features\n",
    "    y: Array-like, required\n",
    "        The responses (target)\n",
    "    class_name: str, optional\n",
    "        The name of the class we are training on\n",
    "    random_state: int, optional\n",
    "        Random seed for train_test_split\n",
    "    \"\"\"\n",
    "    y = y[class_name]\n",
    "    X_train, X_test, y_train, y_test = train_test_split(X, y, random_state=random_state)\n",
    "    try:\n",
    "        classifier.fit(X_train, y_train)\n",
    "    except ValueError: # classifier does not have a document transformer (e.g., TfidfVectorizer, CountVectorizer)\n",
    "        tfidf = TfidfVectorizer(stop_words='english', ngram_range=(1, 3))\n",
    "        X_train = tfidf.fit_transform(X_train)\n",
    "        X_test = tfidf.transform(X_test)\n",
    "        classifier.fit(X_train, y_train)\n",
    "    y_pred_proba = classifier.predict_proba(X_test)\n",
    "    preds = y_pred_proba[:,1]\n",
    "    fpr, tpr, thresholds = metrics.roc_curve(y_test, preds)\n",
    "    roc_auc = metrics.auc(fpr, tpr)\n",
    "    title = 'Receiver Operating Characteristic'\n",
    "    if class_name is not None:\n",
    "        title += ' for class: ' + class_name\n",
    "    plt.title(title)\n",
    "    plt.plot(fpr, tpr, 'b', label = 'AUC = %0.2f' % roc_auc)\n",
    "    plt.legend(loc = 'lower right')\n",
    "    plt.plot([0, 1], [0, 1],'r--')\n",
    "    plt.xlim([0, 1])\n",
    "    plt.ylim([0, 1])\n",
    "    plt.ylabel('True Positive Rate')\n",
    "    plt.xlabel('False Positive Rate')\n",
    "    plt.show()\n",
    "    return roc_auc\n",
    "\n",
    "class_name = 'AFW'\n",
    "auc = plot_roc(MultinomialNB(), X, y_df, class_name=class_name)"
   ]
  },
  {
   "cell_type": "code",
<<<<<<< HEAD
   "execution_count": 21,
=======
   "execution_count": 36,
>>>>>>> 014c245f8eba11c609713e6cb971f0f38bc97649
   "metadata": {},
   "outputs": [
    {
     "data": {
<<<<<<< HEAD
      "image/png": "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\n",
=======
      "image/png": "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\n",
>>>>>>> 014c245f8eba11c609713e6cb971f0f38bc97649
      "text/plain": [
       "<Figure size 432x288 with 1 Axes>"
      ]
     },
     "metadata": {},
     "output_type": "display_data"
    }
   ],
   "source": [
    "# Let's try with another value for alpha\n",
    "auc = plot_roc(MultinomialNB(alpha=0.2), X, y_df, class_name=class_name)"
   ]
  },
  {
   "cell_type": "markdown",
   "metadata": {},
   "source": [
    "Lower alpha values seem to improve the AUC. We'll tune this hyperparameter later."
   ]
  },
  {
   "cell_type": "code",
<<<<<<< HEAD
   "execution_count": 23,
=======
   "execution_count": 40,
>>>>>>> 014c245f8eba11c609713e6cb971f0f38bc97649
   "metadata": {},
   "outputs": [
    {
     "data": {
      "image/png": "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\n",
      "text/plain": [
       "<Figure size 432x288 with 1 Axes>"
      ]
     },
     "metadata": {},
     "output_type": "display_data"
    }
   ],
   "source": [
    "auc = plot_roc(MultinomialNB(alpha=0.01), X, y_df, class_name=class_name)"
   ]
  },
  {
   "cell_type": "code",
<<<<<<< HEAD
   "execution_count": 24,
=======
   "execution_count": 41,
>>>>>>> 014c245f8eba11c609713e6cb971f0f38bc97649
   "metadata": {},
   "outputs": [],
   "source": [
    "def confusion_matrix(y_true, y_pred):\n",
    "    \"\"\"A helper function to get the confusion matrix as a DataFrame,\n",
    "       to make it easier to print and read.\"\"\"\n",
    "    return pd.DataFrame(metrics.confusion_matrix(y_true, y_pred),\n",
    "                        columns=['Predicted: 0', 'Predicted: 1'], \n",
    "                        index=['Actual: 0', 'Actual: 1'])"
   ]
  },
  {
   "cell_type": "code",
<<<<<<< HEAD
   "execution_count": 25,
=======
   "execution_count": 42,
>>>>>>> 014c245f8eba11c609713e6cb971f0f38bc97649
   "metadata": {},
   "outputs": [
    {
     "data": {
      "text/html": [
       "<div>\n",
       "<style scoped>\n",
       "    .dataframe tbody tr th:only-of-type {\n",
       "        vertical-align: middle;\n",
       "    }\n",
       "\n",
       "    .dataframe tbody tr th {\n",
       "        vertical-align: top;\n",
       "    }\n",
       "\n",
       "    .dataframe thead th {\n",
       "        text-align: right;\n",
       "    }\n",
       "</style>\n",
       "<table border=\"1\" class=\"dataframe\">\n",
       "  <thead>\n",
       "    <tr style=\"text-align: right;\">\n",
       "      <th></th>\n",
       "      <th>Predicted: 0</th>\n",
       "      <th>Predicted: 1</th>\n",
       "    </tr>\n",
       "  </thead>\n",
       "  <tbody>\n",
       "    <tr>\n",
       "      <th>Actual: 0</th>\n",
       "      <td>697</td>\n",
       "      <td>1</td>\n",
       "    </tr>\n",
       "    <tr>\n",
       "      <th>Actual: 1</th>\n",
       "      <td>30</td>\n",
       "      <td>14</td>\n",
       "    </tr>\n",
       "  </tbody>\n",
       "</table>\n",
       "</div>"
      ],
      "text/plain": [
       "           Predicted: 0  Predicted: 1\n",
       "Actual: 0           697             1\n",
       "Actual: 1            30            14"
      ]
     },
<<<<<<< HEAD
     "execution_count": 25,
=======
     "execution_count": 42,
>>>>>>> 014c245f8eba11c609713e6cb971f0f38bc97649
     "metadata": {},
     "output_type": "execute_result"
    }
   ],
   "source": [
    "X = df['Abstract Text']\n",
    "y = y_df['AFW']\n",
    "X_train, X_test, y_train, y_test = train_test_split(X, y, random_state=42)\n",
    "tfidf = TfidfVectorizer(stop_words='english', ngram_range=(1, 3))\n",
    "X_train = tfidf.fit_transform(X_train)\n",
    "X_test = tfidf.transform(X_test)\n",
    "mnb = MultinomialNB(alpha=0.01)\n",
    "mnb.fit(X_train, y_train)\n",
    "y_pred = mnb.predict(X_test)\n",
    "confusion_matrix(y_test, y_pred)"
   ]
  },
  {
   "cell_type": "code",
<<<<<<< HEAD
   "execution_count": 26,
=======
   "execution_count": 43,
>>>>>>> 014c245f8eba11c609713e6cb971f0f38bc97649
   "metadata": {},
   "outputs": [
    {
     "name": "stdout",
     "output_type": "stream",
     "text": [
      "AUC: 0.93 (+/- 0.11)\n"
     ]
    }
   ],
   "source": [
    "pipe = make_pipeline(TfidfVectorizer(stop_words='english'), MultinomialNB(alpha=0.01))\n",
    "scores = cross_val_score(pipe, df['Abstract Text'], y_df['AFW'], cv=10, scoring='roc_auc')\n",
    "print(\"AUC: %0.2f (+/- %0.2f)\" % (scores.mean(), scores.std() * 2))"
   ]
  },
  {
   "cell_type": "markdown",
   "metadata": {},
   "source": [
    "### SVC with linear kernel vs. LinearSVC\n",
    "Let's confirm that they are the same. We need SVC(kernel='linear') so we can get probabilities to be able to calculate the AUC"
   ]
  },
  {
   "cell_type": "code",
<<<<<<< HEAD
   "execution_count": 27,
=======
   "execution_count": 44,
>>>>>>> 014c245f8eba11c609713e6cb971f0f38bc97649
   "metadata": {},
   "outputs": [
    {
     "data": {
      "text/html": [
       "<div>\n",
       "<style scoped>\n",
       "    .dataframe tbody tr th:only-of-type {\n",
       "        vertical-align: middle;\n",
       "    }\n",
       "\n",
       "    .dataframe tbody tr th {\n",
       "        vertical-align: top;\n",
       "    }\n",
       "\n",
       "    .dataframe thead th {\n",
       "        text-align: right;\n",
       "    }\n",
       "</style>\n",
       "<table border=\"1\" class=\"dataframe\">\n",
       "  <thead>\n",
       "    <tr style=\"text-align: right;\">\n",
       "      <th></th>\n",
       "      <th>Predicted: 0</th>\n",
       "      <th>Predicted: 1</th>\n",
       "    </tr>\n",
       "  </thead>\n",
       "  <tbody>\n",
       "    <tr>\n",
       "      <th>Actual: 0</th>\n",
       "      <td>697</td>\n",
       "      <td>1</td>\n",
       "    </tr>\n",
       "    <tr>\n",
       "      <th>Actual: 1</th>\n",
       "      <td>23</td>\n",
       "      <td>21</td>\n",
       "    </tr>\n",
       "  </tbody>\n",
       "</table>\n",
       "</div>"
      ],
      "text/plain": [
       "           Predicted: 0  Predicted: 1\n",
       "Actual: 0           697             1\n",
       "Actual: 1            23            21"
      ]
     },
<<<<<<< HEAD
     "execution_count": 27,
=======
     "execution_count": 44,
>>>>>>> 014c245f8eba11c609713e6cb971f0f38bc97649
     "metadata": {},
     "output_type": "execute_result"
    }
   ],
   "source": [
    "X_train, X_test, y_train, y_test = train_test_split(df['Abstract Text'], y_df['AFW'], random_state=42)\n",
    "pipe = make_pipeline(TfidfVectorizer(stop_words='english', ngram_range=(1, 3)), LinearSVC())\n",
    "pipe.fit(X_train, y_train)\n",
    "y_pred = pipe.predict(X_test)\n",
    "confusion_matrix(y_test, y_pred)"
   ]
  },
  {
   "cell_type": "code",
<<<<<<< HEAD
   "execution_count": 28,
=======
   "execution_count": 45,
>>>>>>> 014c245f8eba11c609713e6cb971f0f38bc97649
   "metadata": {},
   "outputs": [
    {
     "data": {
      "text/html": [
       "<div>\n",
       "<style scoped>\n",
       "    .dataframe tbody tr th:only-of-type {\n",
       "        vertical-align: middle;\n",
       "    }\n",
       "\n",
       "    .dataframe tbody tr th {\n",
       "        vertical-align: top;\n",
       "    }\n",
       "\n",
       "    .dataframe thead th {\n",
       "        text-align: right;\n",
       "    }\n",
       "</style>\n",
       "<table border=\"1\" class=\"dataframe\">\n",
       "  <thead>\n",
       "    <tr style=\"text-align: right;\">\n",
       "      <th></th>\n",
       "      <th>Predicted: 0</th>\n",
       "      <th>Predicted: 1</th>\n",
       "    </tr>\n",
       "  </thead>\n",
       "  <tbody>\n",
       "    <tr>\n",
       "      <th>Actual: 0</th>\n",
       "      <td>697</td>\n",
       "      <td>1</td>\n",
       "    </tr>\n",
       "    <tr>\n",
       "      <th>Actual: 1</th>\n",
       "      <td>23</td>\n",
       "      <td>21</td>\n",
       "    </tr>\n",
       "  </tbody>\n",
       "</table>\n",
       "</div>"
      ],
      "text/plain": [
       "           Predicted: 0  Predicted: 1\n",
       "Actual: 0           697             1\n",
       "Actual: 1            23            21"
      ]
     },
<<<<<<< HEAD
     "execution_count": 28,
=======
     "execution_count": 45,
>>>>>>> 014c245f8eba11c609713e6cb971f0f38bc97649
     "metadata": {},
     "output_type": "execute_result"
    }
   ],
   "source": [
    "X_train, X_test, y_train, y_test = train_test_split(df['Abstract Text'], y_df['AFW'], random_state=42)\n",
    "pipe = make_pipeline(TfidfVectorizer(stop_words='english', ngram_range=(1, 3)), SVC(kernel='linear'))\n",
    "pipe.fit(X_train, y_train)\n",
    "y_pred = pipe.predict(X_test)\n",
    "confusion_matrix(y_test, y_pred)"
   ]
  },
  {
   "cell_type": "markdown",
   "metadata": {},
   "source": [
    "### SVC(kernel='linear') ROC"
   ]
  },
  {
   "cell_type": "code",
<<<<<<< HEAD
   "execution_count": 29,
=======
   "execution_count": 46,
>>>>>>> 014c245f8eba11c609713e6cb971f0f38bc97649
   "metadata": {},
   "outputs": [
    {
     "data": {
      "image/png": "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\n",
      "text/plain": [
       "<Figure size 432x288 with 1 Axes>"
      ]
     },
     "metadata": {},
     "output_type": "display_data"
    }
   ],
   "source": [
    "auc = plot_roc(SVC(kernel='linear', probability=True), X=df['Abstract Text'], y=y_df, class_name='AFW')"
   ]
  },
  {
   "cell_type": "code",
<<<<<<< HEAD
   "execution_count": 30,
=======
   "execution_count": 47,
>>>>>>> 014c245f8eba11c609713e6cb971f0f38bc97649
   "metadata": {},
   "outputs": [
    {
     "name": "stdout",
     "output_type": "stream",
     "text": [
      "AUC: 0.92 (+/- 0.14)\n",
<<<<<<< HEAD
      "Wall time: 51.3 s\n"
=======
      "Wall time: 3min 17s\n"
>>>>>>> 014c245f8eba11c609713e6cb971f0f38bc97649
     ]
    }
   ],
   "source": [
    "%%time\n",
    "pipe = make_pipeline(TfidfVectorizer(stop_words='english'), SVC(kernel='linear', probability=True))\n",
    "scores = cross_val_score(pipe, df['Abstract Text'], y_df['AFW'], cv=10, scoring='roc_auc')\n",
    "print(\"AUC: %0.2f (+/- %0.2f)\" % (scores.mean(), scores.std() * 2))"
   ]
  },
  {
   "cell_type": "markdown",
   "metadata": {},
   "source": [
    "### MultinomialNB hyperparameter tuning with RandomizedSearchCV\n",
    "First, I will take part of the data out as a validation set"
   ]
  },
  {
   "cell_type": "code",
   "execution_count": 208,
   "metadata": {},
   "outputs": [
    {
     "name": "stdout",
     "output_type": "stream",
     "text": [
      "0.9266493021717703\n",
      "{'tfidfvectorizer__stop_words': None, 'tfidfvectorizer__norm': 'l2', 'tfidfvectorizer__ngram_range': (1, 2), 'multinomialnb__alpha': 0.01}\n",
      "Wall time: 48 s\n"
     ]
    }
   ],
   "source": [
    "%%time\n",
    "\n",
    "# create a pipeline\n",
    "pipe = Pipeline([('tfidfvectorizer', TfidfVectorizer()),\n",
    "                 ('multinomialnb', MultinomialNB())\n",
    "                ])\n",
    "\n",
    "# search for an optimal parameter using RandomizedSearchCV\n",
    "# TFIDF params\n",
    "ngram_ranges = [(1, 1), (1, 2), (1, 3), (1, 4)]\n",
    "norm_options = [None,'l1', 'l2']\n",
    "stopword_options = [None, 'english']\n",
    "\n",
    "# MultinomialNB params\n",
    "alpha_options = [1.0, 0.1, 5e-2, 2e-2, 1e-2, 1e-3, 0.0]\n",
    "\n",
    "\n",
    "#create a param dist\n",
    "param_dist = dict(tfidfvectorizer__ngram_range=ngram_ranges, tfidfvectorizer__norm=norm_options,\n",
    "                  tfidfvectorizer__stop_words=stopword_options, multinomialnb__alpha=alpha_options)\n",
    "\n",
    "# create a radomizedgrid search\n",
    "rand_mnb = RandomizedSearchCV(pipe, param_dist, cv=10, scoring='roc_auc',\n",
    "                              n_iter=10, return_train_score=True,\n",
    "                              n_jobs=-1)\n",
    "\n",
    "X = df['Abstract Text']\n",
    "y = y_df['AFW']\n",
    "rand_mnb.fit(X, y)\n",
    "# examine the best model\n",
    "print(rand_mnb.best_score_)\n",
    "print(rand_mnb.best_params_)"
   ]
  },
  {
   "cell_type": "code",
   "execution_count": 209,
   "metadata": {},
   "outputs": [
    {
     "data": {
      "text/html": [
       "<div>\n",
       "<style scoped>\n",
       "    .dataframe tbody tr th:only-of-type {\n",
       "        vertical-align: middle;\n",
       "    }\n",
       "\n",
       "    .dataframe tbody tr th {\n",
       "        vertical-align: top;\n",
       "    }\n",
       "\n",
       "    .dataframe thead th {\n",
       "        text-align: right;\n",
       "    }\n",
       "</style>\n",
       "<table border=\"1\" class=\"dataframe\">\n",
       "  <thead>\n",
       "    <tr style=\"text-align: right;\">\n",
       "      <th></th>\n",
       "      <th>Predicted: 0</th>\n",
       "      <th>Predicted: 1</th>\n",
       "    </tr>\n",
       "  </thead>\n",
       "  <tbody>\n",
       "    <tr>\n",
       "      <th>Actual: 0</th>\n",
       "      <td>702</td>\n",
       "      <td>2</td>\n",
       "    </tr>\n",
       "    <tr>\n",
       "      <th>Actual: 1</th>\n",
       "      <td>25</td>\n",
       "      <td>13</td>\n",
       "    </tr>\n",
       "  </tbody>\n",
       "</table>\n",
       "</div>"
      ],
      "text/plain": [
       "           Predicted: 0  Predicted: 1\n",
       "Actual: 0           702             2\n",
       "Actual: 1            25            13"
      ]
     },
     "execution_count": 209,
     "metadata": {},
     "output_type": "execute_result"
    }
   ],
   "source": [
    "# Now test\n",
    "classifier = rand_mnb.best_estimator_\n",
    "X_train, X_test, y_train, y_test = train_test_split(X, y, random_state=1)\n",
    "classifier.fit(X_train, y_train)\n",
    "y_pred = classifier.predict(X_test)\n",
    "confusion_matrix(y_test, y_pred)"
   ]
  },
  {
   "cell_type": "markdown",
   "metadata": {},
   "source": [
    "#### Using grid search"
   ]
  },
  {
   "cell_type": "code",
   "execution_count": 67,
   "metadata": {},
   "outputs": [
    {
     "name": "stdout",
     "output_type": "stream",
     "text": [
      "0.9310024255426635\n",
      "{'multinomialnb__alpha': 0.02, 'tfidfvectorizer__ngram_range': (1, 1), 'tfidfvectorizer__norm': 'l2', 'tfidfvectorizer__stop_words': 'english'}\n",
      "Wall time: 12min 59s\n"
     ]
    }
   ],
   "source": [
    "%%time\n",
    "\n",
    "# create a pipeline\n",
    "pipe = Pipeline([('tfidfvectorizer', TfidfVectorizer()),\n",
    "                 ('multinomialnb', MultinomialNB())\n",
    "                ])\n",
    "\n",
    "# search for an optimal parameter using RandomizedSearchCV\n",
    "# TFIDF params\n",
    "ngram_ranges = [(1, 1), (1, 2), (1, 3), (1, 4)]\n",
    "norm_options = [None,'l1', 'l2']\n",
    "stopword_options = [None, 'english']\n",
    "\n",
    "# MultinomialNB params\n",
    "alpha_options = [1.0, 0.1, 5e-2, 2e-2, 1e-2, 1e-3, 0.0]\n",
    "\n",
    "\n",
    "#create a param dist\n",
    "param_grid = dict(tfidfvectorizer__ngram_range=ngram_ranges, tfidfvectorizer__norm=norm_options,\n",
    "                  tfidfvectorizer__stop_words=stopword_options, multinomialnb__alpha=alpha_options)\n",
    "\n",
    "# create a radomizedgrid search\n",
    "rand_mnb = GridSearchCV(pipe, param_grid, cv=10, scoring='roc_auc',\n",
    "                              return_train_score=True,\n",
    "                              n_jobs=-1)\n",
    "X = df['Abstract Text']\n",
    "y = y_df['AFW']\n",
    "rand_mnb.fit(X, y)\n",
    "# examine the best model\n",
    "print(rand_mnb.best_score_)\n",
    "print(rand_mnb.best_params_)"
   ]
  },
  {
   "cell_type": "code",
   "execution_count": 210,
   "metadata": {},
   "outputs": [
    {
     "name": "stdout",
     "output_type": "stream",
     "text": [
      "AUC: 0.93 (+/- 0.12)\n",
      "Wall time: 2.86 s\n"
     ]
    }
   ],
   "source": [
    "%%time\n",
    "pipe = Pipeline([('tfidfvectorizer', TfidfVectorizer(stop_words='english', norm='l2')),\n",
    "                 ('multinomialnb', MultinomialNB(alpha=0.02))\n",
    "                ])\n",
    "scores = cross_val_score(pipe, df['Abstract Text'], y_df['AFW'], cv=10, scoring='roc_auc')\n",
    "print(\"AUC: %0.2f (+/- %0.2f)\" % (scores.mean(), scores.std() * 2))"
   ]
  },
  {
   "cell_type": "code",
   "execution_count": null,
   "metadata": {},
   "outputs": [],
   "source": []
  },
  {
   "cell_type": "code",
   "execution_count": 211,
   "metadata": {},
   "outputs": [
    {
     "data": {
      "text/html": [
       "<div>\n",
       "<style scoped>\n",
       "    .dataframe tbody tr th:only-of-type {\n",
       "        vertical-align: middle;\n",
       "    }\n",
       "\n",
       "    .dataframe tbody tr th {\n",
       "        vertical-align: top;\n",
       "    }\n",
       "\n",
       "    .dataframe thead th {\n",
       "        text-align: right;\n",
       "    }\n",
       "</style>\n",
       "<table border=\"1\" class=\"dataframe\">\n",
       "  <thead>\n",
       "    <tr style=\"text-align: right;\">\n",
       "      <th></th>\n",
       "      <th>Predicted: 0</th>\n",
       "      <th>Predicted: 1</th>\n",
       "    </tr>\n",
       "  </thead>\n",
       "  <tbody>\n",
       "    <tr>\n",
       "      <th>Actual: 0</th>\n",
       "      <td>2804</td>\n",
       "      <td>14</td>\n",
       "    </tr>\n",
       "    <tr>\n",
       "      <th>Actual: 1</th>\n",
       "      <td>14</td>\n",
       "      <td>136</td>\n",
       "    </tr>\n",
       "  </tbody>\n",
       "</table>\n",
       "</div>"
      ],
      "text/plain": [
       "           Predicted: 0  Predicted: 1\n",
       "Actual: 0          2804            14\n",
       "Actual: 1            14           136"
      ]
     },
     "execution_count": 211,
     "metadata": {},
     "output_type": "execute_result"
    }
   ],
   "source": [
    "pipe.fit(df['Abstract Text'], y_df['AFW'])\n",
    "y_pred = pipe.predict(df['Abstract Text'])\n",
    "confusion_matrix(y_df['AFW'], y_pred)"
   ]
  },
  {
   "cell_type": "markdown",
   "metadata": {},
   "source": [
    "Let's see how this model works on the other classes"
   ]
  },
  {
   "cell_type": "code",
   "execution_count": 73,
   "metadata": {},
   "outputs": [
    {
     "name": "stdout",
     "output_type": "stream",
     "text": [
      "AFW:\n",
      "AUC: 0.93 (+/- 0.12)\n",
      "----------------------------------------------------------------------------------------------------\n",
      "CONTAINMENT:\n",
      "AUC: 0.95 (+/- 0.06)\n",
      "----------------------------------------------------------------------------------------------------\n",
      "ECCS:\n",
      "AUC: 0.89 (+/- 0.08)\n",
      "----------------------------------------------------------------------------------------------------\n",
      "EDG:\n",
      "AUC: 0.94 (+/- 0.09)\n",
      "----------------------------------------------------------------------------------------------------\n",
      "ELECTRICAL PWR:\n",
      "AUC: 0.93 (+/- 0.04)\n",
      "----------------------------------------------------------------------------------------------------\n",
      "FIRE PROTECTION:\n",
      "AUC: 0.94 (+/- 0.09)\n",
      "----------------------------------------------------------------------------------------------------\n",
      "FLOODING/MISSILES:\n",
      "AUC: 0.96 (+/- 0.07)\n",
      "----------------------------------------------------------------------------------------------------\n",
      "HUMAN PERF/SAFETY CULTURE:\n",
      "AUC: 0.80 (+/- 0.06)\n",
      "----------------------------------------------------------------------------------------------------\n",
      "HVAC/DOSE:\n",
      "AUC: 0.92 (+/- 0.09)\n",
      "----------------------------------------------------------------------------------------------------\n",
      "I&C:\n",
      "AUC: 0.88 (+/- 0.04)\n",
      "----------------------------------------------------------------------------------------------------\n",
      "NRO:\n",
      "AUC: 0.68 (+/- 0.14)\n",
      "----------------------------------------------------------------------------------------------------\n",
      "PRI MAT'L/VSL/WELD:\n",
      "AUC: 0.98 (+/- 0.03)\n",
      "----------------------------------------------------------------------------------------------------\n",
      "PUMP & VALVE:\n",
      "AUC: 0.91 (+/- 0.05)\n",
      "----------------------------------------------------------------------------------------------------\n",
      "QA/VENDOR/CFSI:\n",
      "AUC: 0.75 (+/- 0.11)\n",
      "----------------------------------------------------------------------------------------------------\n",
      "SERVICE WATER/UHS:\n",
      "AUC: 0.94 (+/- 0.09)\n",
      "----------------------------------------------------------------------------------------------------\n"
     ]
    }
   ],
   "source": [
    "for cls in y_df.columns:\n",
    "    scores = cross_val_score(pipe, df['Abstract Text'], y_df[cls], cv=10, scoring='roc_auc')\n",
    "    print(f'{cls}:')\n",
    "    print(\"AUC: %0.2f (+/- %0.2f)\" % (scores.mean(), scores.std() * 2))\n",
    "    print('-'*100)"
   ]
  },
  {
   "cell_type": "code",
   "execution_count": 80,
   "metadata": {},
   "outputs": [
    {
     "name": "stdout",
     "output_type": "stream",
     "text": [
      "False Positive:\n",
      "At 1415 Central Daylight Time (CDT) on July 24, 2009, with Unit 1 in Mode 1, at approximately 100 percent of rated thermal power, Operations was conducting a surveillance on the High Pressure Coolant Injection System (HPCI), 1-SR-3.5.1.7, \"HPCI Main and Booster Pump Set Development Head and Flow Rate Test at Rated Reactor Pressure.\" At approximately 1415 CDT, during the prerequisite steps 1-PCV-073-0018C, the HPCI Turbine Stop Valve Mechanical Trip Hold Valve developed a tear in the diaphragm. This tear caused oil from the HPCI control oil system to spill at a rate of approximately 0.25 to 0.5 gallons per minute (gpm). The pressurization of the control oil system is the motive force required to open the HPCI stop valve. If the oil system could not be pressurized the HPCI Stop Valve could not be opened which would render HPCI inoperable.  The root cause was a material defect in the diaphragm of 1-PCV-073-0018C, HPCI Turbine Stop Valve Mechanical Trip Hold Valve, allowed the diaphragm to tear under normal system pressure and operating conditions.  Corrective actions to prevent recurrence include the quarantine of spare diaphragms determined to be from same lot as the diaphragm that failed and verifying that diaphragms from the same lot as the failed diaphragm are not currently installed.\n",
      "\n",
      "--------------------------------------------------------------------------------\n",
      "\n",
      "False Negative:\n",
      "During a scheduled surveillance per procedure STA-001-005 (Leakage Testing of Air and Nitrogen Accumulators for Safety Related Valves) for the nitrogen accumulator system, an accumulator as-found leak rate exceeded the acceptance criteria. Subsequent investigation determined that the cause of the leakage was an emergency feedwater valve failed actuator diaphragm. This failure could have existed prior to discovery for a duration longer than the Technical Specification Limiting Condition for Operation action statement allows. The applicable Technical Specifications are 3.6.3 (Containment Isolation), 3.7.1.2 (Emergency Feedwater), and 3.7.1.7 (Atmospheric Dump Valves).\n",
      "\n",
      "The failed diaphragm was replaced and system operability restored within 72 hours after discovery.\n",
      "\n",
      "This identified condition is being reported as a Licensee Event Report (LER) under reporting criteria 10CFR50.73(a)(2)(i)(B): Any operation or condition which was prohibited by the plant's Technical Specifications.\n"
     ]
    }
   ],
   "source": [
    "# Let's examine one of the false positives\n",
    "pipe.fit(df['Abstract Text'], y_df['AFW'])\n",
    "y_pred = pipe.predict(df['Abstract Text'])\n",
    "\n",
    "print('False Positive:')\n",
    "print(X.iloc[np.where((y_df['AFW'] == 0) & (y_pred == 1))[0]].values[0])\n",
    "print('\\n' + '-'*80 + '\\n')\n",
    "\n",
    "# And one of the false negative\n",
    "print('False Negative:')\n",
    "print(X.iloc[np.where((y_df['AFW'] == 1) & (y_pred == 0))[0]].values[1])"
   ]
  },
  {
   "cell_type": "code",
   "execution_count": 83,
   "metadata": {},
   "outputs": [
    {
     "data": {
      "image/png": "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\n",
      "text/plain": [
       "<Figure size 432x288 with 1 Axes>"
      ]
     },
     "metadata": {},
     "output_type": "display_data"
    }
   ],
   "source": [
    "auc = plot_roc(pipe, X=df['Abstract Text'], y=y_df, class_name='AFW')"
   ]
  },
  {
   "cell_type": "markdown",
   "metadata": {},
   "source": [
    "### SVC(kernel='linear') hyperparameter tuning with RandomizedSearchCV"
   ]
  },
  {
   "cell_type": "code",
   "execution_count": 51,
   "metadata": {},
   "outputs": [
    {
     "name": "stdout",
     "output_type": "stream",
     "text": [
      "0.9245649751748218\n",
      "{'tfidfvectorizer__stop_words': 'english', 'tfidfvectorizer__norm': None, 'tfidfvectorizer__ngram_range': (1, 3), 'svc__C': 0.75}\n",
      "Wall time: 10min 30s\n"
     ]
    }
   ],
   "source": [
    "%%time\n",
    "\n",
    "# create a pipeline\n",
    "pipe = Pipeline([\n",
    "                 ('tfidfvectorizer', TfidfVectorizer()),\n",
    "                 ('svc', SVC(kernel='linear', probability=True))\n",
    "                ])\n",
    "\n",
    "# TFIDF params\n",
    "ngram_ranges = [(1, 1), (1, 2), (1, 3), (1, 4)]\n",
    "norm_options = [None,'l1', 'l2']\n",
    "stopword_options = [None, 'english']\n",
    "\n",
    "# SVC params\n",
    "C_options = np.linspace(0.0, 1.0, 21)\n",
    "\n",
    "#create a param dist\n",
    "param_dist = dict(tfidfvectorizer__ngram_range=ngram_ranges, tfidfvectorizer__norm=norm_options,\n",
    "                  tfidfvectorizer__stop_words=stopword_options, svc__C=C_options)\n",
    "\n",
    "rand_svc = RandomizedSearchCV(pipe, param_dist, cv=10, scoring='roc_auc',\n",
    "                              n_iter=10, random_state=5, return_train_score=True,\n",
    "                              n_jobs=-1)\n",
    "\n",
    "y = y_df['AFW']\n",
    "rand_svc.fit(X, y)\n",
    "\n",
    "# examine the best model\n",
    "print(rand_svc.best_score_)\n",
    "print(rand_svc.best_params_)"
   ]
  },
  {
   "cell_type": "code",
   "execution_count": 90,
   "metadata": {},
   "outputs": [
    {
     "name": "stdout",
     "output_type": "stream",
     "text": [
      "Wall time: 997 µs\n"
     ]
    }
   ],
   "source": [
    "%%time\n",
    "\n",
    "# create a pipeline\n",
    "pipe = Pipeline([\n",
    "                 ('tfidfvectorizer', TfidfVectorizer()),\n",
    "                 ('svc', SVC(kernel='linear', probability=True))\n",
    "                ])\n",
    "\n",
    "# TFIDF params\n",
    "ngram_ranges = [(1, 1), (1, 2), (1, 3), (1, 4)]\n",
    "norm_options = [None,'l1', 'l2']\n",
    "stopword_options = [None, 'english']\n",
    "\n",
    "# SVC params\n",
    "C_options = np.linspace(0.01, 1.0, 21)\n",
    "\n",
    "#create a param dist\n",
    "param_grid = dict(tfidfvectorizer__ngram_range=ngram_ranges, tfidfvectorizer__norm=norm_options,\n",
    "                  tfidfvectorizer__stop_words=stopword_options, svc__C=C_options)\n",
    "\n",
    "rand_svc = GridSearchCV(pipe, param_grid, cv=10, scoring='roc_auc',\n",
    "                              return_train_score=True,\n",
    "                              n_jobs=-1)\n",
    "\n",
    "y = y_df['AFW']\n",
    "rand_svc.fit(X, y)\n",
    "\n",
    "# examine the best model\n",
    "print(rand_svc.best_score_)\n",
    "print(rand_svc.best_params_)"
   ]
  },
  {
   "cell_type": "code",
   "execution_count": 61,
   "metadata": {},
   "outputs": [
    {
     "data": {
      "text/html": [
       "<div>\n",
       "<style scoped>\n",
       "    .dataframe tbody tr th:only-of-type {\n",
       "        vertical-align: middle;\n",
       "    }\n",
       "\n",
       "    .dataframe tbody tr th {\n",
       "        vertical-align: top;\n",
       "    }\n",
       "\n",
       "    .dataframe thead th {\n",
       "        text-align: right;\n",
       "    }\n",
       "</style>\n",
       "<table border=\"1\" class=\"dataframe\">\n",
       "  <thead>\n",
       "    <tr style=\"text-align: right;\">\n",
       "      <th></th>\n",
       "      <th>Predicted: 0</th>\n",
       "      <th>Predicted: 1</th>\n",
       "    </tr>\n",
       "  </thead>\n",
       "  <tbody>\n",
       "    <tr>\n",
       "      <th>Actual: 0</th>\n",
       "      <td>2817</td>\n",
       "      <td>1</td>\n",
       "    </tr>\n",
       "    <tr>\n",
       "      <th>Actual: 1</th>\n",
       "      <td>8</td>\n",
       "      <td>142</td>\n",
       "    </tr>\n",
       "  </tbody>\n",
       "</table>\n",
       "</div>"
      ],
      "text/plain": [
       "           Predicted: 0  Predicted: 1\n",
       "Actual: 0          2817             1\n",
       "Actual: 1             8           142"
      ]
     },
     "execution_count": 61,
     "metadata": {},
     "output_type": "execute_result"
    }
   ],
   "source": [
    "# Now let's take a look at the confusion matrix\n",
    "svc = rand_svc.best_estimator_\n",
    "svc.fit(df['Abstract Text'], y_df['AFW'])\n",
    "y_pred = svc.predict(df['Abstract Text'])\n",
    "confusion_matrix(y_df['AFW'], y_pred)"
   ]
  },
  {
   "cell_type": "markdown",
   "metadata": {},
   "source": [
    "#### Full report text\n",
    "Now I'll try the full text"
   ]
  },
  {
   "cell_type": "code",
<<<<<<< HEAD
   "execution_count": 33,
   "metadata": {
    "scrolled": true
   },
   "outputs": [
    {
     "data": {
      "image/png": "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\n",
      "text/plain": [
       "<Figure size 432x288 with 1 Axes>"
      ]
     },
     "metadata": {},
     "output_type": "display_data"
    }
   ],
   "source": [
    "pipe = Pipeline([\n",
    "                 ('tfidfvectorizer', TfidfVectorizer(stop_words='english', ngram_range=(1, 3))),\n",
    "                 ('svc', SVC(kernel='linear', probability=True, C=0.75))\n",
    "                ])\n",
    "auc = plot_roc(pipe, df['Abstract Text'], y_df, class_name='AFW')"
   ]
  },
  {
   "cell_type": "markdown",
   "metadata": {},
   "source": [
    "Lets see how it performs on all classes"
   ]
  },
  {
   "cell_type": "code",
   "execution_count": 89,
   "metadata": {},
   "outputs": [
    {
     "name": "stdout",
     "output_type": "stream",
     "text": [
      "AFW:\n",
      "AUC: 0.92 (+/- 0.13)\n",
      "----------------------------------------------------------------------------------------------------\n",
      "CONTAINMENT:\n",
      "AUC: 0.94 (+/- 0.06)\n",
      "----------------------------------------------------------------------------------------------------\n",
      "ECCS:\n",
      "AUC: 0.90 (+/- 0.06)\n",
      "----------------------------------------------------------------------------------------------------\n",
      "EDG:\n",
      "AUC: 0.95 (+/- 0.10)\n",
      "----------------------------------------------------------------------------------------------------\n",
      "ELECTRICAL PWR:\n",
      "AUC: 0.94 (+/- 0.04)\n",
      "----------------------------------------------------------------------------------------------------\n",
      "FIRE PROTECTION:\n",
      "AUC: 0.98 (+/- 0.04)\n",
      "----------------------------------------------------------------------------------------------------\n",
      "FLOODING/MISSILES:\n",
      "AUC: 0.96 (+/- 0.07)\n",
      "----------------------------------------------------------------------------------------------------\n",
      "HUMAN PERF/SAFETY CULTURE:\n",
      "AUC: 0.82 (+/- 0.04)\n",
      "----------------------------------------------------------------------------------------------------\n",
      "HVAC/DOSE:\n",
      "AUC: 0.93 (+/- 0.08)\n",
      "----------------------------------------------------------------------------------------------------\n",
      "I&C:\n",
      "AUC: 0.88 (+/- 0.05)\n",
      "----------------------------------------------------------------------------------------------------\n",
      "NRO:\n",
      "AUC: 0.64 (+/- 0.09)\n",
      "----------------------------------------------------------------------------------------------------\n",
      "PRI MAT'L/VSL/WELD:\n",
      "AUC: 0.98 (+/- 0.04)\n",
      "----------------------------------------------------------------------------------------------------\n",
      "PUMP & VALVE:\n",
      "AUC: 0.91 (+/- 0.05)\n",
      "----------------------------------------------------------------------------------------------------\n",
      "QA/VENDOR/CFSI:\n",
      "AUC: 0.74 (+/- 0.08)\n",
      "----------------------------------------------------------------------------------------------------\n",
      "SERVICE WATER/UHS:\n",
      "AUC: 0.94 (+/- 0.08)\n",
      "----------------------------------------------------------------------------------------------------\n",
      "Wall time: 25min 22s\n"
     ]
    }
   ],
   "source": [
    "%%time\n",
    "for cls in y_df.columns:\n",
    "    scores = cross_val_score(pipe, df['Abstract Text'], y_df[cls], cv=10, scoring='roc_auc')\n",
    "    print(f'{cls}:')\n",
    "    print(\"AUC: %0.2f (+/- %0.2f)\" % (scores.mean(), scores.std() * 2))\n",
    "    print('-'*100)"
   ]
  },
  {
   "cell_type": "markdown",
   "metadata": {},
   "source": [
    "#### The performance is comparable to naive bayes.  Since naive bayes is faster, we'll use that model."
   ]
  },
  {
   "cell_type": "code",
   "execution_count": 139,
   "metadata": {},
   "outputs": [
    {
     "name": "stdout",
     "output_type": "stream",
     "text": [
      "             precision    recall  f1-score   support\n",
      "\n",
      "          0       0.87      0.30      0.44        44\n",
      "          1       0.77      0.64      0.70        92\n",
      "          2       0.84      0.47      0.60       121\n",
      "          3       0.56      0.31      0.40        32\n",
      "          4       0.89      0.68      0.77       179\n",
      "          5       0.92      0.67      0.77        33\n",
      "          6       0.82      0.74      0.78        31\n",
      "          7       0.66      0.53      0.58       240\n",
      "          8       0.75      0.60      0.67        77\n",
      "          9       0.72      0.58      0.65       137\n",
      "         10       0.48      0.16      0.25        79\n",
      "         11       0.91      0.74      0.82        54\n",
      "         12       0.78      0.61      0.69       136\n",
      "         13       0.38      0.13      0.20        61\n",
      "         14       0.69      0.56      0.62        36\n",
      "\n",
      "avg / total       0.74      0.53      0.61      1352\n",
      "\n"
     ]
    }
   ],
   "source": [
    "mnb = Pipeline([('tfidfvectorizer', TfidfVectorizer(stop_words='english', norm='l2', ngram_range=(1, 1))),\n",
    "                 ('multinomialnb', OneVsRestClassifier(MultinomialNB(alpha=0.02)))\n",
    "                ])\n",
    "X_train, X_test, y_train, y_test = train_test_split(df['Abstract Text'], y_df, random_state=42)\n",
    "mnb.fit(X_train, y_train)\n",
    "y_pred = mnb.predict(X_test)\n",
    "print(metrics.classification_report(y_test, y_pred))"
   ]
  },
  {
   "cell_type": "markdown",
   "metadata": {},
   "source": [
    "## Other features\n",
    "The data also has the report titles and full (uncleaned) pdf text. From experience, I can also tell that some keywords might be important to some of the documents. For example, Auxiliary Feedwater is called Emergency Feedwater in a few facilities, which may have cause some of the false negatives in the first model. I'll see if adding a feature indicating the presence of keywords specific to each class and see if that helps the model."
   ]
  },
  {
   "cell_type": "markdown",
   "metadata": {},
   "source": [
    "### Title\n",
    "Let's see if the title is a useful feature for predicting the categories."
   ]
  },
  {
   "cell_type": "code",
   "execution_count": 147,
   "metadata": {},
   "outputs": [
    {
     "name": "stdout",
     "output_type": "stream",
     "text": [
      "0.8708520211823741\n",
      "{'multinomialnb__alpha': 0.02, 'tfidfvectorizer__ngram_range': (1, 1), 'tfidfvectorizer__norm': 'l1', 'tfidfvectorizer__stop_words': 'english'}\n",
      "Wall time: 52 s\n"
     ]
    }
   ],
   "source": [
    "%%time\n",
    "# First, I'll try using the title\n",
    "\n",
    "# create a pipeline\n",
    "pipe = Pipeline([('tfidfvectorizer', TfidfVectorizer()),\n",
    "                 ('multinomialnb', MultinomialNB())\n",
    "                ])\n",
    "\n",
    "# search for an optimal parameter using RandomizedSearchCV\n",
    "# TFIDF params\n",
    "ngram_ranges = [(1, 1), (1, 2), (1, 3), (1, 4)]\n",
    "norm_options = [None,'l1', 'l2']\n",
    "stopword_options = [None, 'english']\n",
    "\n",
    "# MultinomialNB params\n",
    "alpha_options = [1.0, 0.1, 5e-2, 2e-2, 1e-2, 1e-3, 0.0]\n",
    "\n",
    "\n",
    "#create a param dist\n",
    "param_dist = dict(tfidfvectorizer__ngram_range=ngram_ranges, tfidfvectorizer__norm=norm_options,\n",
    "                  tfidfvectorizer__stop_words=stopword_options, multinomialnb__alpha=alpha_options)\n",
    "\n",
    "# create a radomizedgrid search\n",
    "rand_mnb = GridSearchCV(pipe, param_dist, cv=10, scoring='roc_auc',\n",
    "                              return_train_score=True,\n",
    "                              n_jobs=-1)\n",
    "X = df['Title']\n",
    "y = y_df['AFW']\n",
    "rand_mnb.fit(X, y)\n",
    "# examine the best model\n",
    "print(rand_mnb.best_score_)\n",
    "print(rand_mnb.best_params_)"
   ]
  },
  {
   "cell_type": "code",
   "execution_count": 164,
   "metadata": {},
   "outputs": [
    {
     "name": "stdout",
     "output_type": "stream",
     "text": [
      "AUC: 0.87 (+/- 0.16)\n",
      "Wall time: 310 ms\n"
     ]
    }
   ],
   "source": [
    "%%time\n",
    "pipe = Pipeline([('tfidfvectorizer', TfidfVectorizer(stop_words='english', norm='l1')),\n",
    "                 ('multinomialnb', MultinomialNB(alpha=0.02))\n",
    "                ])\n",
    "scores = cross_val_score(pipe, df['Title'], y_df['AFW'], cv=10, scoring='roc_auc')\n",
    "print(\"AUC: %0.2f (+/- %0.2f)\" % (scores.mean(), scores.std() * 2))\n",
    "pipe.fit(df['Title'], y_df['AFW'])\n",
    "y_pred = pipe.predict(df['Title'])"
   ]
  },
  {
   "cell_type": "code",
   "execution_count": 165,
   "metadata": {},
   "outputs": [
    {
     "data": {
      "text/html": [
       "<div>\n",
       "<style scoped>\n",
       "    .dataframe tbody tr th:only-of-type {\n",
       "        vertical-align: middle;\n",
       "    }\n",
       "\n",
       "    .dataframe tbody tr th {\n",
       "        vertical-align: top;\n",
       "    }\n",
       "\n",
       "    .dataframe thead th {\n",
       "        text-align: right;\n",
       "    }\n",
       "</style>\n",
       "<table border=\"1\" class=\"dataframe\">\n",
       "  <thead>\n",
       "    <tr style=\"text-align: right;\">\n",
       "      <th></th>\n",
       "      <th>Predicted: 0</th>\n",
       "      <th>Predicted: 1</th>\n",
       "    </tr>\n",
       "  </thead>\n",
       "  <tbody>\n",
       "    <tr>\n",
       "      <th>Actual: 0</th>\n",
       "      <td>2818</td>\n",
       "      <td>0</td>\n",
       "    </tr>\n",
       "    <tr>\n",
       "      <th>Actual: 1</th>\n",
       "      <td>149</td>\n",
       "      <td>1</td>\n",
       "    </tr>\n",
       "  </tbody>\n",
       "</table>\n",
       "</div>"
      ],
      "text/plain": [
       "           Predicted: 0  Predicted: 1\n",
       "Actual: 0          2818             0\n",
       "Actual: 1           149             1"
      ]
     },
     "execution_count": 165,
     "metadata": {},
     "output_type": "execute_result"
    }
   ],
   "source": [
    "confusion_matrix(y_df['AFW'], y_pred)"
   ]
  },
  {
   "cell_type": "markdown",
   "metadata": {},
   "source": [
    "### Full report text\n",
    "Now I'll try the full text"
   ]
  },
  {
   "cell_type": "code",
   "execution_count": 166,
=======
   "execution_count": 76,
>>>>>>> 014c245f8eba11c609713e6cb971f0f38bc97649
   "metadata": {},
   "outputs": [
    {
     "data": {
      "text/plain": [
       "AFW                           150\n",
       "CONTAINMENT                   347\n",
       "ECCS                          420\n",
       "EDG                           181\n",
       "ELECTRICAL PWR                713\n",
       "FIRE PROTECTION               159\n",
       "FLOODING/MISSILES             127\n",
       "HUMAN PERF/SAFETY CULTURE    1012\n",
       "HVAC/DOSE                     267\n",
       "I&C                           573\n",
       "NRO                           308\n",
       "PRI MAT'L/VSL/WELD            178\n",
       "PUMP & VALVE                  536\n",
       "QA/VENDOR/CFSI                252\n",
       "SERVICE WATER/UHS             172\n",
       "dtype: int64"
      ]
     },
<<<<<<< HEAD
     "execution_count": 166,
=======
     "execution_count": 76,
>>>>>>> 014c245f8eba11c609713e6cb971f0f38bc97649
     "metadata": {},
     "output_type": "execute_result"
    }
   ],
   "source": [
<<<<<<< HEAD
    "# First, I need remove reports with high misspelling ratios\n",
=======
    "# First, I'll remove reports with high misspelling ratios\n",
>>>>>>> 014c245f8eba11c609713e6cb971f0f38bc97649
    "full_text = df[df['Text Misspelling Ratio'] < 0.1]\n",
    "\n",
    "# Transform the response column (TRG) to a matrix\n",
    "mlb = MultiLabelBinarizer()\n",
    "y_df_ft = mlb.fit_transform(full_text['TRG'].apply(lambda t: t.split(', ')))\n",
    "y_df_ft = pd.DataFrame(y_df_ft, columns = mlb.classes_)\n",
    "y_df_ft.sum() # Class Counts\n",
    "classes = list(y_df_ft.sum()[y_df_ft.sum() > 100].index)\n",
    "classes.remove('OTHER')\n",
    "y_df_ft = y_df_ft[classes]\n",
    "y_df_ft.sum()"
   ]
  },
  {
   "cell_type": "code",
   "execution_count": 78,
<<<<<<< HEAD
   "metadata": {},
   "outputs": [
    {
     "name": "stdout",
     "output_type": "stream",
     "text": [
      "0.7432473482650714\n",
      "{'tfidfvectorizer__stop_words': 'english', 'tfidfvectorizer__norm': None, 'tfidfvectorizer__ngram_range': (1, 3), 'multinomialnb__alpha': 0.75}\n",
      "Wall time: 38min 45s\n"
     ]
    }
   ],
   "source": [
    "%%time\n",
    "# First, I'll try using the title\n",
    "\n",
    "# create a pipeline\n",
    "pipe = Pipeline([('tfidfvectorizer', TfidfVectorizer()),\n",
    "                 ('multinomialnb', MultinomialNB())\n",
    "                ])\n",
    "\n",
    "# search for an optimal parameter using RandomizedSearchCV\n",
    "# TFIDF params\n",
    "ngram_ranges = [(1, 1), (1, 2), (1, 3), (1, 4)]\n",
    "norm_options = [None,'l1', 'l2']\n",
    "stopword_options = [None, 'english']\n",
    "\n",
    "# MultinomialNB params\n",
    "alpha_options = np.linspace(0.0, 1.0, 21)\n",
    "\n",
    "\n",
    "#create a param dist\n",
    "param_dist = dict(tfidfvectorizer__ngram_range=ngram_ranges, tfidfvectorizer__norm=norm_options,\n",
    "                  tfidfvectorizer__stop_words=stopword_options, multinomialnb__alpha=alpha_options)\n",
    "\n",
    "# create a radomizedgrid search\n",
    "rand_mnb = RandomizedSearchCV(pipe, param_dist, cv=10, scoring='roc_auc',\n",
    "                          n_iter=10, random_state=5, return_train_score=True)\n",
    "X = full_text['Text']\n",
    "y = y_df_ft['AFW']\n",
    "rand_mnb.fit(X, y)\n",
    "# examine the best model\n",
    "print(rand_mnb.best_score_)\n",
    "print(rand_mnb.best_params_)"
   ]
  },
  {
   "cell_type": "code",
   "execution_count": 167,
   "metadata": {},
   "outputs": [
    {
     "data": {
      "text/html": [
       "<div>\n",
       "<style scoped>\n",
       "    .dataframe tbody tr th:only-of-type {\n",
       "        vertical-align: middle;\n",
       "    }\n",
       "\n",
       "    .dataframe tbody tr th {\n",
       "        vertical-align: top;\n",
       "    }\n",
       "\n",
       "    .dataframe thead th {\n",
       "        text-align: right;\n",
       "    }\n",
       "</style>\n",
       "<table border=\"1\" class=\"dataframe\">\n",
       "  <thead>\n",
       "    <tr style=\"text-align: right;\">\n",
       "      <th></th>\n",
       "      <th>Predicted: 0</th>\n",
       "      <th>Predicted: 1</th>\n",
       "    </tr>\n",
       "  </thead>\n",
       "  <tbody>\n",
       "    <tr>\n",
       "      <th>Actual: 0</th>\n",
       "      <td>700</td>\n",
       "      <td>2</td>\n",
       "    </tr>\n",
       "    <tr>\n",
       "      <th>Actual: 1</th>\n",
       "      <td>21</td>\n",
       "      <td>13</td>\n",
       "    </tr>\n",
       "  </tbody>\n",
       "</table>\n",
       "</div>"
      ],
      "text/plain": [
       "           Predicted: 0  Predicted: 1\n",
       "Actual: 0           700             2\n",
       "Actual: 1            21            13"
      ]
     },
     "execution_count": 167,
     "metadata": {},
     "output_type": "execute_result"
    }
   ],
   "source": [
    "mnb = Pipeline([('tfidfvectorizer', TfidfVectorizer(stop_words='english', norm='l2', ngram_range=(1, 3))),\n",
    "                 ('multinomialnb', MultinomialNB(alpha=0.02))\n",
    "                ])\n",
    "X = full_text['Text']\n",
    "y = y_df_ft['AFW']\n",
    "X_train, X_test, y_train, y_test = train_test_split(X, y, random_state=42)\n",
    "mnb.fit(X_train, y_train)\n",
    "y_pred = mnb.predict(X_test)\n",
    "confusion_matrix(y_test, y_pred)"
=======
   "metadata": {},
   "outputs": [
    {
     "name": "stdout",
     "output_type": "stream",
     "text": [
      "0.7432473482650714\n",
      "{'tfidfvectorizer__stop_words': 'english', 'tfidfvectorizer__norm': None, 'tfidfvectorizer__ngram_range': (1, 3), 'multinomialnb__alpha': 0.75}\n",
      "Wall time: 38min 45s\n"
     ]
    }
   ],
   "source": [
    "%%time\n",
    "# First, I'll try using the title\n",
    "\n",
    "# create a pipeline\n",
    "pipe = Pipeline([('tfidfvectorizer', TfidfVectorizer()),\n",
    "                 ('multinomialnb', MultinomialNB())\n",
    "                ])\n",
    "\n",
    "# search for an optimal parameter using RandomizedSearchCV\n",
    "# TFIDF params\n",
    "ngram_ranges = [(1, 1), (1, 2), (1, 3), (1, 4)]\n",
    "norm_options = [None,'l1', 'l2']\n",
    "stopword_options = [None, 'english']\n",
    "\n",
    "# MultinomialNB params\n",
    "alpha_options = np.linspace(0.0, 1.0, 21)\n",
    "\n",
    "\n",
    "#create a param dist\n",
    "param_dist = dict(tfidfvectorizer__ngram_range=ngram_ranges, tfidfvectorizer__norm=norm_options,\n",
    "                  tfidfvectorizer__stop_words=stopword_options, multinomialnb__alpha=alpha_options)\n",
    "\n",
    "# create a radomizedgrid search\n",
    "rand_mnb = RandomizedSearchCV(pipe, param_dist, cv=10, scoring='roc_auc',\n",
    "                          n_iter=10, random_state=5, return_train_score=True)\n",
    "X = full_text['Text']\n",
    "y = y_df_ft['AFW']\n",
    "rand_mnb.fit(X, y)\n",
    "# examine the best model\n",
    "print(rand_mnb.best_score_)\n",
    "print(rand_mnb.best_params_)"
>>>>>>> 014c245f8eba11c609713e6cb971f0f38bc97649
   ]
  },
  {
   "cell_type": "markdown",
   "metadata": {},
   "source": [
    "### Using FeatureUnion to add other features\n",
    "I am testing the featureunion sklearn class for a single category"
   ]
  },
  {
   "cell_type": "code",
   "execution_count": 168,
   "metadata": {},
   "outputs": [],
   "source": [
    "class ContainsKeywords(BaseEstimator, TransformerMixin):\n",
    "    \"\"\"Extracts whether a document contains user specified keywords,\n",
    "       and returns a 1 (positive) or 0 (negative)\"\"\"\n",
    "    def __init__(self, keywords):\n",
    "        self.keywords = re.compile('|'.join('({})'.format(kw) for kw in keywords), flags=re.IGNORECASE)\n",
    "    \n",
    "    def fit(self, x, y=None):\n",
    "        return self\n",
    "    \n",
    "    def transform(self, documents):\n",
    "        return pd.Series(documents).apply(lambda d: \n",
    "                                          int(bool(self.keywords.search(d)))).values.reshape(-1,1)\n",
    "    \n",
    "class ItemSelector(BaseEstimator, TransformerMixin):\n",
    "    \"\"\"For data grouped by feature, select subset of data at a provided key.\n",
    "    Parameters\n",
    "    ----------\n",
    "    key : hashable, required\n",
    "        The key corresponding to the desired value in a mappable.\n",
    "    \"\"\"\n",
    "    def __init__(self, key):\n",
    "        self.key = key\n",
    "\n",
    "    def fit(self, x, y=None):\n",
    "        return self\n",
    "\n",
    "    def transform(self, data_dict):\n",
    "        return data_dict[self.key]"
   ]
  },
  {
   "cell_type": "code",
   "execution_count": 169,
   "metadata": {},
   "outputs": [],
   "source": [
    "keywords = {'AFW': ['auxiliary feedwater', 'emergency feedwater', 'afw', 'efw'],\n",
    "            'ELECTRICAL PWR': ['electrical power', 'offsite power', 'electrical bus', 'breaker', '4160V', '480V']\n",
    "           }"
   ]
  },
  {
   "cell_type": "code",
   "execution_count": 212,
   "metadata": {},
   "outputs": [],
   "source": [
    "pipeline = Pipeline([\n",
    "\n",
    "    # Use FeatureUnion to combine the features from subject and body\n",
    "    ('union', FeatureUnion(\n",
    "        transformer_list=[\n",
    "\n",
    "            # Pipeline for pulling user keywords\n",
    "            ('keywords', Pipeline([\n",
    "                ('selector', ItemSelector(key='Abstract Text')),\n",
    "                ('feature', ContainsKeywords(keywords['AFW'])),\n",
    "            ])),\n",
    "            \n",
    "            # Pipeline for pulling LER titles\n",
    "            ('title', Pipeline([\n",
    "                ('selector', ItemSelector(key='Title')),\n",
    "                ('tfidf', TfidfVectorizer(stop_words='english', ngram_range=(1, 3), norm='l2')),\n",
    "            ])),\n",
    "            \n",
    "            # Pipeline for standard bag-of-words model for abstract text\n",
    "            ('abstract_bow', Pipeline([\n",
    "                ('selector', ItemSelector(key='Abstract Text')),\n",
    "                ('tfidf', TfidfVectorizer(stop_words='english', ngram_range=(1, 3), norm='l2')),\n",
    "                ('best', TruncatedSVD(n_components=100)),\n",
    "            ])),\n",
    "            \n",
    "            # Pipeline for standard bag-of-words model for full text\n",
    "            ('full_bow', Pipeline([\n",
    "                ('selector', ItemSelector(key='Text')),\n",
    "                ('tfidf', TfidfVectorizer(stop_words='english', ngram_range=(1, 3), norm='l2')),\n",
    "                ('best', TruncatedSVD(n_components=100)),\n",
    "            ])),\n",
    "\n",
    "        ],\n",
    "\n",
    "        # weight components in FeatureUnion\n",
    "        transformer_weights={\n",
    "            'keywords': 0.5,\n",
    "            'title': 1.5,\n",
    "            'abstract_bow': 1.5,\n",
    "            'full_bow': 0.8\n",
    "        },\n",
    "    )),\n",
    "\n",
    "    # Use a SVC classifier on the combined features\n",
    "#     ('svc', LinearSVC()),\n",
    "    ('svc', SVC(kernel='linear', probability=True)),\n",
    "#     ('mnb', MultinomialNB(alpha=0.02)),\n",
    "])\n"
   ]
  },
  {
   "cell_type": "code",
   "execution_count": 213,
   "metadata": {},
   "outputs": [
    {
     "data": {
      "text/html": [
       "<div>\n",
       "<style scoped>\n",
       "    .dataframe tbody tr th:only-of-type {\n",
       "        vertical-align: middle;\n",
       "    }\n",
       "\n",
       "    .dataframe tbody tr th {\n",
       "        vertical-align: top;\n",
       "    }\n",
       "\n",
       "    .dataframe thead th {\n",
       "        text-align: right;\n",
       "    }\n",
       "</style>\n",
       "<table border=\"1\" class=\"dataframe\">\n",
       "  <thead>\n",
       "    <tr style=\"text-align: right;\">\n",
       "      <th></th>\n",
       "      <th>Predicted: 0</th>\n",
       "      <th>Predicted: 1</th>\n",
       "    </tr>\n",
       "  </thead>\n",
       "  <tbody>\n",
       "    <tr>\n",
       "      <th>Actual: 0</th>\n",
       "      <td>700</td>\n",
       "      <td>9</td>\n",
       "    </tr>\n",
       "    <tr>\n",
       "      <th>Actual: 1</th>\n",
       "      <td>5</td>\n",
       "      <td>28</td>\n",
       "    </tr>\n",
       "  </tbody>\n",
       "</table>\n",
       "</div>"
      ],
      "text/plain": [
       "           Predicted: 0  Predicted: 1\n",
       "Actual: 0           700             9\n",
       "Actual: 1             5            28"
      ]
     },
     "execution_count": 213,
     "metadata": {},
     "output_type": "execute_result"
    }
   ],
   "source": [
    "X = df.drop('TRG', axis=1)\n",
    "y = y_df['AFW']\n",
    "X_train, X_test, y_train, y_test = train_test_split(X, y)\n",
    "pipeline.fit(X_train, y_train)\n",
    "y_pred = pipeline.predict(X_test)\n",
    "confusion_matrix(y_pred, y_test)"
   ]
  },
  {
   "cell_type": "code",
   "execution_count": 214,
   "metadata": {},
   "outputs": [
    {
     "data": {
      "image/png": "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\n",
      "text/plain": [
       "<Figure size 432x288 with 1 Axes>"
      ]
     },
     "metadata": {},
     "output_type": "display_data"
    }
   ],
   "source": [
    "y_pred_proba = pipeline.predict_proba(X_test)\n",
    "preds = y_pred_proba[:,1]\n",
    "fpr, tpr, thresholds = metrics.roc_curve(y_test, preds)\n",
    "roc_auc = metrics.auc(fpr, tpr)\n",
    "plt.title('Receiver Operating Characteristic')\n",
    "plt.plot(fpr, tpr, 'b', label = 'AUC = %0.2f' % roc_auc)\n",
    "plt.legend(loc = 'lower right')\n",
    "plt.plot([0, 1], [0, 1],'r--')\n",
    "plt.xlim([0, 1])\n",
    "plt.ylim([0, 1])\n",
    "plt.ylabel('True Positive Rate')\n",
    "plt.xlabel('False Positive Rate')\n",
    "plt.show()"
   ]
  },
  {
   "cell_type": "markdown",
   "metadata": {},
   "source": [
    "Adding these features didn't result in a much better model than the SVC on just the abstract text. Perhaps adjusting the weights or cleaning the full text and adding other features (such as regulation the event was reported under, or which facility submitted the report) would improve the model."
   ]
  },
  {
   "cell_type": "markdown",
   "metadata": {},
   "source": [
    "### Conclusion\n",
    "I created an SVC and a multinomial Naive Bayes model to classify documents into the categories. The models generally perfomed well, yielding AUC scores above 90.  Improvements to the models include cleaning the text from the rest of the document and adding it to the model, adding features such as regulation and submitter, and extracting semantic features. Another improvement that can be made from a business objective perspective is to change the classification threshold so that if it lies in a more uncertain range, it is flagged so that it can be manually reviewed."
   ]
  }
 ],
 "metadata": {
  "kernelspec": {
   "display_name": "Python 3",
   "language": "python",
   "name": "python3"
  },
  "language_info": {
   "codemirror_mode": {
    "name": "ipython",
    "version": 3
   },
   "file_extension": ".py",
   "mimetype": "text/x-python",
   "name": "python",
   "nbconvert_exporter": "python",
   "pygments_lexer": "ipython3",
   "version": "3.6.6"
  }
 },
 "nbformat": 4,
 "nbformat_minor": 2
}
