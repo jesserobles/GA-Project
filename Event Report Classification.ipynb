{
 "cells": [
  {
   "cell_type": "markdown",
   "metadata": {},
   "source": [
    "## Licensee Event Report Classification\n",
    "\n",
    "### TL;DR\n",
    "My project is to build a model to classify documents into 16 categories. Each document can have multiple categories. The documents are scanned pdfs, so gathering the documents and extracting and cleaining the text took up most of the project time. The goal (business objective) is not to build a model with 100% accuracy, but to narrow the documents that need to be reviewed by a person to be categorized.\n",
    "\n",
    "### Background\n",
    "Certain events that occur at nuclear power reactor facilities are required to be reported by the facility license holders to the U.S. Nuclear Regulatory Commission (NRC). One of the reporting mechanisms is known as the Licensee Event Reporting (LER) System. Licensees submit the report to the U.S. NRC within 60 days of the event, either online or through the mail. In either case, the report is submitted using a standard NRC form, and ends up as a PDF in the agency's document management system as well as a dedicated LER search database. Each report is given a unique number, and occasionally licensees submit revisions to these reports that provide additional information.\n",
    "\n",
    "The purpose of these reports is for the agency staff to evaluate them and determine if any agency actions are warranted, and to communicate any lessons learned from the events to the industry. There is a dedicated team of engineers at the agency that review every report (and other sources of information not within the scope of this project) to determine which category (subject matter) the reports belong to, and hence which experts in the agency should review the report. The members of this team use their experience and engineering judgement to determine what categories each report belongs to, so there is some variability depending on which member reviews a report. Each report may have multiple categories assigned to them by the reviewer. Once the report is tagged with the categories, the technical expert(s) for each subject matter recieves a notification email that they have a new item to review in the agency's tracking database. Examples of categories include Pump and Valves, Electrical Power Systems, Human Performance, and Emergency Diesel Generators.\n",
    "\n",
    "### Objectives\n",
    "The objective of this project is to build a model or models to classify these reports into the categories. The ultimate business objective would be to reduce the amount of reports that the team of reviewers need to see, so they can dedicate more time elsewhere.\n",
    "\n",
    "### Source Data\n",
    "The LERs are available in PDF format in the Agencywide Document Accession and Management System (<a href = \"https://adams.nrc.gov/wba/\">ADAMS</a>) or the agency's <a href=\"https://lersearch.inl.gov/LERSearchCriteria.aspx\">LER Search</a>. For this project, I decided to focus on using the report abstract section rather than the entire report text, since they typically contain enough information to classify the document. Cleaning the data posed several unique challenges, and took up the majority of the time in this project. Rather than provide all of the actual PDF data, I will explain how I addressed each of these challenges and provide the functions I used, as well as an example file so that the abstract extraction process can be replicated. In order to replicate the data, you have to download each PDF from either ADAMS or the LER Search linked above.\n",
    "\n",
    "### Challenges with the PDF data\n",
    "The first challenge is that the reports are typically submitted with a cover sheet, and some reports have several pages prepended before the actual report we are interested in. For example, this <a href=\"https://lersearch.inl.gov/PDFView.ashx?DOC::2592017001R00.PDF\">report</a> actually starts on the third page. To find the first page, I used PyPDF2 to extract the text for each page, and search the text for certain keywords (e.g., Abstract or 366). If the page contained these keywords, it is very likely to be the first page. There were several reports that were submitted at the same time and are in the same PDF, so some manual fixed were necessary to split those files up.\n",
    "\n",
    "The next challenge was to remove some of the extraneous boilerplate text from the top of the first page and obtain only the abstract of the report. I accomplished this by using pdfminer.six to extract each horizontal text line with their coordinates, as well as the dimensions of each page in order to calculate the relative coordinates of the start of the abstract area. To get the target area, I searched for lines that contain the word \"ABSTRACT\" (I used a regular expression because sometimes ABSTRACT shows up slightly misspelled), and gathered the text with vertical coordinates below that. Some documents did not contain \"ABSTRACT\". In those cases, I used the average abstract relative coordinates and used the text below those coordinates.\n",
    "\n",
    "Finally, PDF quality varies in the source data, so there are several low-quality PDF documents. These low quality PDFs make extracting the abstract difficult and would provide little value to the model. To address this, I created a function to determine the ratio of misspelled words to total words in the document. If that ratio is greater than a certain threshold, then the LER will not be used.\n",
    "\n",
    "### Target Data\n",
    "The target/response data was obtained from the agency's internal database that is used to track what actions are taken for each event report. This database has the capability to export the data to Excel format. Initially, I had issues with obtaining training data to the point that it was becoming its own machine learning problem. The migration to a new database caused the loss of the numbering of the reports, so I only had the title of each report and the categories.  I needed the report numbers to be able to obtain the reports themselves. I had a separate list of report numbers and titles, but the titles in the database were sometimes changed by the reviewer to add more information (and there are occassionally duplicate titles).  I matched the titles using document similarities and dates, which worked reasonably well, but still required manual verification. I got lucky and was eventually able to obtain the data from the old database.  Basically, the data that I exported has the LER number, and the categories that were assigned to that LER. For convenience, I created an Excel file with all of the data used in the project."
   ]
  },
  {
   "cell_type": "markdown",
   "metadata": {},
   "source": [
    "## Function for getting report start page"
   ]
  },
  {
   "cell_type": "code",
   "execution_count": 1,
   "metadata": {},
   "outputs": [],
   "source": [
    "import re\n",
    "import PyPDF2\n",
    "\n",
    "abstract_re = re.compile('(ABSTRACT)|(.*?STRAC.*)')\n",
    "abstract_re = re.compile('.*?STRAC.*')\n",
    "\n",
    "def get_start_page(filepath):\n",
    "    \"\"\"Takes in a filepath to an LER PDF and returns the start page number,\n",
    "    raises a ValueError if it doesn't find it.\"\"\"\n",
    "    start_page = -1\n",
    "    with open(filepath, 'rb') as file:\n",
    "        pdf = PyPDF2.PdfFileReader(file)\n",
    "        for page_num in range(pdf.getNumPages()):\n",
    "            page = pdf.getPage(page_num)\n",
    "            text = page.extractText()\n",
    "            if abstract_re.search(text):\n",
    "                return page_num\n",
    "    raise ValueError"
   ]
  },
  {
   "cell_type": "markdown",
   "metadata": {},
   "source": [
    "## Function for getting text lines"
   ]
  },
  {
   "cell_type": "code",
   "execution_count": 2,
   "metadata": {},
   "outputs": [],
   "source": [
    "from pdfminer.pdfparser import PDFParser\n",
    "from pdfminer.pdfdocument import PDFDocument\n",
    "from pdfminer.pdfpage import PDFPage\n",
    "from pdfminer.pdfpage import PDFTextExtractionNotAllowed\n",
    "from pdfminer.pdfinterp import PDFResourceManager\n",
    "from pdfminer.pdfinterp import PDFPageInterpreter\n",
    "from pdfminer.pdfdevice import PDFDevice\n",
    "from pdfminer.layout import LAParams\n",
    "from pdfminer.converter import PDFPageAggregator\n",
    "import pdfminer\n",
    "\n",
    "\n",
    "def get_lines(filepath):\n",
    "    \"\"\"Takes in a filepath to an LER PDF and returns the text for each line\n",
    "    with coordinates\"\"\"\n",
    "    start_page = get_start_page(filepath)\n",
    "    file = open(filepath, 'rb')\n",
    "    # Create a PDF parser object associated with the file object.\n",
    "    parser = PDFParser(file)\n",
    "\n",
    "    # Create a PDF document object that stores the document structure.\n",
    "    document = PDFDocument(parser)\n",
    "    if not document.is_extractable:\n",
    "        raise PDFTextExtractionNotAllowed\n",
    "    rsrcmgr = PDFResourceManager()\n",
    "\n",
    "    # Create a PDF device object.\n",
    "    device = PDFDevice(rsrcmgr)\n",
    "\n",
    "    # BEGIN LAYOUT ANALYSIS\n",
    "    # Set parameters for analysis.\n",
    "    laparams = LAParams()\n",
    "\n",
    "    # Create a PDF page aggregator object.\n",
    "    device = PDFPageAggregator(rsrcmgr, laparams=laparams)\n",
    "\n",
    "    # Create a PDF interpreter object.\n",
    "    interpreter = PDFPageInterpreter(rsrcmgr, device)\n",
    "\n",
    "    # Get target page\n",
    "    page = list(PDFPage.create_pages(document))[start_page]\n",
    "\n",
    "    interpreter.process_page(page)\n",
    "    layout = device.get_result()\n",
    "\n",
    "    lines = [[obj.get_text(), (obj.bbox)] for obj in layout._objs if isinstance(obj, pdfminer.layout.LTTextBoxHorizontal)]\n",
    "    return lines"
   ]
  },
  {
   "cell_type": "markdown",
   "metadata": {},
   "source": [
    "## Function for getting start of abstract"
   ]
  },
  {
   "cell_type": "code",
   "execution_count": 3,
   "metadata": {},
   "outputs": [],
   "source": [
    "def get_abstract(filepath):\n",
    "    \"\"\"Takes in a path to an LER PDF file and returns the abstract\"\"\"\n",
    "    lines = get_lines(filepath)\n",
    "    start_coordinates = [line for line in lines if abstract_re.search(line[0])][0][-1]\n",
    "    \n",
    "    # We're interested in text lines that have a Y coordinate less than start_coordinates[1]\n",
    "    abstract_lines = [line for line in lines if line[-1][1] <= start_coordinates[1]]\n",
    "    abstract_lines = sorted(abstract_lines, key=lambda x: -x[-1][1]) # Sort by descending Y coordinates\n",
    "    text = '\\n'.join([line[0] for line in abstract_lines])\n",
    "    \n",
    "    # Clean up some more boilerplate, including the boilerplate ABSTRACT statement \n",
    "    # and page number at bottom of the report\n",
    "    text = re.sub('.*?STRAC.*', '', text)\n",
    "    start = list(re.finditer('1[45]\\..*', text))\n",
    "    if start:\n",
    "        start = start[-1]\n",
    "        text = text[start.span()[1]:]\n",
    "    # Remove NRC FORM 366 at the bottom of the page\n",
    "    nrc_form = re.search('NR[CG]\\sFORM\\s+366', text)\n",
    "    if nrc_form:\n",
    "        text = text[:nrc_form.span()[0]]\n",
    "    # Remove double spaces\n",
    "    text = re.sub('[ ]+', ' ', text).strip()\n",
    "    return text"
   ]
  },
  {
   "cell_type": "markdown",
   "metadata": {},
   "source": [
    "## Function for getting misspelling ratio"
   ]
  },
  {
   "cell_type": "code",
   "execution_count": 4,
   "metadata": {},
   "outputs": [],
   "source": [
    "from spellchecker import SpellChecker\n",
    "import nltk\n",
    "\n",
    "# Instantiate SpellChecker\n",
    "spell = SpellChecker()\n",
    "\n",
    "\n",
    "def tokenize(text):\n",
    "    \"\"\"Function to tokenize words.\"\"\"\n",
    "    return nltk.tokenize.word_tokenize(text.lower())\n",
    "    \n",
    "\n",
    "def misspelled_ratio(text):\n",
    "    \"\"\"Function takes in text, tokenizes it into words\n",
    "    and returns a ratio of misspelled words in text.\"\"\"\n",
    "    words = tokenize(text)\n",
    "    misspelled = spell.unknown(words)\n",
    "    return len(misspelled) / len(words)"
   ]
  },
  {
   "cell_type": "markdown",
   "metadata": {},
   "source": [
    "## Example of getting the abstract text"
   ]
  },
  {
   "cell_type": "code",
   "execution_count": 5,
   "metadata": {},
   "outputs": [
    {
     "name": "stdout",
     "output_type": "stream",
     "text": [
      "On February 13, 2011, at approximately 5:00 a.m. CST, during power ascent following a refueling outage, \n",
      "operators found that one channel of main turbine first stage pressure instrumentation was not responding to \n",
      "changing plant parameters. This instrument provides a permissive to the reactor protection system (RPS) to \n",
      "enable a reactor scram signal from main turbine control valve control valve fast closure and main turbine stop \n",
      "valve closure. Also enabled by that permissive is a reactor recirculation pump trip signal initiated by the main \n",
      "turbine stop valve closure. While performing the initial troubleshooting, a maintenance technician discovered that \n",
      "a valve at the affected steam pressure transmitter was closed, isolating it from the system. This valve had \n",
      "apparently been left closed following the calibration of the instrument during the outage. The valve was opened, \n",
      "and the instrumentation channel was declared operable at 5:52 p.m. that day. The signals enabled by this \n",
      "pressure transmitter are required to be operable when reactor power is greater than 40 percent. Reactor power \n",
      "had exceeded 40 percent at approximately 3:24 a.m. that day. This event is being reported as operations \n",
      "prohibited by Technical Specifications in accordance with 10CFR50.73(a)(2)(i)(B).\n",
      "\n",
      "Misspelled Ratio:\n",
      "0.027149321266968326\n"
     ]
    }
   ],
   "source": [
    "filepath = 'data/4582011002R00.pdf'\n",
    "abstract = get_abstract(filepath)\n",
    "print(abstract)\n",
    "print('\\nMisspelled Ratio:')\n",
    "print(misspelled_ratio(abstract))"
   ]
  },
  {
   "cell_type": "markdown",
   "metadata": {},
   "source": [
    "## Importing the data"
   ]
  },
  {
   "cell_type": "code",
   "execution_count": 6,
   "metadata": {},
   "outputs": [
    {
     "data": {
      "text/plain": [
       "(2970, 9)"
      ]
     },
     "execution_count": 6,
     "metadata": {},
     "output_type": "execute_result"
    }
   ],
   "source": [
    "%matplotlib inline\n",
    "\n",
    "# Import pandas and numpy libraries\n",
    "import numpy as np\n",
    "import pandas as pd\n",
    "\n",
    "# Read in the data\n",
    "df = pd.read_excel('data/Public Data.xlsx')\n",
    "df.shape"
   ]
  },
  {
   "cell_type": "code",
   "execution_count": 7,
   "metadata": {},
   "outputs": [
    {
     "data": {
      "text/html": [
       "<div>\n",
       "<style scoped>\n",
       "    .dataframe tbody tr th:only-of-type {\n",
       "        vertical-align: middle;\n",
       "    }\n",
       "\n",
       "    .dataframe tbody tr th {\n",
       "        vertical-align: top;\n",
       "    }\n",
       "\n",
       "    .dataframe thead th {\n",
       "        text-align: right;\n",
       "    }\n",
       "</style>\n",
       "<table border=\"1\" class=\"dataframe\">\n",
       "  <thead>\n",
       "    <tr style=\"text-align: right;\">\n",
       "      <th></th>\n",
       "      <th>Issue ID</th>\n",
       "      <th>TRG</th>\n",
       "      <th>LER Number</th>\n",
       "      <th>Title</th>\n",
       "      <th>Text</th>\n",
       "      <th>Abstract Text</th>\n",
       "      <th>Abstract Misspelling Ratio</th>\n",
       "      <th>Text Misspelling Ratio</th>\n",
       "      <th>Availability</th>\n",
       "    </tr>\n",
       "  </thead>\n",
       "  <tbody>\n",
       "    <tr>\n",
       "      <th>0</th>\n",
       "      <td>5</td>\n",
       "      <td>HVAC/DOSE</td>\n",
       "      <td>3252009001R0</td>\n",
       "      <td>Loss of Control Room Air Conditioning and Emer...</td>\n",
       "      <td>l \\n\\n1 •. \\n\\nNRC FORM 366 \\n(9-2007) \\n\\n.) ...</td>\n",
       "      <td>On January 21, 2009, at approximately 1300 hou...</td>\n",
       "      <td>0.046595</td>\n",
       "      <td>0.026290</td>\n",
       "      <td>Publicly Available</td>\n",
       "    </tr>\n",
       "    <tr>\n",
       "      <th>1</th>\n",
       "      <td>6</td>\n",
       "      <td>FIRE PROTECTION, HUMAN PERF/SAFETY CULTURE</td>\n",
       "      <td>3132009002R0</td>\n",
       "      <td>Manual Reactor Trip From Power in Response to ...</td>\n",
       "      <td>\\n\\n \\n\\n2 \\n\\n7 \\n\\n \\n9. OPERATING MODE \\n\\...</td>\n",
       "      <td>On February 7, 2009, at approximately 1046 CST...</td>\n",
       "      <td>0.003846</td>\n",
       "      <td>0.018164</td>\n",
       "      <td>Publicly Available</td>\n",
       "    </tr>\n",
       "    <tr>\n",
       "      <th>2</th>\n",
       "      <td>43</td>\n",
       "      <td>CONTAINMENT</td>\n",
       "      <td>2932009002R0</td>\n",
       "      <td>Failure to Meet Technical Specification Requir...</td>\n",
       "      <td>NRC Form 366 \\n(9-2007) \\n\\nU.S. NUCLEAR REGUL...</td>\n",
       "      <td>On December 22, 2009, at 0845 hours, with the ...</td>\n",
       "      <td>0.015209</td>\n",
       "      <td>0.023145</td>\n",
       "      <td>Publicly Available</td>\n",
       "    </tr>\n",
       "    <tr>\n",
       "      <th>3</th>\n",
       "      <td>44</td>\n",
       "      <td>CONTAINMENT, HUMAN PERF/SAFETY CULTURE</td>\n",
       "      <td>3362009005R0</td>\n",
       "      <td>Both Containment Air Lock Doors Open in Mode 1</td>\n",
       "      <td>NRC FORM 361) \\n(9-2007) \\n\\nU.S. NUCLEAR REGU...</td>\n",
       "      <td>On November 13, 2009, with Millstone Power Sta...</td>\n",
       "      <td>0.008097</td>\n",
       "      <td>0.055246</td>\n",
       "      <td>Publicly Available</td>\n",
       "    </tr>\n",
       "    <tr>\n",
       "      <th>4</th>\n",
       "      <td>45</td>\n",
       "      <td>SERVICE WATER/UHS</td>\n",
       "      <td>3612009004R0</td>\n",
       "      <td>Both Trains of Spent Fuel Pool Cooling Inopera...</td>\n",
       "      <td>NRC FORM  366 \\n(9-2007) \\n\\nU.S. NUCLEAR REGU...</td>\n",
       "      <td>On 12/23/2009 at about 0957 PST with Unit 2 de...</td>\n",
       "      <td>0.018727</td>\n",
       "      <td>0.027870</td>\n",
       "      <td>Publicly Available</td>\n",
       "    </tr>\n",
       "  </tbody>\n",
       "</table>\n",
       "</div>"
      ],
      "text/plain": [
       "   Issue ID                                         TRG    LER Number  \\\n",
       "0         5                                   HVAC/DOSE  3252009001R0   \n",
       "1         6  FIRE PROTECTION, HUMAN PERF/SAFETY CULTURE  3132009002R0   \n",
       "2        43                                 CONTAINMENT  2932009002R0   \n",
       "3        44      CONTAINMENT, HUMAN PERF/SAFETY CULTURE  3362009005R0   \n",
       "4        45                           SERVICE WATER/UHS  3612009004R0   \n",
       "\n",
       "                                               Title  \\\n",
       "0  Loss of Control Room Air Conditioning and Emer...   \n",
       "1  Manual Reactor Trip From Power in Response to ...   \n",
       "2  Failure to Meet Technical Specification Requir...   \n",
       "3     Both Containment Air Lock Doors Open in Mode 1   \n",
       "4  Both Trains of Spent Fuel Pool Cooling Inopera...   \n",
       "\n",
       "                                                Text  \\\n",
       "0  l \\n\\n1 •. \\n\\nNRC FORM 366 \\n(9-2007) \\n\\n.) ...   \n",
       "1   \\n\\n \\n\\n2 \\n\\n7 \\n\\n \\n9. OPERATING MODE \\n\\...   \n",
       "2  NRC Form 366 \\n(9-2007) \\n\\nU.S. NUCLEAR REGUL...   \n",
       "3  NRC FORM 361) \\n(9-2007) \\n\\nU.S. NUCLEAR REGU...   \n",
       "4  NRC FORM  366 \\n(9-2007) \\n\\nU.S. NUCLEAR REGU...   \n",
       "\n",
       "                                       Abstract Text  \\\n",
       "0  On January 21, 2009, at approximately 1300 hou...   \n",
       "1  On February 7, 2009, at approximately 1046 CST...   \n",
       "2  On December 22, 2009, at 0845 hours, with the ...   \n",
       "3  On November 13, 2009, with Millstone Power Sta...   \n",
       "4  On 12/23/2009 at about 0957 PST with Unit 2 de...   \n",
       "\n",
       "   Abstract Misspelling Ratio  Text Misspelling Ratio        Availability  \n",
       "0                    0.046595                0.026290  Publicly Available  \n",
       "1                    0.003846                0.018164  Publicly Available  \n",
       "2                    0.015209                0.023145  Publicly Available  \n",
       "3                    0.008097                0.055246  Publicly Available  \n",
       "4                    0.018727                0.027870  Publicly Available  "
      ]
     },
     "execution_count": 7,
     "metadata": {},
     "output_type": "execute_result"
    }
   ],
   "source": [
    "df.head()"
   ]
  },
  {
   "cell_type": "code",
   "execution_count": 8,
   "metadata": {},
   "outputs": [
    {
     "data": {
      "text/plain": [
       "(2968, 9)"
      ]
     },
     "execution_count": 8,
     "metadata": {},
     "output_type": "execute_result"
    }
   ],
   "source": [
    "# Remove rows where misspelling ratio is > 0.1\n",
    "df = df[df['Abstract Misspelling Ratio'] <= 0.1]\n",
    "df = df[df['Abstract Text'].notnull()]\n",
    "df.shape"
   ]
  },
  {
   "cell_type": "markdown",
   "metadata": {},
   "source": [
    "## Import libraries"
   ]
  },
  {
   "cell_type": "code",
   "execution_count": 9,
   "metadata": {},
   "outputs": [],
   "source": [
    "import scipy\n",
    "from sklearn.pipeline import make_pipeline, Pipeline\n",
    "from sklearn.model_selection import train_test_split, cross_val_score\n",
    "from sklearn.preprocessing import MultiLabelBinarizer\n",
    "from sklearn.naive_bayes import MultinomialNB\n",
    "from sklearn.linear_model import LogisticRegression\n",
    "from sklearn.svm import LinearSVC\n",
    "from sklearn.multiclass import OneVsRestClassifier\n",
    "from sklearn.feature_extraction.text import TfidfVectorizer\n",
    "from sklearn.model_selection import GridSearchCV\n",
    "from sklearn.model_selection import RandomizedSearchCV\n",
    "from sklearn.ensemble import RandomForestClassifier\n",
    "from sklearn import metrics\n",
    "from sklearn.preprocessing import binarize\n",
    "from sklearn.decomposition import TruncatedSVD\n",
    "from sklearn.svm import SVC\n",
    "from sklearn.pipeline import FeatureUnion\n",
    "from sklearn.base import BaseEstimator, TransformerMixin\n",
    "import matplotlib.pyplot as plt\n"
   ]
  },
  {
   "cell_type": "markdown",
   "metadata": {},
   "source": [
    "## Transform response column using MultilabelBinarizer"
   ]
  },
  {
   "cell_type": "code",
   "execution_count": 10,
   "metadata": {},
   "outputs": [
    {
     "data": {
      "text/plain": [
       "AFW                           150\n",
       "CHEM/CHEM ENG                  18\n",
       "CONTAINMENT                   352\n",
       "CYBER SECURITY                  1\n",
       "ECCS                          424\n",
       "EDG                           182\n",
       "ELECTRICAL PWR                715\n",
       "ENVTL. QUALIF.                 70\n",
       "EP                             26\n",
       "FIRE PROTECTION               160\n",
       "FLOODING/MISSILES             128\n",
       "FUELS                          16\n",
       "HEALTH PHYSICS                 23\n",
       "HUMAN PERF/SAFETY CULTURE    1016\n",
       "HVAC/DOSE                     269\n",
       "I&C                           583\n",
       "NRO                           310\n",
       "OTHER                         752\n",
       "PHYS SECURITY                  29\n",
       "PRI MAT'L/VSL/WELD            179\n",
       "PUMP & VALVE                  541\n",
       "PWR UPRATE                     13\n",
       "QA/VENDOR/CFSI                253\n",
       "SAFETY CULTURE                 51\n",
       "SERVICE WATER/UHS             173\n",
       "SG                             10\n",
       "SPENT FUEL HANDL.              26\n",
       "STRUCTURAL/CONCRETE            44\n",
       "dtype: int64"
      ]
     },
     "execution_count": 10,
     "metadata": {},
     "output_type": "execute_result"
    }
   ],
   "source": [
    "# Transform the response column (TRG) to a matrix\n",
    "mlb = MultiLabelBinarizer()\n",
    "y_df = mlb.fit_transform(df['TRG'].apply(lambda t: t.split(', ')))\n",
    "y_df = pd.DataFrame(y_df, columns = mlb.classes_)\n",
    "y_df.sum() # Class Counts"
   ]
  },
  {
   "cell_type": "code",
   "execution_count": 11,
   "metadata": {},
   "outputs": [
    {
     "data": {
      "text/plain": [
       "AFW                           150\n",
       "CONTAINMENT                   352\n",
       "ECCS                          424\n",
       "EDG                           182\n",
       "ELECTRICAL PWR                715\n",
       "FIRE PROTECTION               160\n",
       "FLOODING/MISSILES             128\n",
       "HUMAN PERF/SAFETY CULTURE    1016\n",
       "HVAC/DOSE                     269\n",
       "I&C                           583\n",
       "NRO                           310\n",
       "PRI MAT'L/VSL/WELD            179\n",
       "PUMP & VALVE                  541\n",
       "QA/VENDOR/CFSI                253\n",
       "SERVICE WATER/UHS             173\n",
       "dtype: int64"
      ]
     },
     "execution_count": 11,
     "metadata": {},
     "output_type": "execute_result"
    }
   ],
   "source": [
    "# Lets just focus on classes with more than 100 samples, and remove amiguous class OTHER\n",
    "classes = list(y_df.sum()[y_df.sum() > 100].index)\n",
    "classes.remove('OTHER')\n",
    "y_df = y_df[classes]\n",
    "y_df.sum()"
   ]
  },
  {
   "cell_type": "markdown",
   "metadata": {},
   "source": [
    "## Let's examine the first category"
   ]
  },
  {
   "cell_type": "code",
   "execution_count": 12,
   "metadata": {},
   "outputs": [
    {
     "data": {
      "text/plain": [
       "MultinomialNB(alpha=1.0, class_prior=None, fit_prior=True)"
      ]
     },
     "execution_count": 12,
     "metadata": {},
     "output_type": "execute_result"
    }
   ],
   "source": [
    "# Try with class: AFW\n",
    "cls = 'AFW'\n",
    "y = y_df[cls]\n",
    "X = df['Abstract Text']\n",
    "title = df['Title']\n",
    "X_train, X_test, y_train, y_test = train_test_split(X, y, random_state=42)\n",
    "\n",
    "tfidf = TfidfVectorizer(stop_words='english')\n",
    "X_train_tfidf = tfidf.fit_transform(X_train)\n",
    "X_test_tfidf = tfidf.transform(X_test)\n",
    "\n",
    "mnb = MultinomialNB()\n",
    "mnb.fit(X_train_tfidf, y_train)"
   ]
  },
  {
   "cell_type": "code",
   "execution_count": 13,
   "metadata": {},
   "outputs": [
    {
     "name": "stdout",
     "output_type": "stream",
     "text": [
      "Null Accuracy: 0.9494609164420486\n",
      "MNB Accuracy : 0.9407008086253369\n"
     ]
    }
   ],
   "source": [
    "# Null accuracy\n",
    "def null_accuracy(cls):\n",
    "    most_freq_class = y_df[cls].value_counts().idxmax() # Probably overkill, since it is pretty much always 0\n",
    "    y_pred = most_freq_class * np.ones(y_df[cls].shape) # Predict all values are most_freq_class\n",
    "    return metrics.accuracy_score(y_pred, y_df[cls])\n",
    "\n",
    "\n",
    "print(f'Null Accuracy: {null_accuracy(cls)}')\n",
    "y_pred = mnb.predict(X_test_tfidf)\n",
    "print(f'MNB Accuracy : {metrics.accuracy_score(y_test, y_pred)}')"
   ]
  },
  {
   "cell_type": "markdown",
   "metadata": {},
   "source": [
    "So for this category, Multinomial Naive Bayes has about the same accuracy score as the null accuracy. I'll use a different evaluation metric later on. Let's check out the confusion matrix to see what type of errors the model makes, and then see how MNB performs on the other categories."
   ]
  },
  {
   "cell_type": "code",
   "execution_count": 14,
   "metadata": {},
   "outputs": [
    {
     "data": {
      "text/plain": [
       "array([[698,   0],\n",
       "       [ 44,   0]], dtype=int64)"
      ]
     },
     "execution_count": 14,
     "metadata": {},
     "output_type": "execute_result"
    }
   ],
   "source": [
    "metrics.confusion_matrix(y_test, y_pred)"
   ]
  },
  {
   "cell_type": "markdown",
   "metadata": {},
   "source": [
    "### Using MultinomialNB on all of the categories"
   ]
  },
  {
   "cell_type": "code",
   "execution_count": 15,
   "metadata": {},
   "outputs": [
    {
     "data": {
      "text/html": [
       "<div>\n",
       "<style scoped>\n",
       "    .dataframe tbody tr th:only-of-type {\n",
       "        vertical-align: middle;\n",
       "    }\n",
       "\n",
       "    .dataframe tbody tr th {\n",
       "        vertical-align: top;\n",
       "    }\n",
       "\n",
       "    .dataframe thead th {\n",
       "        text-align: right;\n",
       "    }\n",
       "</style>\n",
       "<table border=\"1\" class=\"dataframe\">\n",
       "  <thead>\n",
       "    <tr style=\"text-align: right;\">\n",
       "      <th></th>\n",
       "      <th>Class</th>\n",
       "      <th>Null Accuracy</th>\n",
       "      <th>MNBScore</th>\n",
       "      <th>ClassCounts</th>\n",
       "    </tr>\n",
       "  </thead>\n",
       "  <tbody>\n",
       "    <tr>\n",
       "      <th>0</th>\n",
       "      <td>AFW</td>\n",
       "      <td>0.949461</td>\n",
       "      <td>0.940701</td>\n",
       "      <td>150</td>\n",
       "    </tr>\n",
       "    <tr>\n",
       "      <th>1</th>\n",
       "      <td>CONTAINMENT</td>\n",
       "      <td>0.881402</td>\n",
       "      <td>0.894879</td>\n",
       "      <td>352</td>\n",
       "    </tr>\n",
       "    <tr>\n",
       "      <th>2</th>\n",
       "      <td>ECCS</td>\n",
       "      <td>0.857143</td>\n",
       "      <td>0.836927</td>\n",
       "      <td>424</td>\n",
       "    </tr>\n",
       "    <tr>\n",
       "      <th>3</th>\n",
       "      <td>EDG</td>\n",
       "      <td>0.938679</td>\n",
       "      <td>0.956873</td>\n",
       "      <td>182</td>\n",
       "    </tr>\n",
       "    <tr>\n",
       "      <th>4</th>\n",
       "      <td>ELECTRICAL PWR</td>\n",
       "      <td>0.759097</td>\n",
       "      <td>0.808625</td>\n",
       "      <td>715</td>\n",
       "    </tr>\n",
       "    <tr>\n",
       "      <th>5</th>\n",
       "      <td>FIRE PROTECTION</td>\n",
       "      <td>0.946092</td>\n",
       "      <td>0.955526</td>\n",
       "      <td>160</td>\n",
       "    </tr>\n",
       "    <tr>\n",
       "      <th>6</th>\n",
       "      <td>FLOODING/MISSILES</td>\n",
       "      <td>0.956873</td>\n",
       "      <td>0.958221</td>\n",
       "      <td>128</td>\n",
       "    </tr>\n",
       "    <tr>\n",
       "      <th>7</th>\n",
       "      <td>HUMAN PERF/SAFETY CULTURE</td>\n",
       "      <td>0.657682</td>\n",
       "      <td>0.691375</td>\n",
       "      <td>1016</td>\n",
       "    </tr>\n",
       "    <tr>\n",
       "      <th>8</th>\n",
       "      <td>HVAC/DOSE</td>\n",
       "      <td>0.909367</td>\n",
       "      <td>0.896226</td>\n",
       "      <td>269</td>\n",
       "    </tr>\n",
       "    <tr>\n",
       "      <th>9</th>\n",
       "      <td>I&amp;C</td>\n",
       "      <td>0.803571</td>\n",
       "      <td>0.815364</td>\n",
       "      <td>583</td>\n",
       "    </tr>\n",
       "    <tr>\n",
       "      <th>10</th>\n",
       "      <td>NRO</td>\n",
       "      <td>0.895553</td>\n",
       "      <td>0.893531</td>\n",
       "      <td>310</td>\n",
       "    </tr>\n",
       "    <tr>\n",
       "      <th>11</th>\n",
       "      <td>PRI MAT'L/VSL/WELD</td>\n",
       "      <td>0.939690</td>\n",
       "      <td>0.927224</td>\n",
       "      <td>179</td>\n",
       "    </tr>\n",
       "    <tr>\n",
       "      <th>12</th>\n",
       "      <td>PUMP &amp; VALVE</td>\n",
       "      <td>0.817722</td>\n",
       "      <td>0.828841</td>\n",
       "      <td>541</td>\n",
       "    </tr>\n",
       "    <tr>\n",
       "      <th>13</th>\n",
       "      <td>QA/VENDOR/CFSI</td>\n",
       "      <td>0.914757</td>\n",
       "      <td>0.917790</td>\n",
       "      <td>253</td>\n",
       "    </tr>\n",
       "    <tr>\n",
       "      <th>14</th>\n",
       "      <td>SERVICE WATER/UHS</td>\n",
       "      <td>0.941712</td>\n",
       "      <td>0.951482</td>\n",
       "      <td>173</td>\n",
       "    </tr>\n",
       "  </tbody>\n",
       "</table>\n",
       "</div>"
      ],
      "text/plain": [
       "                        Class  Null Accuracy  MNBScore  ClassCounts\n",
       "0                         AFW       0.949461  0.940701          150\n",
       "1                 CONTAINMENT       0.881402  0.894879          352\n",
       "2                        ECCS       0.857143  0.836927          424\n",
       "3                         EDG       0.938679  0.956873          182\n",
       "4              ELECTRICAL PWR       0.759097  0.808625          715\n",
       "5             FIRE PROTECTION       0.946092  0.955526          160\n",
       "6           FLOODING/MISSILES       0.956873  0.958221          128\n",
       "7   HUMAN PERF/SAFETY CULTURE       0.657682  0.691375         1016\n",
       "8                   HVAC/DOSE       0.909367  0.896226          269\n",
       "9                         I&C       0.803571  0.815364          583\n",
       "10                        NRO       0.895553  0.893531          310\n",
       "11         PRI MAT'L/VSL/WELD       0.939690  0.927224          179\n",
       "12               PUMP & VALVE       0.817722  0.828841          541\n",
       "13             QA/VENDOR/CFSI       0.914757  0.917790          253\n",
       "14          SERVICE WATER/UHS       0.941712  0.951482          173"
      ]
     },
     "execution_count": 15,
     "metadata": {},
     "output_type": "execute_result"
    }
   ],
   "source": [
    "# Instantiate tfidf and fit X\n",
    "tfidf = TfidfVectorizer(stop_words='english')\n",
    "X = df['Abstract Text']\n",
    "X_train, X_test, y_train, y_test = train_test_split(X, y_df, random_state=42)\n",
    "X_train_tfidf = tfidf.fit_transform(X_train)\n",
    "X_test_tfidf = tfidf.transform(X_test)\n",
    "\n",
    "# Instantiate MNB model\n",
    "mnb = MultinomialNB()\n",
    "results = []\n",
    "for cls in y_df.columns:\n",
    "    # Only get the response column we are interest in\n",
    "    y_trn = y_train[cls]\n",
    "    y_tst = y_test[cls]\n",
    "    \n",
    "    # Fit the model\n",
    "    mnb.fit(X_train_tfidf, y_trn)\n",
    "    \n",
    "    # Predict\n",
    "    y_pred = mnb.predict(X_test_tfidf)\n",
    "    \n",
    "    # Get scores\n",
    "    score = metrics.accuracy_score(y_tst, y_pred)\n",
    "    null_acc = null_accuracy(cls)\n",
    "    results.append([cls, null_acc, score])\n",
    "\n",
    "results = pd.DataFrame(results, columns=['Class', 'Null Accuracy', 'MNBScore'])\n",
    "results['ClassCounts'] = results['Class'].map(y_df.sum())\n",
    "results"
   ]
  },
  {
   "cell_type": "markdown",
   "metadata": {},
   "source": [
    "#### Note: We could have done the same as above with a OneVsRestClassifier:"
   ]
  },
  {
   "cell_type": "code",
   "execution_count": 16,
   "metadata": {},
   "outputs": [
    {
     "data": {
      "text/html": [
       "<div>\n",
       "<style scoped>\n",
       "    .dataframe tbody tr th:only-of-type {\n",
       "        vertical-align: middle;\n",
       "    }\n",
       "\n",
       "    .dataframe tbody tr th {\n",
       "        vertical-align: top;\n",
       "    }\n",
       "\n",
       "    .dataframe thead th {\n",
       "        text-align: right;\n",
       "    }\n",
       "</style>\n",
       "<table border=\"1\" class=\"dataframe\">\n",
       "  <thead>\n",
       "    <tr style=\"text-align: right;\">\n",
       "      <th></th>\n",
       "      <th>Class</th>\n",
       "      <th>Null Accuracy</th>\n",
       "      <th>MNBScore</th>\n",
       "      <th>ClassCounts</th>\n",
       "    </tr>\n",
       "  </thead>\n",
       "  <tbody>\n",
       "    <tr>\n",
       "      <th>0</th>\n",
       "      <td>AFW</td>\n",
       "      <td>0.949461</td>\n",
       "      <td>0.940701</td>\n",
       "      <td>150</td>\n",
       "    </tr>\n",
       "    <tr>\n",
       "      <th>1</th>\n",
       "      <td>CONTAINMENT</td>\n",
       "      <td>0.881402</td>\n",
       "      <td>0.894879</td>\n",
       "      <td>352</td>\n",
       "    </tr>\n",
       "    <tr>\n",
       "      <th>2</th>\n",
       "      <td>ECCS</td>\n",
       "      <td>0.857143</td>\n",
       "      <td>0.836927</td>\n",
       "      <td>424</td>\n",
       "    </tr>\n",
       "    <tr>\n",
       "      <th>3</th>\n",
       "      <td>EDG</td>\n",
       "      <td>0.938679</td>\n",
       "      <td>0.956873</td>\n",
       "      <td>182</td>\n",
       "    </tr>\n",
       "    <tr>\n",
       "      <th>4</th>\n",
       "      <td>ELECTRICAL PWR</td>\n",
       "      <td>0.759097</td>\n",
       "      <td>0.808625</td>\n",
       "      <td>715</td>\n",
       "    </tr>\n",
       "    <tr>\n",
       "      <th>5</th>\n",
       "      <td>FIRE PROTECTION</td>\n",
       "      <td>0.946092</td>\n",
       "      <td>0.955526</td>\n",
       "      <td>160</td>\n",
       "    </tr>\n",
       "    <tr>\n",
       "      <th>6</th>\n",
       "      <td>FLOODING/MISSILES</td>\n",
       "      <td>0.956873</td>\n",
       "      <td>0.958221</td>\n",
       "      <td>128</td>\n",
       "    </tr>\n",
       "    <tr>\n",
       "      <th>7</th>\n",
       "      <td>HUMAN PERF/SAFETY CULTURE</td>\n",
       "      <td>0.657682</td>\n",
       "      <td>0.691375</td>\n",
       "      <td>1016</td>\n",
       "    </tr>\n",
       "    <tr>\n",
       "      <th>8</th>\n",
       "      <td>HVAC/DOSE</td>\n",
       "      <td>0.909367</td>\n",
       "      <td>0.896226</td>\n",
       "      <td>269</td>\n",
       "    </tr>\n",
       "    <tr>\n",
       "      <th>9</th>\n",
       "      <td>I&amp;C</td>\n",
       "      <td>0.803571</td>\n",
       "      <td>0.815364</td>\n",
       "      <td>583</td>\n",
       "    </tr>\n",
       "    <tr>\n",
       "      <th>10</th>\n",
       "      <td>NRO</td>\n",
       "      <td>0.895553</td>\n",
       "      <td>0.893531</td>\n",
       "      <td>310</td>\n",
       "    </tr>\n",
       "    <tr>\n",
       "      <th>11</th>\n",
       "      <td>PRI MAT'L/VSL/WELD</td>\n",
       "      <td>0.939690</td>\n",
       "      <td>0.927224</td>\n",
       "      <td>179</td>\n",
       "    </tr>\n",
       "    <tr>\n",
       "      <th>12</th>\n",
       "      <td>PUMP &amp; VALVE</td>\n",
       "      <td>0.817722</td>\n",
       "      <td>0.828841</td>\n",
       "      <td>541</td>\n",
       "    </tr>\n",
       "    <tr>\n",
       "      <th>13</th>\n",
       "      <td>QA/VENDOR/CFSI</td>\n",
       "      <td>0.914757</td>\n",
       "      <td>0.917790</td>\n",
       "      <td>253</td>\n",
       "    </tr>\n",
       "    <tr>\n",
       "      <th>14</th>\n",
       "      <td>SERVICE WATER/UHS</td>\n",
       "      <td>0.941712</td>\n",
       "      <td>0.951482</td>\n",
       "      <td>173</td>\n",
       "    </tr>\n",
       "  </tbody>\n",
       "</table>\n",
       "</div>"
      ],
      "text/plain": [
       "                        Class  Null Accuracy  MNBScore  ClassCounts\n",
       "0                         AFW       0.949461  0.940701          150\n",
       "1                 CONTAINMENT       0.881402  0.894879          352\n",
       "2                        ECCS       0.857143  0.836927          424\n",
       "3                         EDG       0.938679  0.956873          182\n",
       "4              ELECTRICAL PWR       0.759097  0.808625          715\n",
       "5             FIRE PROTECTION       0.946092  0.955526          160\n",
       "6           FLOODING/MISSILES       0.956873  0.958221          128\n",
       "7   HUMAN PERF/SAFETY CULTURE       0.657682  0.691375         1016\n",
       "8                   HVAC/DOSE       0.909367  0.896226          269\n",
       "9                         I&C       0.803571  0.815364          583\n",
       "10                        NRO       0.895553  0.893531          310\n",
       "11         PRI MAT'L/VSL/WELD       0.939690  0.927224          179\n",
       "12               PUMP & VALVE       0.817722  0.828841          541\n",
       "13             QA/VENDOR/CFSI       0.914757  0.917790          253\n",
       "14          SERVICE WATER/UHS       0.941712  0.951482          173"
      ]
     },
     "execution_count": 16,
     "metadata": {},
     "output_type": "execute_result"
    }
   ],
   "source": [
    "# Using OneVsRestClassifier, which supports multilabel classification\n",
    "NB_pipeline = Pipeline([\n",
    "                ('tfidf', TfidfVectorizer(stop_words='english')),\n",
    "                ('clf', OneVsRestClassifier(MultinomialNB())),\n",
    "            ])\n",
    "\n",
    "NB_pipeline.fit(X_train, y_train)\n",
    "y_pred = NB_pipeline.predict(X_test)\n",
    "y_pred = pd.DataFrame(y_pred, columns=y_df.columns)\n",
    "results = pd.DataFrame([\n",
    "                        [cls, null_accuracy(cls), metrics.accuracy_score(y_pred[cls], y_test[cls])] \n",
    "                         for cls in y_pred.columns\n",
    "                       ],\n",
    "                       columns=['Class', 'Null Accuracy', 'MNBScore'])\n",
    "results['ClassCounts'] = results['Class'].map(y_df.sum())\n",
    "results"
   ]
  },
  {
   "cell_type": "code",
   "execution_count": 17,
   "metadata": {},
   "outputs": [
    {
     "name": "stdout",
     "output_type": "stream",
     "text": [
      "0.9407008086253369\n"
     ]
    }
   ],
   "source": [
    "y_pred = pd.DataFrame(y_pred, columns=y_df.columns)\n",
    "\n",
    "# For one class\n",
    "print(metrics.accuracy_score(y_test['AFW'], y_pred['AFW']))"
   ]
  },
  {
   "cell_type": "markdown",
   "metadata": {},
   "source": [
    "### Evaluation Metrics: AUC\n",
    "Accuracy score can only tell us how many predictions are correct, but it does not tell us about the types of errors that our model is making. Additionally, if there are a lot of negative samples (i.e., y = 0) then accuracy can lead to inappropriate interpretation of the performance of our model. This is especially the case for some of the more infrequent categories.\n",
    "\n",
    "The type of error is important to our business objective because if we have too many false negatives, then the document would not be seen by the appropriate people that need to see it.  On the other hand, if we predict too many false positives, then those people might get spammed with irrelevant documents.\n",
    "\n",
    "I will use Area Under the Reciever Operating Characteristic curve (AUROC or AUC) as the evaluation metric, since this tells us more about what types of errors our model is making. I will define a function that calculates the AOC (estimated for a testing set) and plots the ROC."
   ]
  },
  {
   "cell_type": "code",
   "execution_count": 18,
   "metadata": {},
   "outputs": [
    {
     "data": {
      "image/png": "[encoded data removed]",
      "text/plain": [
       "<Figure size 432x288 with 1 Axes>"
      ]
     },
     "metadata": {},
     "output_type": "display_data"
    }
   ],
   "source": [
    "def plot_roc(classifier, X, y, class_name='AFW', random_state=42):\n",
    "    \"\"\"Function to calculate the AUC and plot the ROC of a mode.\n",
    "    Parameters\n",
    "    -----------\n",
    "    classifier: required\n",
    "        The actual model we are evaluating\n",
    "    X: Array-like, required\n",
    "        The input features\n",
    "    y: Array-like, required\n",
    "        The responses (target)\n",
    "    class_name: str, optional\n",
    "        The name of the class we are training on\n",
    "    random_state: int, optional\n",
    "        Random seed for train_test_split\n",
    "    \"\"\"\n",
    "    y = y[class_name]\n",
    "    X_train, X_test, y_train, y_test = train_test_split(X, y, random_state=random_state)\n",
    "    try:\n",
    "        classifier.fit(X_train, y_train)\n",
    "    except ValueError: # classifier does not have a document transformer (e.g., TfidfVectorizer, CountVectorizer)\n",
    "        tfidf = TfidfVectorizer(stop_words='english', ngram_range=(1, 3))\n",
    "        X_train = tfidf.fit_transform(X_train)\n",
    "        X_test = tfidf.transform(X_test)\n",
    "        classifier.fit(X_train, y_train)\n",
    "    y_pred_proba = classifier.predict_proba(X_test)\n",
    "    preds = y_pred_proba[:,1]\n",
    "    fpr, tpr, thresholds = metrics.roc_curve(y_test, preds)\n",
    "    roc_auc = metrics.auc(fpr, tpr)\n",
    "    title = 'Receiver Operating Characteristic'\n",
    "    if class_name is not None:\n",
    "        title += ' for class: ' + class_name\n",
    "    plt.title(title)\n",
    "    plt.plot(fpr, tpr, 'b', label = 'AUC = %0.2f' % roc_auc)\n",
    "    plt.legend(loc = 'lower right')\n",
    "    plt.plot([0, 1], [0, 1],'r--')\n",
    "    plt.xlim([0, 1])\n",
    "    plt.ylim([0, 1])\n",
    "    plt.ylabel('True Positive Rate')\n",
    "    plt.xlabel('False Positive Rate')\n",
    "    plt.show()\n",
    "    return roc_auc\n",
    "\n",
    "class_name = 'AFW'\n",
    "auc = plot_roc(MultinomialNB(), X, y_df, class_name=class_name)"
   ]
  },
  {
   "cell_type": "code",
   "execution_count": 19,
   "metadata": {},
   "outputs": [
    {
     "data": {
      "image/png": "[encoded data removed]",
      "text/plain": [
       "<Figure size 432x288 with 1 Axes>"
      ]
     },
     "metadata": {},
     "output_type": "display_data"
    }
   ],
   "source": [
    "# Let's try with another value for alpha\n",
    "auc = plot_roc(MultinomialNB(alpha=0.5), X, y_df, class_name=class_name)"
   ]
  },
  {
   "cell_type": "markdown",
   "metadata": {},
   "source": [
    "Lower alpha values seem to improve the AUC. We'll tune this hyperparameter later."
   ]
  },
  {
   "cell_type": "code",
   "execution_count": 20,
   "metadata": {},
   "outputs": [
    {
     "data": {
      "image/png": "[encoded data removed]",
      "text/plain": [
       "<Figure size 432x288 with 1 Axes>"
      ]
     },
     "metadata": {},
     "output_type": "display_data"
    }
   ],
   "source": [
    "auc = plot_roc(MultinomialNB(alpha=0.01), X, y_df, class_name=class_name)"
   ]
  },
  {
   "cell_type": "code",
   "execution_count": 21,
   "metadata": {},
   "outputs": [],
   "source": [
    "def confusion_matrix(y_true, y_pred):\n",
    "    \"\"\"A helper function to get the confusion matrix as a DataFrame,\n",
    "       to make it easier to print and read.\"\"\"\n",
    "    return pd.DataFrame(metrics.confusion_matrix(y_true, y_pred),\n",
    "                        columns=['Predicted: 0', 'Predicted: 1'], \n",
    "                        index=['Actual: 0', 'Actual: 1'])"
   ]
  },
  {
   "cell_type": "code",
   "execution_count": 22,
   "metadata": {},
   "outputs": [
    {
     "data": {
      "text/html": [
       "<div>\n",
       "<style scoped>\n",
       "    .dataframe tbody tr th:only-of-type {\n",
       "        vertical-align: middle;\n",
       "    }\n",
       "\n",
       "    .dataframe tbody tr th {\n",
       "        vertical-align: top;\n",
       "    }\n",
       "\n",
       "    .dataframe thead th {\n",
       "        text-align: right;\n",
       "    }\n",
       "</style>\n",
       "<table border=\"1\" class=\"dataframe\">\n",
       "  <thead>\n",
       "    <tr style=\"text-align: right;\">\n",
       "      <th></th>\n",
       "      <th>Predicted: 0</th>\n",
       "      <th>Predicted: 1</th>\n",
       "    </tr>\n",
       "  </thead>\n",
       "  <tbody>\n",
       "    <tr>\n",
       "      <th>Actual: 0</th>\n",
       "      <td>697</td>\n",
       "      <td>1</td>\n",
       "    </tr>\n",
       "    <tr>\n",
       "      <th>Actual: 1</th>\n",
       "      <td>30</td>\n",
       "      <td>14</td>\n",
       "    </tr>\n",
       "  </tbody>\n",
       "</table>\n",
       "</div>"
      ],
      "text/plain": [
       "           Predicted: 0  Predicted: 1\n",
       "Actual: 0           697             1\n",
       "Actual: 1            30            14"
      ]
     },
     "execution_count": 22,
     "metadata": {},
     "output_type": "execute_result"
    }
   ],
   "source": [
    "X = df['Abstract Text']\n",
    "y = y_df['AFW']\n",
    "X_train, X_test, y_train, y_test = train_test_split(X, y, random_state=42)\n",
    "tfidf = TfidfVectorizer(stop_words='english', ngram_range=(1, 3))\n",
    "X_train = tfidf.fit_transform(X_train)\n",
    "X_test = tfidf.transform(X_test)\n",
    "mnb = MultinomialNB(alpha=0.01)\n",
    "mnb.fit(X_train, y_train)\n",
    "y_pred = mnb.predict(X_test)\n",
    "confusion_matrix(y_test, y_pred)"
   ]
  },
  {
   "cell_type": "code",
   "execution_count": 23,
   "metadata": {},
   "outputs": [
    {
     "name": "stdout",
     "output_type": "stream",
     "text": [
      "AUC: 0.93 (+/- 0.11)\n"
     ]
    }
   ],
   "source": [
    "pipe = make_pipeline(TfidfVectorizer(stop_words='english'), MultinomialNB(alpha=0.01))\n",
    "scores = cross_val_score(pipe, df['Abstract Text'], y_df['AFW'], cv=10, scoring='roc_auc')\n",
    "print(\"AUC: %0.2f (+/- %0.2f)\" % (scores.mean(), scores.std() * 2))"
   ]
  },
  {
   "cell_type": "markdown",
   "metadata": {},
   "source": [
    "### SVC with linear kernel vs. LinearSVC\n",
    "Let's confirm that they are the same. We need SVC(kernel='linear') so we can get probabilities to be able to calculate the AUC"
   ]
  },
  {
   "cell_type": "code",
   "execution_count": 24,
   "metadata": {},
   "outputs": [
    {
     "data": {
      "text/html": [
       "<div>\n",
       "<style scoped>\n",
       "    .dataframe tbody tr th:only-of-type {\n",
       "        vertical-align: middle;\n",
       "    }\n",
       "\n",
       "    .dataframe tbody tr th {\n",
       "        vertical-align: top;\n",
       "    }\n",
       "\n",
       "    .dataframe thead th {\n",
       "        text-align: right;\n",
       "    }\n",
       "</style>\n",
       "<table border=\"1\" class=\"dataframe\">\n",
       "  <thead>\n",
       "    <tr style=\"text-align: right;\">\n",
       "      <th></th>\n",
       "      <th>Predicted: 0</th>\n",
       "      <th>Predicted: 1</th>\n",
       "    </tr>\n",
       "  </thead>\n",
       "  <tbody>\n",
       "    <tr>\n",
       "      <th>Actual: 0</th>\n",
       "      <td>697</td>\n",
       "      <td>1</td>\n",
       "    </tr>\n",
       "    <tr>\n",
       "      <th>Actual: 1</th>\n",
       "      <td>23</td>\n",
       "      <td>21</td>\n",
       "    </tr>\n",
       "  </tbody>\n",
       "</table>\n",
       "</div>"
      ],
      "text/plain": [
       "           Predicted: 0  Predicted: 1\n",
       "Actual: 0           697             1\n",
       "Actual: 1            23            21"
      ]
     },
     "execution_count": 24,
     "metadata": {},
     "output_type": "execute_result"
    }
   ],
   "source": [
    "X_train, X_test, y_train, y_test = train_test_split(df['Abstract Text'], y_df['AFW'], random_state=42)\n",
    "pipe = make_pipeline(TfidfVectorizer(stop_words='english', ngram_range=(1, 3)), LinearSVC())\n",
    "pipe.fit(X_train, y_train)\n",
    "y_pred = pipe.predict(X_test)\n",
    "confusion_matrix(y_test, y_pred)"
   ]
  },
  {
   "cell_type": "code",
   "execution_count": 25,
   "metadata": {},
   "outputs": [
    {
     "data": {
      "text/html": [
       "<div>\n",
       "<style scoped>\n",
       "    .dataframe tbody tr th:only-of-type {\n",
       "        vertical-align: middle;\n",
       "    }\n",
       "\n",
       "    .dataframe tbody tr th {\n",
       "        vertical-align: top;\n",
       "    }\n",
       "\n",
       "    .dataframe thead th {\n",
       "        text-align: right;\n",
       "    }\n",
       "</style>\n",
       "<table border=\"1\" class=\"dataframe\">\n",
       "  <thead>\n",
       "    <tr style=\"text-align: right;\">\n",
       "      <th></th>\n",
       "      <th>Predicted: 0</th>\n",
       "      <th>Predicted: 1</th>\n",
       "    </tr>\n",
       "  </thead>\n",
       "  <tbody>\n",
       "    <tr>\n",
       "      <th>Actual: 0</th>\n",
       "      <td>697</td>\n",
       "      <td>1</td>\n",
       "    </tr>\n",
       "    <tr>\n",
       "      <th>Actual: 1</th>\n",
       "      <td>23</td>\n",
       "      <td>21</td>\n",
       "    </tr>\n",
       "  </tbody>\n",
       "</table>\n",
       "</div>"
      ],
      "text/plain": [
       "           Predicted: 0  Predicted: 1\n",
       "Actual: 0           697             1\n",
       "Actual: 1            23            21"
      ]
     },
     "execution_count": 25,
     "metadata": {},
     "output_type": "execute_result"
    }
   ],
   "source": [
    "X_train, X_test, y_train, y_test = train_test_split(df['Abstract Text'], y_df['AFW'], random_state=42)\n",
    "pipe = make_pipeline(TfidfVectorizer(stop_words='english', ngram_range=(1, 3)), SVC(kernel='linear'))\n",
    "pipe.fit(X_train, y_train)\n",
    "y_pred = pipe.predict(X_test)\n",
    "confusion_matrix(y_test, y_pred)"
   ]
  },
  {
   "cell_type": "markdown",
   "metadata": {},
   "source": [
    "### SVC(kernel='linear') ROC"
   ]
  },
  {
   "cell_type": "code",
   "execution_count": 26,
   "metadata": {},
   "outputs": [
    {
     "data": {
      "image/png": "[encoded data removed]",
      "text/plain": [
       "<Figure size 432x288 with 1 Axes>"
      ]
     },
     "metadata": {},
     "output_type": "display_data"
    }
   ],
   "source": [
    "auc = plot_roc(SVC(kernel='linear', probability=True), X=df['Abstract Text'], y=y_df, class_name='AFW')"
   ]
  },
  {
   "cell_type": "code",
   "execution_count": 27,
   "metadata": {},
   "outputs": [
    {
     "name": "stdout",
     "output_type": "stream",
     "text": [
      "AUC: 0.92 (+/- 0.14)\n",
      "Wall time: 51.1 s\n"
     ]
    }
   ],
   "source": [
    "%%time\n",
    "pipe = make_pipeline(TfidfVectorizer(stop_words='english'), SVC(kernel='linear', probability=True))\n",
    "scores = cross_val_score(pipe, df['Abstract Text'], y_df['AFW'], cv=10, scoring='roc_auc')\n",
    "print(\"AUC: %0.2f (+/- %0.2f)\" % (scores.mean(), scores.std() * 2))"
   ]
  },
  {
   "cell_type": "markdown",
   "metadata": {},
   "source": [
    "### MultinomialNB hyperparameter tuning with RandomizedSearchCV\n",
    "First, I will take part of the data out as a validation set"
   ]
  },
  {
   "cell_type": "code",
   "execution_count": 28,
   "metadata": {},
   "outputs": [
    {
     "name": "stdout",
     "output_type": "stream",
     "text": [
      "0.9243784308819325\n",
      "{'tfidfvectorizer__stop_words': None, 'tfidfvectorizer__norm': 'l1', 'tfidfvectorizer__ngram_range': (1, 1), 'multinomialnb__alpha': 0.001}\n",
      "Wall time: 51.3 s\n"
     ]
    }
   ],
   "source": [
    "%%time\n",
    "\n",
    "# create a pipeline\n",
    "pipe = Pipeline([('tfidfvectorizer', TfidfVectorizer()),\n",
    "                 ('multinomialnb', MultinomialNB())\n",
    "                ])\n",
    "\n",
    "# search for an optimal parameter using RandomizedSearchCV\n",
    "# TFIDF params\n",
    "ngram_ranges = [(1, 1), (1, 2), (1, 3), (1, 4)]\n",
    "norm_options = [None,'l1', 'l2']\n",
    "stopword_options = [None, 'english']\n",
    "\n",
    "# MultinomialNB params\n",
    "alpha_options = [1.0, 0.1, 5e-2, 2e-2, 1e-2, 1e-3, 0.0]\n",
    "\n",
    "\n",
    "#create a param dist\n",
    "param_dist = dict(tfidfvectorizer__ngram_range=ngram_ranges, tfidfvectorizer__norm=norm_options,\n",
    "                  tfidfvectorizer__stop_words=stopword_options, multinomialnb__alpha=alpha_options)\n",
    "\n",
    "# create a radomizedgrid search\n",
    "rand_mnb = RandomizedSearchCV(pipe, param_dist, cv=10, scoring='roc_auc',\n",
    "                              n_iter=10, return_train_score=True,\n",
    "                              n_jobs=-1)\n",
    "\n",
    "X = df['Abstract Text']\n",
    "y = y_df['AFW']\n",
    "rand_mnb.fit(X, y)\n",
    "# examine the best model\n",
    "print(rand_mnb.best_score_)\n",
    "print(rand_mnb.best_params_)"
   ]
  },
  {
   "cell_type": "code",
   "execution_count": 29,
   "metadata": {},
   "outputs": [
    {
     "data": {
      "text/html": [
       "<div>\n",
       "<style scoped>\n",
       "    .dataframe tbody tr th:only-of-type {\n",
       "        vertical-align: middle;\n",
       "    }\n",
       "\n",
       "    .dataframe tbody tr th {\n",
       "        vertical-align: top;\n",
       "    }\n",
       "\n",
       "    .dataframe thead th {\n",
       "        text-align: right;\n",
       "    }\n",
       "</style>\n",
       "<table border=\"1\" class=\"dataframe\">\n",
       "  <thead>\n",
       "    <tr style=\"text-align: right;\">\n",
       "      <th></th>\n",
       "      <th>Predicted: 0</th>\n",
       "      <th>Predicted: 1</th>\n",
       "    </tr>\n",
       "  </thead>\n",
       "  <tbody>\n",
       "    <tr>\n",
       "      <th>Actual: 0</th>\n",
       "      <td>704</td>\n",
       "      <td>0</td>\n",
       "    </tr>\n",
       "    <tr>\n",
       "      <th>Actual: 1</th>\n",
       "      <td>38</td>\n",
       "      <td>0</td>\n",
       "    </tr>\n",
       "  </tbody>\n",
       "</table>\n",
       "</div>"
      ],
      "text/plain": [
       "           Predicted: 0  Predicted: 1\n",
       "Actual: 0           704             0\n",
       "Actual: 1            38             0"
      ]
     },
     "execution_count": 29,
     "metadata": {},
     "output_type": "execute_result"
    }
   ],
   "source": [
    "# Now test\n",
    "classifier = rand_mnb.best_estimator_\n",
    "X_train, X_test, y_train, y_test = train_test_split(X, y, random_state=1)\n",
    "classifier.fit(X_train, y_train)\n",
    "y_pred = classifier.predict(X_test)\n",
    "confusion_matrix(y_test, y_pred)"
   ]
  },
  {
   "cell_type": "markdown",
   "metadata": {},
   "source": [
    "#### Using grid search"
   ]
  },
  {
   "cell_type": "code",
   "execution_count": 30,
   "metadata": {},
   "outputs": [
    {
     "name": "stdout",
     "output_type": "stream",
     "text": [
      "0.9310024255426635\n",
      "{'multinomialnb__alpha': 0.02, 'tfidfvectorizer__ngram_range': (1, 1), 'tfidfvectorizer__norm': 'l2', 'tfidfvectorizer__stop_words': 'english'}\n",
      "Wall time: 12min 41s\n"
     ]
    }
   ],
   "source": [
    "%%time\n",
    "\n",
    "# create a pipeline\n",
    "pipe = Pipeline([('tfidfvectorizer', TfidfVectorizer()),\n",
    "                 ('multinomialnb', MultinomialNB())\n",
    "                ])\n",
    "\n",
    "# search for an optimal parameter using RandomizedSearchCV\n",
    "# TFIDF params\n",
    "ngram_ranges = [(1, 1), (1, 2), (1, 3), (1, 4)]\n",
    "norm_options = [None,'l1', 'l2']\n",
    "stopword_options = [None, 'english']\n",
    "\n",
    "# MultinomialNB params\n",
    "alpha_options = [1.0, 0.1, 5e-2, 2e-2, 1e-2, 1e-3, 0.0]\n",
    "\n",
    "\n",
    "#create a param dist\n",
    "param_grid = dict(tfidfvectorizer__ngram_range=ngram_ranges, tfidfvectorizer__norm=norm_options,\n",
    "                  tfidfvectorizer__stop_words=stopword_options, multinomialnb__alpha=alpha_options)\n",
    "\n",
    "# create a radomizedgrid search\n",
    "rand_mnb = GridSearchCV(pipe, param_grid, cv=10, scoring='roc_auc',\n",
    "                              return_train_score=True,\n",
    "                              n_jobs=-1)\n",
    "X = df['Abstract Text']\n",
    "y = y_df['AFW']\n",
    "rand_mnb.fit(X, y)\n",
    "# examine the best model\n",
    "print(rand_mnb.best_score_)\n",
    "print(rand_mnb.best_params_)"
   ]
  },
  {
   "cell_type": "code",
   "execution_count": 31,
   "metadata": {},
   "outputs": [
    {
     "name": "stdout",
     "output_type": "stream",
     "text": [
      "AUC: 0.93 (+/- 0.12)\n",
      "Wall time: 3.27 s\n"
     ]
    }
   ],
   "source": [
    "%%time\n",
    "pipe = Pipeline([('tfidfvectorizer', TfidfVectorizer(stop_words='english', norm='l2')),\n",
    "                 ('multinomialnb', MultinomialNB(alpha=0.02))\n",
    "                ])\n",
    "scores = cross_val_score(pipe, df['Abstract Text'], y_df['AFW'], cv=10, scoring='roc_auc')\n",
    "print(\"AUC: %0.2f (+/- %0.2f)\" % (scores.mean(), scores.std() * 2))"
   ]
  },
  {
   "cell_type": "code",
   "execution_count": 32,
   "metadata": {},
   "outputs": [
    {
     "data": {
      "text/html": [
       "<div>\n",
       "<style scoped>\n",
       "    .dataframe tbody tr th:only-of-type {\n",
       "        vertical-align: middle;\n",
       "    }\n",
       "\n",
       "    .dataframe tbody tr th {\n",
       "        vertical-align: top;\n",
       "    }\n",
       "\n",
       "    .dataframe thead th {\n",
       "        text-align: right;\n",
       "    }\n",
       "</style>\n",
       "<table border=\"1\" class=\"dataframe\">\n",
       "  <thead>\n",
       "    <tr style=\"text-align: right;\">\n",
       "      <th></th>\n",
       "      <th>Predicted: 0</th>\n",
       "      <th>Predicted: 1</th>\n",
       "    </tr>\n",
       "  </thead>\n",
       "  <tbody>\n",
       "    <tr>\n",
       "      <th>Actual: 0</th>\n",
       "      <td>2804</td>\n",
       "      <td>14</td>\n",
       "    </tr>\n",
       "    <tr>\n",
       "      <th>Actual: 1</th>\n",
       "      <td>14</td>\n",
       "      <td>136</td>\n",
       "    </tr>\n",
       "  </tbody>\n",
       "</table>\n",
       "</div>"
      ],
      "text/plain": [
       "           Predicted: 0  Predicted: 1\n",
       "Actual: 0          2804            14\n",
       "Actual: 1            14           136"
      ]
     },
     "execution_count": 32,
     "metadata": {},
     "output_type": "execute_result"
    }
   ],
   "source": [
    "pipe.fit(df['Abstract Text'], y_df['AFW'])\n",
    "y_pred = pipe.predict(df['Abstract Text'])\n",
    "confusion_matrix(y_df['AFW'], y_pred)"
   ]
  },
  {
   "cell_type": "markdown",
   "metadata": {},
   "source": [
    "Let's see how this model works on the other classes"
   ]
  },
  {
   "cell_type": "code",
   "execution_count": 33,
   "metadata": {},
   "outputs": [
    {
     "name": "stdout",
     "output_type": "stream",
     "text": [
      "AFW:\n",
      "AUC: 0.93 (+/- 0.12)\n",
      "----------------------------------------------------------------------------------------------------\n",
      "CONTAINMENT:\n",
      "AUC: 0.95 (+/- 0.06)\n",
      "----------------------------------------------------------------------------------------------------\n",
      "ECCS:\n",
      "AUC: 0.89 (+/- 0.08)\n",
      "----------------------------------------------------------------------------------------------------\n",
      "EDG:\n",
      "AUC: 0.94 (+/- 0.09)\n",
      "----------------------------------------------------------------------------------------------------\n",
      "ELECTRICAL PWR:\n",
      "AUC: 0.93 (+/- 0.04)\n",
      "----------------------------------------------------------------------------------------------------\n",
      "FIRE PROTECTION:\n",
      "AUC: 0.94 (+/- 0.09)\n",
      "----------------------------------------------------------------------------------------------------\n",
      "FLOODING/MISSILES:\n",
      "AUC: 0.96 (+/- 0.07)\n",
      "----------------------------------------------------------------------------------------------------\n",
      "HUMAN PERF/SAFETY CULTURE:\n",
      "AUC: 0.80 (+/- 0.06)\n",
      "----------------------------------------------------------------------------------------------------\n",
      "HVAC/DOSE:\n",
      "AUC: 0.92 (+/- 0.09)\n",
      "----------------------------------------------------------------------------------------------------\n",
      "I&C:\n",
      "AUC: 0.88 (+/- 0.04)\n",
      "----------------------------------------------------------------------------------------------------\n",
      "NRO:\n",
      "AUC: 0.68 (+/- 0.14)\n",
      "----------------------------------------------------------------------------------------------------\n",
      "PRI MAT'L/VSL/WELD:\n",
      "AUC: 0.98 (+/- 0.03)\n",
      "----------------------------------------------------------------------------------------------------\n",
      "PUMP & VALVE:\n",
      "AUC: 0.91 (+/- 0.05)\n",
      "----------------------------------------------------------------------------------------------------\n",
      "QA/VENDOR/CFSI:\n",
      "AUC: 0.75 (+/- 0.11)\n",
      "----------------------------------------------------------------------------------------------------\n",
      "SERVICE WATER/UHS:\n",
      "AUC: 0.94 (+/- 0.09)\n",
      "----------------------------------------------------------------------------------------------------\n"
     ]
    }
   ],
   "source": [
    "for cls in y_df.columns:\n",
    "    scores = cross_val_score(pipe, df['Abstract Text'], y_df[cls], cv=10, scoring='roc_auc')\n",
    "    print(f'{cls}:')\n",
    "    print(\"AUC: %0.2f (+/- %0.2f)\" % (scores.mean(), scores.std() * 2))\n",
    "    print('-'*100)"
   ]
  },
  {
   "cell_type": "code",
   "execution_count": 34,
   "metadata": {},
   "outputs": [
    {
     "name": "stdout",
     "output_type": "stream",
     "text": [
      "False Positive:\n",
      "At 1415 Central Daylight Time (CDT) on July 24, 2009, with Unit 1 in Mode 1, at approximately 100 percent of rated thermal power, Operations was conducting a surveillance on the High Pressure Coolant Injection System (HPCI), 1-SR-3.5.1.7, \"HPCI Main and Booster Pump Set Development Head and Flow Rate Test at Rated Reactor Pressure.\" At approximately 1415 CDT, during the prerequisite steps 1-PCV-073-0018C, the HPCI Turbine Stop Valve Mechanical Trip Hold Valve developed a tear in the diaphragm. This tear caused oil from the HPCI control oil system to spill at a rate of approximately 0.25 to 0.5 gallons per minute (gpm). The pressurization of the control oil system is the motive force required to open the HPCI stop valve. If the oil system could not be pressurized the HPCI Stop Valve could not be opened which would render HPCI inoperable.  The root cause was a material defect in the diaphragm of 1-PCV-073-0018C, HPCI Turbine Stop Valve Mechanical Trip Hold Valve, allowed the diaphragm to tear under normal system pressure and operating conditions.  Corrective actions to prevent recurrence include the quarantine of spare diaphragms determined to be from same lot as the diaphragm that failed and verifying that diaphragms from the same lot as the failed diaphragm are not currently installed.\n",
      "\n",
      "--------------------------------------------------------------------------------\n",
      "\n",
      "False Negative:\n",
      "During a scheduled surveillance per procedure STA-001-005 (Leakage Testing of Air and Nitrogen Accumulators for Safety Related Valves) for the nitrogen accumulator system, an accumulator as-found leak rate exceeded the acceptance criteria. Subsequent investigation determined that the cause of the leakage was an emergency feedwater valve failed actuator diaphragm. This failure could have existed prior to discovery for a duration longer than the Technical Specification Limiting Condition for Operation action statement allows. The applicable Technical Specifications are 3.6.3 (Containment Isolation), 3.7.1.2 (Emergency Feedwater), and 3.7.1.7 (Atmospheric Dump Valves).\n",
      "\n",
      "The failed diaphragm was replaced and system operability restored within 72 hours after discovery.\n",
      "\n",
      "This identified condition is being reported as a Licensee Event Report (LER) under reporting criteria 10CFR50.73(a)(2)(i)(B): Any operation or condition which was prohibited by the plant's Technical Specifications.\n"
     ]
    }
   ],
   "source": [
    "# Let's examine one of the false positives\n",
    "pipe.fit(df['Abstract Text'], y_df['AFW'])\n",
    "y_pred = pipe.predict(df['Abstract Text'])\n",
    "\n",
    "print('False Positive:')\n",
    "print(X.iloc[np.where((y_df['AFW'] == 0) & (y_pred == 1))[0]].values[0])\n",
    "print('\\n' + '-'*80 + '\\n')\n",
    "\n",
    "# And one of the false negative\n",
    "print('False Negative:')\n",
    "print(X.iloc[np.where((y_df['AFW'] == 1) & (y_pred == 0))[0]].values[1])"
   ]
  },
  {
   "cell_type": "code",
   "execution_count": 35,
   "metadata": {},
   "outputs": [
    {
     "data": {
      "image/png": "[encoded data removed]",
      "text/plain": [
       "<Figure size 432x288 with 1 Axes>"
      ]
     },
     "metadata": {},
     "output_type": "display_data"
    }
   ],
   "source": [
    "auc = plot_roc(pipe, X=df['Abstract Text'], y=y_df, class_name='AFW')"
   ]
  },
  {
   "cell_type": "markdown",
   "metadata": {},
   "source": [
    "### SVC(kernel='linear') hyperparameter tuning with RandomizedSearchCV"
   ]
  },
  {
   "cell_type": "code",
   "execution_count": 36,
   "metadata": {},
   "outputs": [
    {
     "name": "stdout",
     "output_type": "stream",
     "text": [
      "0.9245649751748218\n",
      "{'tfidfvectorizer__stop_words': 'english', 'tfidfvectorizer__norm': None, 'tfidfvectorizer__ngram_range': (1, 3), 'svc__C': 0.75}\n",
      "Wall time: 10min 37s\n"
     ]
    }
   ],
   "source": [
    "%%time\n",
    "\n",
    "# create a pipeline\n",
    "pipe = Pipeline([\n",
    "                 ('tfidfvectorizer', TfidfVectorizer()),\n",
    "                 ('svc', SVC(kernel='linear', probability=True))\n",
    "                ])\n",
    "\n",
    "# TFIDF params\n",
    "ngram_ranges = [(1, 1), (1, 2), (1, 3), (1, 4)]\n",
    "norm_options = [None,'l1', 'l2']\n",
    "stopword_options = [None, 'english']\n",
    "\n",
    "# SVC params\n",
    "C_options = np.linspace(0.0, 1.0, 21)\n",
    "\n",
    "#create a param dist\n",
    "param_dist = dict(tfidfvectorizer__ngram_range=ngram_ranges, tfidfvectorizer__norm=norm_options,\n",
    "                  tfidfvectorizer__stop_words=stopword_options, svc__C=C_options)\n",
    "\n",
    "rand_svc = RandomizedSearchCV(pipe, param_dist, cv=10, scoring='roc_auc',\n",
    "                              n_iter=10, random_state=5, return_train_score=True,\n",
    "                              n_jobs=-1)\n",
    "\n",
    "y = y_df['AFW']\n",
    "rand_svc.fit(X, y)\n",
    "\n",
    "# examine the best model\n",
    "print(rand_svc.best_score_)\n",
    "print(rand_svc.best_params_)"
   ]
  },
  {
   "cell_type": "code",
   "execution_count": 37,
   "metadata": {},
   "outputs": [
    {
     "name": "stdout",
     "output_type": "stream",
     "text": [
      "0.9316633134665239\n",
      "{'svc__C': 0.6040000000000001, 'tfidfvectorizer__ngram_range': (1, 4), 'tfidfvectorizer__norm': 'l2', 'tfidfvectorizer__stop_words': 'english'}\n",
      "Wall time: 6h 31min 12s\n"
     ]
    }
   ],
   "source": [
    "%%time\n",
    "\n",
    "# create a pipeline\n",
    "pipe = Pipeline([\n",
    "                 ('tfidfvectorizer', TfidfVectorizer()),\n",
    "                 ('svc', SVC(kernel='linear', probability=True))\n",
    "                ])\n",
    "\n",
    "# TFIDF params\n",
    "ngram_ranges = [(1, 1), (1, 2), (1, 3), (1, 4)]\n",
    "norm_options = [None,'l1', 'l2']\n",
    "stopword_options = [None, 'english']\n",
    "\n",
    "# SVC params\n",
    "C_options = np.linspace(0.01, 1.0, 21)\n",
    "\n",
    "#create a param dist\n",
    "param_grid = dict(tfidfvectorizer__ngram_range=ngram_ranges, tfidfvectorizer__norm=norm_options,\n",
    "                  tfidfvectorizer__stop_words=stopword_options, svc__C=C_options)\n",
    "\n",
    "rand_svc = GridSearchCV(pipe, param_grid, cv=10, scoring='roc_auc',\n",
    "                              return_train_score=True,\n",
    "                              n_jobs=-1)\n",
    "\n",
    "y = y_df['AFW']\n",
    "rand_svc.fit(X, y)\n",
    "\n",
    "# examine the best model\n",
    "print(rand_svc.best_score_)\n",
    "print(rand_svc.best_params_)"
   ]
  },
  {
   "cell_type": "code",
   "execution_count": 38,
   "metadata": {},
   "outputs": [
    {
     "data": {
      "text/html": [
       "<div>\n",
       "<style scoped>\n",
       "    .dataframe tbody tr th:only-of-type {\n",
       "        vertical-align: middle;\n",
       "    }\n",
       "\n",
       "    .dataframe tbody tr th {\n",
       "        vertical-align: top;\n",
       "    }\n",
       "\n",
       "    .dataframe thead th {\n",
       "        text-align: right;\n",
       "    }\n",
       "</style>\n",
       "<table border=\"1\" class=\"dataframe\">\n",
       "  <thead>\n",
       "    <tr style=\"text-align: right;\">\n",
       "      <th></th>\n",
       "      <th>Predicted: 0</th>\n",
       "      <th>Predicted: 1</th>\n",
       "    </tr>\n",
       "  </thead>\n",
       "  <tbody>\n",
       "    <tr>\n",
       "      <th>Actual: 0</th>\n",
       "      <td>2817</td>\n",
       "      <td>1</td>\n",
       "    </tr>\n",
       "    <tr>\n",
       "      <th>Actual: 1</th>\n",
       "      <td>52</td>\n",
       "      <td>98</td>\n",
       "    </tr>\n",
       "  </tbody>\n",
       "</table>\n",
       "</div>"
      ],
      "text/plain": [
       "           Predicted: 0  Predicted: 1\n",
       "Actual: 0          2817             1\n",
       "Actual: 1            52            98"
      ]
     },
     "execution_count": 38,
     "metadata": {},
     "output_type": "execute_result"
    }
   ],
   "source": [
    "# Now let's take a look at the confusion matrix\n",
    "svc = rand_svc.best_estimator_\n",
    "svc.fit(df['Abstract Text'], y_df['AFW'])\n",
    "y_pred = svc.predict(df['Abstract Text'])\n",
    "confusion_matrix(y_df['AFW'], y_pred)"
   ]
  },
  {
   "cell_type": "code",
   "execution_count": 39,
   "metadata": {
    "scrolled": true
   },
   "outputs": [
    {
     "data": {
      "image/png": "[encoded data removed]",
      "text/plain": [
       "<Figure size 432x288 with 1 Axes>"
      ]
     },
     "metadata": {},
     "output_type": "display_data"
    }
   ],
   "source": [
    "pipe = Pipeline([\n",
    "                 ('tfidfvectorizer', TfidfVectorizer(stop_words='english', ngram_range=(1, 3))),\n",
    "                 ('svc', SVC(kernel='linear', probability=True, C=0.75))\n",
    "                ])\n",
    "auc = plot_roc(pipe, df['Abstract Text'], y_df, class_name='AFW')"
   ]
  },
  {
   "cell_type": "markdown",
   "metadata": {},
   "source": [
    "Lets see how it performs on all classes"
   ]
  },
  {
   "cell_type": "code",
   "execution_count": 40,
   "metadata": {},
   "outputs": [
    {
     "name": "stdout",
     "output_type": "stream",
     "text": [
      "AFW:\n",
      "AUC: 0.93 (+/- 0.12)\n",
      "----------------------------------------------------------------------------------------------------\n",
      "CONTAINMENT:\n",
      "AUC: 0.94 (+/- 0.06)\n",
      "----------------------------------------------------------------------------------------------------\n",
      "ECCS:\n",
      "AUC: 0.91 (+/- 0.07)\n",
      "----------------------------------------------------------------------------------------------------\n",
      "EDG:\n",
      "AUC: 0.95 (+/- 0.10)\n",
      "----------------------------------------------------------------------------------------------------\n",
      "ELECTRICAL PWR:\n",
      "AUC: 0.94 (+/- 0.03)\n",
      "----------------------------------------------------------------------------------------------------\n",
      "FIRE PROTECTION:\n",
      "AUC: 0.94 (+/- 0.10)\n",
      "----------------------------------------------------------------------------------------------------\n",
      "FLOODING/MISSILES:\n",
      "AUC: 0.96 (+/- 0.10)\n",
      "----------------------------------------------------------------------------------------------------\n",
      "HUMAN PERF/SAFETY CULTURE:\n",
      "AUC: 0.82 (+/- 0.04)\n",
      "----------------------------------------------------------------------------------------------------\n",
      "HVAC/DOSE:\n",
      "AUC: 0.93 (+/- 0.08)\n",
      "----------------------------------------------------------------------------------------------------\n",
      "I&C:\n",
      "AUC: 0.88 (+/- 0.05)\n",
      "----------------------------------------------------------------------------------------------------\n",
      "NRO:\n",
      "AUC: 0.64 (+/- 0.10)\n",
      "----------------------------------------------------------------------------------------------------\n",
      "PRI MAT'L/VSL/WELD:\n",
      "AUC: 0.98 (+/- 0.03)\n",
      "----------------------------------------------------------------------------------------------------\n",
      "PUMP & VALVE:\n",
      "AUC: 0.90 (+/- 0.05)\n",
      "----------------------------------------------------------------------------------------------------\n",
      "QA/VENDOR/CFSI:\n",
      "AUC: 0.74 (+/- 0.13)\n",
      "----------------------------------------------------------------------------------------------------\n",
      "SERVICE WATER/UHS:\n",
      "AUC: 0.94 (+/- 0.09)\n",
      "----------------------------------------------------------------------------------------------------\n",
      "Wall time: 1h 18min 52s\n"
     ]
    }
   ],
   "source": [
    "%%time\n",
    "for cls in y_df.columns:\n",
    "    scores = cross_val_score(pipe, df['Abstract Text'], y_df[cls], cv=10, scoring='roc_auc')\n",
    "    print(f'{cls}:')\n",
    "    print(\"AUC: %0.2f (+/- %0.2f)\" % (scores.mean(), scores.std() * 2))\n",
    "    print('-'*100)"
   ]
  },
  {
   "cell_type": "markdown",
   "metadata": {},
   "source": [
    "#### The performance is comparable to naive bayes.  Since naive bayes is faster, we'll use that model."
   ]
  },
  {
   "cell_type": "code",
   "execution_count": 41,
   "metadata": {},
   "outputs": [
    {
     "name": "stdout",
     "output_type": "stream",
     "text": [
      "             precision    recall  f1-score   support\n",
      "\n",
      "          0       0.87      0.30      0.44        44\n",
      "          1       0.77      0.64      0.70        92\n",
      "          2       0.84      0.47      0.60       121\n",
      "          3       0.56      0.31      0.40        32\n",
      "          4       0.89      0.68      0.77       179\n",
      "          5       0.92      0.67      0.77        33\n",
      "          6       0.82      0.74      0.78        31\n",
      "          7       0.66      0.53      0.58       240\n",
      "          8       0.75      0.60      0.67        77\n",
      "          9       0.72      0.58      0.65       137\n",
      "         10       0.48      0.16      0.25        79\n",
      "         11       0.91      0.74      0.82        54\n",
      "         12       0.78      0.61      0.69       136\n",
      "         13       0.38      0.13      0.20        61\n",
      "         14       0.69      0.56      0.62        36\n",
      "\n",
      "avg / total       0.74      0.53      0.61      1352\n",
      "\n"
     ]
    }
   ],
   "source": [
    "mnb = Pipeline([('tfidfvectorizer', TfidfVectorizer(stop_words='english', norm='l2', ngram_range=(1, 1))),\n",
    "                 ('multinomialnb', OneVsRestClassifier(MultinomialNB(alpha=0.02)))\n",
    "                ])\n",
    "X_train, X_test, y_train, y_test = train_test_split(df['Abstract Text'], y_df, random_state=42)\n",
    "mnb.fit(X_train, y_train)\n",
    "y_pred = mnb.predict(X_test)\n",
    "print(metrics.classification_report(y_test, y_pred))"
   ]
  },
  {
   "cell_type": "markdown",
   "metadata": {},
   "source": [
    "## Other features\n",
    "The data also has the report titles and full (uncleaned) pdf text. From experience, I can also tell that some keywords might be important to some of the documents. For example, Auxiliary Feedwater is called Emergency Feedwater in a few facilities, which may have cause some of the false negatives in the first model. I'll see if adding a feature indicating the presence of keywords specific to each class and see if that helps the model."
   ]
  },
  {
   "cell_type": "markdown",
   "metadata": {},
   "source": [
    "### Title\n",
    "Let's see if the title is a useful feature for predicting the categories."
   ]
  },
  {
   "cell_type": "code",
   "execution_count": 42,
   "metadata": {},
   "outputs": [
    {
     "name": "stdout",
     "output_type": "stream",
     "text": [
      "0.8708520211823741\n",
      "{'multinomialnb__alpha': 0.02, 'tfidfvectorizer__ngram_range': (1, 1), 'tfidfvectorizer__norm': 'l1', 'tfidfvectorizer__stop_words': 'english'}\n",
      "Wall time: 51.4 s\n"
     ]
    }
   ],
   "source": [
    "%%time\n",
    "# First, I'll try using the title\n",
    "\n",
    "# create a pipeline\n",
    "pipe = Pipeline([('tfidfvectorizer', TfidfVectorizer()),\n",
    "                 ('multinomialnb', MultinomialNB())\n",
    "                ])\n",
    "\n",
    "# search for an optimal parameter using RandomizedSearchCV\n",
    "# TFIDF params\n",
    "ngram_ranges = [(1, 1), (1, 2), (1, 3), (1, 4)]\n",
    "norm_options = [None,'l1', 'l2']\n",
    "stopword_options = [None, 'english']\n",
    "\n",
    "# MultinomialNB params\n",
    "alpha_options = [1.0, 0.1, 5e-2, 2e-2, 1e-2, 1e-3, 0.0]\n",
    "\n",
    "\n",
    "#create a param dist\n",
    "param_dist = dict(tfidfvectorizer__ngram_range=ngram_ranges, tfidfvectorizer__norm=norm_options,\n",
    "                  tfidfvectorizer__stop_words=stopword_options, multinomialnb__alpha=alpha_options)\n",
    "\n",
    "# create a radomizedgrid search\n",
    "rand_mnb = GridSearchCV(pipe, param_dist, cv=10, scoring='roc_auc',\n",
    "                              return_train_score=True,\n",
    "                              n_jobs=-1)\n",
    "X = df['Title']\n",
    "y = y_df['AFW']\n",
    "rand_mnb.fit(X, y)\n",
    "# examine the best model\n",
    "print(rand_mnb.best_score_)\n",
    "print(rand_mnb.best_params_)"
   ]
  },
  {
   "cell_type": "code",
   "execution_count": 43,
   "metadata": {},
   "outputs": [
    {
     "name": "stdout",
     "output_type": "stream",
     "text": [
      "AUC: 0.87 (+/- 0.16)\n",
      "Wall time: 316 ms\n"
     ]
    }
   ],
   "source": [
    "%%time\n",
    "pipe = Pipeline([('tfidfvectorizer', TfidfVectorizer(stop_words='english', norm='l1')),\n",
    "                 ('multinomialnb', MultinomialNB(alpha=0.02))\n",
    "                ])\n",
    "scores = cross_val_score(pipe, df['Title'], y_df['AFW'], cv=10, scoring='roc_auc')\n",
    "print(\"AUC: %0.2f (+/- %0.2f)\" % (scores.mean(), scores.std() * 2))\n",
    "pipe.fit(df['Title'], y_df['AFW'])\n",
    "y_pred = pipe.predict(df['Title'])"
   ]
  },
  {
   "cell_type": "code",
   "execution_count": 44,
   "metadata": {},
   "outputs": [
    {
     "data": {
      "text/html": [
       "<div>\n",
       "<style scoped>\n",
       "    .dataframe tbody tr th:only-of-type {\n",
       "        vertical-align: middle;\n",
       "    }\n",
       "\n",
       "    .dataframe tbody tr th {\n",
       "        vertical-align: top;\n",
       "    }\n",
       "\n",
       "    .dataframe thead th {\n",
       "        text-align: right;\n",
       "    }\n",
       "</style>\n",
       "<table border=\"1\" class=\"dataframe\">\n",
       "  <thead>\n",
       "    <tr style=\"text-align: right;\">\n",
       "      <th></th>\n",
       "      <th>Predicted: 0</th>\n",
       "      <th>Predicted: 1</th>\n",
       "    </tr>\n",
       "  </thead>\n",
       "  <tbody>\n",
       "    <tr>\n",
       "      <th>Actual: 0</th>\n",
       "      <td>2818</td>\n",
       "      <td>0</td>\n",
       "    </tr>\n",
       "    <tr>\n",
       "      <th>Actual: 1</th>\n",
       "      <td>149</td>\n",
       "      <td>1</td>\n",
       "    </tr>\n",
       "  </tbody>\n",
       "</table>\n",
       "</div>"
      ],
      "text/plain": [
       "           Predicted: 0  Predicted: 1\n",
       "Actual: 0          2818             0\n",
       "Actual: 1           149             1"
      ]
     },
     "execution_count": 44,
     "metadata": {},
     "output_type": "execute_result"
    }
   ],
   "source": [
    "confusion_matrix(y_df['AFW'], y_pred)"
   ]
  },
  {
   "cell_type": "markdown",
   "metadata": {},
   "source": [
    "### Full report text\n",
    "Now I'll try the full text"
   ]
  },
  {
   "cell_type": "code",
   "execution_count": 45,
   "metadata": {},
   "outputs": [
    {
     "data": {
      "text/plain": [
       "AFW                           150\n",
       "CONTAINMENT                   347\n",
       "ECCS                          420\n",
       "EDG                           181\n",
       "ELECTRICAL PWR                713\n",
       "FIRE PROTECTION               159\n",
       "FLOODING/MISSILES             127\n",
       "HUMAN PERF/SAFETY CULTURE    1012\n",
       "HVAC/DOSE                     267\n",
       "I&C                           573\n",
       "NRO                           308\n",
       "PRI MAT'L/VSL/WELD            178\n",
       "PUMP & VALVE                  536\n",
       "QA/VENDOR/CFSI                252\n",
       "SERVICE WATER/UHS             172\n",
       "dtype: int64"
      ]
     },
     "execution_count": 45,
     "metadata": {},
     "output_type": "execute_result"
    }
   ],
   "source": [
    "# First, I need remove reports with high misspelling ratios\n",
    "full_text = df[df['Text Misspelling Ratio'] < 0.1]\n",
    "\n",
    "# Transform the response column (TRG) to a matrix\n",
    "mlb = MultiLabelBinarizer()\n",
    "y_df_ft = mlb.fit_transform(full_text['TRG'].apply(lambda t: t.split(', ')))\n",
    "y_df_ft = pd.DataFrame(y_df_ft, columns = mlb.classes_)\n",
    "y_df_ft.sum() # Class Counts\n",
    "classes = list(y_df_ft.sum()[y_df_ft.sum() > 100].index)\n",
    "classes.remove('OTHER')\n",
    "y_df_ft = y_df_ft[classes]\n",
    "y_df_ft.sum()"
   ]
  },
  {
   "cell_type": "code",
   "execution_count": 46,
   "metadata": {},
   "outputs": [
    {
     "name": "stdout",
     "output_type": "stream",
     "text": [
      "0.7432473482650714\n",
      "{'tfidfvectorizer__stop_words': 'english', 'tfidfvectorizer__norm': None, 'tfidfvectorizer__ngram_range': (1, 3), 'multinomialnb__alpha': 0.75}\n",
      "Wall time: 38min 2s\n"
     ]
    }
   ],
   "source": [
    "%%time\n",
    "# First, I'll try using the title\n",
    "\n",
    "# create a pipeline\n",
    "pipe = Pipeline([('tfidfvectorizer', TfidfVectorizer()),\n",
    "                 ('multinomialnb', MultinomialNB())\n",
    "                ])\n",
    "\n",
    "# search for an optimal parameter using RandomizedSearchCV\n",
    "# TFIDF params\n",
    "ngram_ranges = [(1, 1), (1, 2), (1, 3), (1, 4)]\n",
    "norm_options = [None,'l1', 'l2']\n",
    "stopword_options = [None, 'english']\n",
    "\n",
    "# MultinomialNB params\n",
    "alpha_options = np.linspace(0.0, 1.0, 21)\n",
    "\n",
    "\n",
    "#create a param dist\n",
    "param_dist = dict(tfidfvectorizer__ngram_range=ngram_ranges, tfidfvectorizer__norm=norm_options,\n",
    "                  tfidfvectorizer__stop_words=stopword_options, multinomialnb__alpha=alpha_options)\n",
    "\n",
    "# create a radomizedgrid search\n",
    "rand_mnb = RandomizedSearchCV(pipe, param_dist, cv=10, scoring='roc_auc',\n",
    "                          n_iter=10, random_state=5, return_train_score=True)\n",
    "X = full_text['Text']\n",
    "y = y_df_ft['AFW']\n",
    "rand_mnb.fit(X, y)\n",
    "# examine the best model\n",
    "print(rand_mnb.best_score_)\n",
    "print(rand_mnb.best_params_)"
   ]
  },
  {
   "cell_type": "code",
   "execution_count": 47,
   "metadata": {},
   "outputs": [
    {
     "data": {
      "text/html": [
       "<div>\n",
       "<style scoped>\n",
       "    .dataframe tbody tr th:only-of-type {\n",
       "        vertical-align: middle;\n",
       "    }\n",
       "\n",
       "    .dataframe tbody tr th {\n",
       "        vertical-align: top;\n",
       "    }\n",
       "\n",
       "    .dataframe thead th {\n",
       "        text-align: right;\n",
       "    }\n",
       "</style>\n",
       "<table border=\"1\" class=\"dataframe\">\n",
       "  <thead>\n",
       "    <tr style=\"text-align: right;\">\n",
       "      <th></th>\n",
       "      <th>Predicted: 0</th>\n",
       "      <th>Predicted: 1</th>\n",
       "    </tr>\n",
       "  </thead>\n",
       "  <tbody>\n",
       "    <tr>\n",
       "      <th>Actual: 0</th>\n",
       "      <td>700</td>\n",
       "      <td>2</td>\n",
       "    </tr>\n",
       "    <tr>\n",
       "      <th>Actual: 1</th>\n",
       "      <td>21</td>\n",
       "      <td>13</td>\n",
       "    </tr>\n",
       "  </tbody>\n",
       "</table>\n",
       "</div>"
      ],
      "text/plain": [
       "           Predicted: 0  Predicted: 1\n",
       "Actual: 0           700             2\n",
       "Actual: 1            21            13"
      ]
     },
     "execution_count": 47,
     "metadata": {},
     "output_type": "execute_result"
    }
   ],
   "source": [
    "mnb = Pipeline([('tfidfvectorizer', TfidfVectorizer(stop_words='english', norm='l2', ngram_range=(1, 3))),\n",
    "                 ('multinomialnb', MultinomialNB(alpha=0.02))\n",
    "                ])\n",
    "X = full_text['Text']\n",
    "y = y_df_ft['AFW']\n",
    "X_train, X_test, y_train, y_test = train_test_split(X, y, random_state=42)\n",
    "mnb.fit(X_train, y_train)\n",
    "y_pred = mnb.predict(X_test)\n",
    "confusion_matrix(y_test, y_pred)"
   ]
  },
  {
   "cell_type": "markdown",
   "metadata": {},
   "source": [
    "### Using FeatureUnion to add other features\n",
    "I am testing the featureunion sklearn class for a single category"
   ]
  },
  {
   "cell_type": "code",
   "execution_count": 48,
   "metadata": {},
   "outputs": [],
   "source": [
    "class ContainsKeywords(BaseEstimator, TransformerMixin):\n",
    "    \"\"\"Extracts whether a document contains user specified keywords,\n",
    "       and returns a 1 (positive) or 0 (negative)\"\"\"\n",
    "    def __init__(self, keywords):\n",
    "        self.keywords = re.compile('|'.join('({})'.format(kw) for kw in keywords), flags=re.IGNORECASE)\n",
    "    \n",
    "    def fit(self, x, y=None):\n",
    "        return self\n",
    "    \n",
    "    def transform(self, documents):\n",
    "        return pd.Series(documents).apply(lambda d: \n",
    "                                          int(bool(self.keywords.search(d)))).values.reshape(-1,1)\n",
    "    \n",
    "class ItemSelector(BaseEstimator, TransformerMixin):\n",
    "    \"\"\"For data grouped by feature, select subset of data at a provided key.\n",
    "    Parameters\n",
    "    ----------\n",
    "    key : hashable, required\n",
    "        The key corresponding to the desired value in a mappable.\n",
    "    \"\"\"\n",
    "    def __init__(self, key):\n",
    "        self.key = key\n",
    "\n",
    "    def fit(self, x, y=None):\n",
    "        return self\n",
    "\n",
    "    def transform(self, data_dict):\n",
    "        return data_dict[self.key]"
   ]
  },
  {
   "cell_type": "code",
   "execution_count": 49,
   "metadata": {},
   "outputs": [],
   "source": [
    "keywords = {'AFW': ['auxiliary feedwater', 'emergency feedwater', 'afw', 'efw'],\n",
    "            'ELECTRICAL PWR': ['electrical power', 'offsite power', 'electrical bus', 'breaker', '4160V', '480V']\n",
    "           }"
   ]
  },
  {
   "cell_type": "code",
   "execution_count": 50,
   "metadata": {},
   "outputs": [],
   "source": [
    "pipeline = Pipeline([\n",
    "\n",
    "    # Use FeatureUnion to combine the features from subject and body\n",
    "    ('union', FeatureUnion(\n",
    "        transformer_list=[\n",
    "\n",
    "            # Pipeline for pulling user keywords\n",
    "            ('keywords', Pipeline([\n",
    "                ('selector', ItemSelector(key='Abstract Text')),\n",
    "                ('feature', ContainsKeywords(keywords['AFW'])),\n",
    "            ])),\n",
    "            \n",
    "            # Pipeline for pulling LER titles\n",
    "            ('title', Pipeline([\n",
    "                ('selector', ItemSelector(key='Title')),\n",
    "                ('tfidf', TfidfVectorizer(stop_words='english', ngram_range=(1, 3), norm='l2')),\n",
    "            ])),\n",
    "            \n",
    "            # Pipeline for standard bag-of-words model for abstract text\n",
    "            ('abstract_bow', Pipeline([\n",
    "                ('selector', ItemSelector(key='Abstract Text')),\n",
    "                ('tfidf', TfidfVectorizer(stop_words='english', ngram_range=(1, 3), norm='l2')),\n",
    "                ('best', TruncatedSVD(n_components=100)),\n",
    "            ])),\n",
    "            \n",
    "            # Pipeline for standard bag-of-words model for full text\n",
    "            ('full_bow', Pipeline([\n",
    "                ('selector', ItemSelector(key='Text')),\n",
    "                ('tfidf', TfidfVectorizer(stop_words='english', ngram_range=(1, 3), norm='l2')),\n",
    "                ('best', TruncatedSVD(n_components=100)),\n",
    "            ])),\n",
    "\n",
    "        ],\n",
    "\n",
    "        # weight components in FeatureUnion\n",
    "        transformer_weights={\n",
    "            'keywords': 0.5,\n",
    "            'title': 1.5,\n",
    "            'abstract_bow': 1.5,\n",
    "            'full_bow': 0.8\n",
    "        },\n",
    "    )),\n",
    "\n",
    "    # Use a SVC classifier on the combined features\n",
    "#     ('svc', LinearSVC()),\n",
    "    ('svc', SVC(kernel='linear', probability=True)),\n",
    "#     ('mnb', MultinomialNB(alpha=0.02)),\n",
    "])\n"
   ]
  },
  {
   "cell_type": "code",
   "execution_count": 51,
   "metadata": {},
   "outputs": [
    {
     "data": {
      "text/html": [
       "<div>\n",
       "<style scoped>\n",
       "    .dataframe tbody tr th:only-of-type {\n",
       "        vertical-align: middle;\n",
       "    }\n",
       "\n",
       "    .dataframe tbody tr th {\n",
       "        vertical-align: top;\n",
       "    }\n",
       "\n",
       "    .dataframe thead th {\n",
       "        text-align: right;\n",
       "    }\n",
       "</style>\n",
       "<table border=\"1\" class=\"dataframe\">\n",
       "  <thead>\n",
       "    <tr style=\"text-align: right;\">\n",
       "      <th></th>\n",
       "      <th>Predicted: 0</th>\n",
       "      <th>Predicted: 1</th>\n",
       "    </tr>\n",
       "  </thead>\n",
       "  <tbody>\n",
       "    <tr>\n",
       "      <th>Actual: 0</th>\n",
       "      <td>697</td>\n",
       "      <td>10</td>\n",
       "    </tr>\n",
       "    <tr>\n",
       "      <th>Actual: 1</th>\n",
       "      <td>6</td>\n",
       "      <td>29</td>\n",
       "    </tr>\n",
       "  </tbody>\n",
       "</table>\n",
       "</div>"
      ],
      "text/plain": [
       "           Predicted: 0  Predicted: 1\n",
       "Actual: 0           697            10\n",
       "Actual: 1             6            29"
      ]
     },
     "execution_count": 51,
     "metadata": {},
     "output_type": "execute_result"
    }
   ],
   "source": [
    "X = df.drop('TRG', axis=1)\n",
    "y = y_df['AFW']\n",
    "X_train, X_test, y_train, y_test = train_test_split(X, y)\n",
    "pipeline.fit(X_train, y_train)\n",
    "y_pred = pipeline.predict(X_test)\n",
    "confusion_matrix(y_pred, y_test)"
   ]
  },
  {
   "cell_type": "code",
   "execution_count": 52,
   "metadata": {},
   "outputs": [
    {
     "data": {
      "image/png": "[encoded data removed]",
      "text/plain": [
       "<Figure size 432x288 with 1 Axes>"
      ]
     },
     "metadata": {},
     "output_type": "display_data"
    }
   ],
   "source": [
    "y_pred_proba = pipeline.predict_proba(X_test)\n",
    "preds = y_pred_proba[:,1]\n",
    "fpr, tpr, thresholds = metrics.roc_curve(y_test, preds)\n",
    "roc_auc = metrics.auc(fpr, tpr)\n",
    "plt.title('Receiver Operating Characteristic')\n",
    "plt.plot(fpr, tpr, 'b', label = 'AUC = %0.2f' % roc_auc)\n",
    "plt.legend(loc = 'lower right')\n",
    "plt.plot([0, 1], [0, 1],'r--')\n",
    "plt.xlim([0, 1])\n",
    "plt.ylim([0, 1])\n",
    "plt.ylabel('True Positive Rate')\n",
    "plt.xlabel('False Positive Rate')\n",
    "plt.show()"
   ]
  },
  {
   "cell_type": "markdown",
   "metadata": {},
   "source": [
    "Adding these features didn't result in a much better model than the SVC on just the abstract text. Perhaps adjusting the weights or cleaning the full text and adding other features (such as regulation the event was reported under, or which facility submitted the report) would improve the model."
   ]
  },
  {
   "cell_type": "markdown",
   "metadata": {},
   "source": [
    "### Conclusion\n",
    "I created an SVC and a multinomial Naive Bayes model to classify documents into the categories. The models generally perfomed well, yielding AUC scores above 90.  Improvements to the models include cleaning the text from the rest of the document and adding it to the model, adding features such as regulation and submitter, and extracting semantic features. Another improvement that can be made from a business objective perspective is to change the classification threshold so that if it lies in a more uncertain range, it is flagged so that it can be manually reviewed."
   ]
  }
 ],
 "metadata": {
  "kernelspec": {
   "display_name": "Python 3",
   "language": "python",
   "name": "python3"
  },
  "language_info": {
   "codemirror_mode": {
    "name": "ipython",
    "version": 3
   },
   "file_extension": ".py",
   "mimetype": "text/x-python",
   "name": "python",
   "nbconvert_exporter": "python",
   "pygments_lexer": "ipython3",
   "version": "3.6.6"
  }
 },
 "nbformat": 4,
 "nbformat_minor": 2
}
